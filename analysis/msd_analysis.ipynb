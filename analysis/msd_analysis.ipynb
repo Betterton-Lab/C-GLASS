{
 "cells": [
  {
   "cell_type": "code",
   "execution_count": null,
   "metadata": {},
   "outputs": [],
   "source": [
    "from matplotlib import pyplot as plt\n",
    "import numpy as np\n",
    "import pandas as pd\n",
    "from pathlib import Path\n",
    "from matplotlib.colors import PowerNorm, LogNorm\n",
    "from scipy.spatial.distance import pdist\n",
    "from matplotlib import animation"
   ]
  },
  {
   "cell_type": "code",
   "execution_count": null,
   "metadata": {},
   "outputs": [],
   "source": [
    "from IPython.display import HTML"
   ]
  },
  {
   "cell_type": "code",
   "execution_count": null,
   "metadata": {},
   "outputs": [],
   "source": [
    "def get_params_posits(fname):\n",
    "    fname = Path(fname)\n",
    "    if not fname.exists():\n",
    "        raise RuntimeError(\"File not found\")\n",
    "    if not fname.name.split('.')[-1] == 'analysis' and fname.name.split('.')[-2] == 'msd':\n",
    "        raise RuntimeError(\"File must be a MSD analysis file with the format \"\n",
    "                           \"'<file name>.msd.analysis'\")\n",
    "    params = pd.read_csv(fname, delim_whitespace=True, nrows=1)\n",
    "    posits = pd.read_csv(fname, index_col=0, delim_whitespace=True, skiprows=2)    \n",
    "    n_fils = params.n_filaments[0]\n",
    "    fil_labels = [i for sub in [[\"fil{:04d}\".format(i)] * 6 for i in range(n_fils)] for i in sub]\n",
    "    arrays = [fil_labels, [\"x\", \"y\", \"z\", \"ux\", \"uy\", \"uz\"] * n_fils]\n",
    "    columns = pd.MultiIndex.from_arrays(arrays, names=[\"filament\", \"coord\"])\n",
    "    posits.columns = columns\n",
    "    return params, posits\n",
    "\n",
    "def get_msd_vcf_from_posits(posits):\n",
    "    \"\"\"Get MSD and VCF from posits\"\"\"\n",
    "    time_len = posits.shape[0]//4\n",
    "    dr2 = np.zeros(time_len * params.n_filaments[0])\n",
    "    du2 = np.zeros(time_len * params.n_filaments[0])\n",
    "    start_times = range(0, posits.shape[0] - time_len, time_len//4)\n",
    "    for start in start_times:\n",
    "        pos = (posits.iloc[start:start+time_len] - posits.iloc[start]).stack('filament').iloc[:, 3:]\n",
    "        u = (posits.iloc[start:start+time_len] - posits.iloc[start]).stack('filament').iloc[:, :3]\n",
    "        dr2 = dr2 + np.sum(pos.values**2, axis=1)\n",
    "        du2 = du2 + np.sum(u.values**2, axis=1)\n",
    "    dr2 /= len(start_times)\n",
    "    du2 /= len(start_times)\n",
    "    pos = pd.DataFrame(dr2, columns=['dr2'], index=pos.index).unstack('filament')\n",
    "    u = pd.DataFrame(du2, columns=['du2'], index=u.index).unstack('filament')\n",
    "    pos.columns = list(range(pos.shape[1]))\n",
    "    u.columns = list(range(u.shape[1]))\n",
    "    pos_mean = pos.mean(axis=1)\n",
    "    pos_stderr = pos.std(axis=1)/np.sqrt(pos.shape[1])\n",
    "    u_mean = u.mean(axis=1)\n",
    "    u_stderr = u.std(axis=1)/np.sqrt(u.shape[1])\n",
    "    return (pos_mean, pos_stderr), (u_mean, u_stderr)\n",
    "\n",
    "def run_msd_analysis(fname, late_time_percentage, show_plots=False, save_plots=False,\n",
    "                     dist_lag_times=[10, 100, 1000], dist_xlims=None):\n",
    "    params, posits = get_params_posits(fname)\n",
    "    assert (late_time_percentage > 0 and late_time_percentage <= 1), (\n",
    "        \"Late time percentage must be a value between 0 and 1\"\n",
    "    )\n",
    "    posit_start = int(late_time_percentage * posits.shape[0])\n",
    "    msd, vcf = get_msd_vcf_from_posits(posits.iloc[posit_start:, :])\n",
    "    if save_plots or show_plots:\n",
    "        fig, ax = plt.subplots(1, 2, figsize=(14, 6))\n",
    "        time = msd[0].index - msd[0].index[0]\n",
    "        ax[0].plot(time, msd[0], label='MSD')\n",
    "        ax[0].fill_between(time, msd[0]-msd[1], msd[0]+msd[1], alpha=0.5, label='s.e.m.')\n",
    "        ax[1].plot(time, vcf[0], label='VCF')\n",
    "        ax[1].fill_between(time, vcf[0]-vcf[1], vcf[0]+vcf[1], alpha=0.5, label='s.e.m.')\n",
    "        ax[0].legend(loc='upper left', fontsize=15)\n",
    "        ax[1].legend(loc='upper left', fontsize=15)\n",
    "        ax[0].set_xlabel(r'$\\tau$', fontsize=18)\n",
    "        ax[1].set_xlabel(r'$\\tau$', fontsize=18)\n",
    "        ax[0].set_ylabel(r'$\\langle (\\mathbf{r}(0) - \\mathbf{r}(t))^2 \\rangle$', fontsize=18)\n",
    "        ax[1].set_ylabel(r'$\\langle (\\mathbf{u}(0) - \\mathbf{u}(t))^2 \\rangle$', fontsize=18)\n",
    "        fig.tight_layout()\n",
    "        ax[0].tick_params(labelsize=15)\n",
    "        ax[1].tick_params(labelsize=15)\n",
    "        if show_plots:\n",
    "            plt.show()\n",
    "        if save_plots:\n",
    "            fig.savefig(Path(fname.parent, fname.name + '.png'), dpi=200, bbox_inches='tight')\n",
    "        plt.close()\n",
    "        plot_lag_time_distributions(fname, posits, lag_times=dist_lag_times, save=save_plots,\n",
    "                                    show=show_plots, dist_xlims=dist_xlims)\n",
    "    return msd, vcf\n",
    "\n",
    "def plot_lag_time_distributions(fname, posits, lag_times=[10, 100, 1000], save=False, \n",
    "                                show=True, dist_xlims=None):\n",
    "    fig, ax = plt.subplots(1, 2, figsize=(12, 6))\n",
    "    plot_lag_time_dists(posits, ax[0], lag_times=lag_times, dimension='x', xlims=dist_xlims)\n",
    "    plot_lag_time_dists(posits, ax[1], lag_times=lag_times, dimension='y', xlims=dist_xlims)\n",
    "    fig.tight_layout()\n",
    "    if show:\n",
    "        plt.show()\n",
    "    if save:\n",
    "        fig.savefig(Path(fname.parent, fname.name + '_lag_time_dists.png'), dpi=300, bbox_inches='tight')\n",
    "    plt.close()\n",
    "\n",
    "def plot_lag_time_dists(posits, ax, lag_times=[10, 100, 1000], dimension='x', xlims=None):\n",
    "    if dimension == 'x':\n",
    "        index = 3\n",
    "    elif dimension == 'y':\n",
    "        index = 4\n",
    "    else:\n",
    "        raise RuntimeError(\"Dimension should be 'x' or 'y'\")\n",
    "    if xlims is not None:\n",
    "        bins = np.linspace(xlims[0], xlims[1], 36)\n",
    "    else:\n",
    "        bins = 35\n",
    "    for T in lag_times:\n",
    "        ax.hist(posits.diff(periods=T).dropna().stack('filament').iloc[:, index].values,\n",
    "                bins=bins, density=True, histtype='step', linewidth=2, label=T)\n",
    "    ax.set_xlabel(r'$\\Delta$' + dimension + r'($\\tau$)', fontsize=18)\n",
    "    ax.set_ylabel(r'P($\\Delta$' + dimension + r'($\\tau$))', fontsize=18)\n",
    "    legend = ax.legend(loc='upper right', title=r'$\\tau$', fontsize=15)\n",
    "    ax.tick_params(labelsize=15)\n",
    "    legend.get_title().set_fontsize('18')\n",
    "\n",
    "def run_cluster_msd_analysis(fname, lifetime_min, show_plots=True, save_plots=False, drop_nans=True):\n",
    "    df = pd.read_csv(fname, delim_whitespace=True)\n",
    "    lifetimes = df.groupby('cluster_label').count().sort_values(by='time', ascending=False).time\n",
    "    long_lived_labels = lifetimes[lifetimes > lifetime_min].index\n",
    "    dr2_df = None\n",
    "    for label in long_lived_labels:\n",
    "        dr2_df = get_msd_vcf_from_cluster(df.loc[df['cluster_label'] == label], dr2_df)\n",
    "    if drop_nans:\n",
    "        dr2_df = dr2_df.dropna()\n",
    "    dr2_mean = dr2_df.mean(axis=1)\n",
    "    dr2_std = dr2_df.std(axis=1)/np.sqrt(dr2_df.shape[1])\n",
    "\n",
    "    if save_plots or show_plots:\n",
    "        fig = plt.figure(figsize=(6, 4))\n",
    "        ax = fig.gca()\n",
    "        time = dr2_df.index\n",
    "        ax.plot(time, dr2_mean, label='MSD')\n",
    "        ax.fill_between(time, dr2_mean-dr2_std, dr2_mean+dr2_std, alpha=0.5, label='s.e.m.')\n",
    "        ax.legend(loc='upper left', fontsize=15)\n",
    "        ax.set_xlabel(r'$\\tau$', fontsize=18)\n",
    "        ax.set_ylabel(r'$\\langle (\\mathbf{r}(0) - \\mathbf{r}(t))^2 \\rangle$', fontsize=18)\n",
    "        fig.tight_layout()\n",
    "        ax.tick_params(labelsize=15)\n",
    "        ax.set_title(r\"Filament cluster MSD, $N$ = {}, $n$ = {}\".format(long_lived_labels.shape[0], \n",
    "                                                                        dr2_df.shape[1]), fontsize=20)\n",
    "        if show_plots:\n",
    "            plt.show()\n",
    "        if save_plots:\n",
    "            fig.savefig(Path(fname.parent, fname.name + '.msd.png'), dpi=200, bbox_inches='tight')\n",
    "        plt.close()\n",
    "    return dr2_df\n",
    "            \n",
    "def get_msd_vcf_from_cluster(cluster_df, dr2_df = None):\n",
    "    \"\"\"Get MSD and VCF from cluster posits\"\"\"\n",
    "    assert cluster_df.cluster_label.nunique() == 1, \"Found multiple cluster labels in cluster dataframe\"\n",
    "    time_len = cluster_df.shape[0]//4\n",
    "    if dr2_df is None:\n",
    "        dr2 = np.zeros(time_len)\n",
    "    else:\n",
    "        dr2 = np.zeros(dr2_df.shape[0])\n",
    "        dr2[time_len:] = np.nan\n",
    "    start_times = range(0, cluster_df.shape[0] - time_len, time_len//4)\n",
    "    posits = cluster_df.iloc[:, 3:5]\n",
    "    for i, start in enumerate(start_times):\n",
    "        pos = (posits.iloc[start:start+time_len] - posits.iloc[start])\n",
    "        dr2[:time_len] = np.sum(pos.values**2, axis=1)\n",
    "        if dr2_df is None:\n",
    "            dr2_df = pd.DataFrame(dr2, columns=[cluster_df.cluster_label.iloc[0]],\n",
    "                                  index=cluster_df.time.iloc[:time_len] - cluster_df.time.iloc[0])\n",
    "        else:\n",
    "            dr2_df['{}.{}'.format(cluster_df.cluster_label.iloc[0], i)] = dr2\n",
    "    return dr2_df"
   ]
  },
  {
   "cell_type": "code",
   "execution_count": null,
   "metadata": {},
   "outputs": [],
   "source": [
    "lag_times = [25, 100, 400, 800, 1600, 3200]"
   ]
  },
  {
   "cell_type": "code",
   "execution_count": null,
   "metadata": {},
   "outputs": [],
   "source": [
    "fname = Path(\"ic_nodr_v020_filament_mt.msd.analysis\")\n",
    "msd, vcf = run_msd_analysis(fname, late_time_percentage=0.1,\n",
    "                            save_plots=True, show_plots=True, \n",
    "                            dist_lag_times=lag_times,\n",
    "                            dist_xlims = (-15, 15))"
   ]
  },
  {
   "cell_type": "code",
   "execution_count": null,
   "metadata": {},
   "outputs": [],
   "source": [
    "fname = Path(\"ic_v020_filament_mt.msd.analysis\")\n",
    "msd, vcf = run_msd_analysis(fname, late_time_percentage=0.4,\n",
    "                            save_plots=True, show_plots=True,\n",
    "                            dist_lag_times=lag_times,\n",
    "                            dist_xlims=(-15, 15))"
   ]
  },
  {
   "cell_type": "code",
   "execution_count": null,
   "metadata": {},
   "outputs": [],
   "source": [
    "fname = Path(\"ic_nodr_v037_filament_mt.msd.analysis\")\n",
    "msd, vcf = run_msd_analysis(fname, late_time_percentage=0.2,\n",
    "                            save_plots=True, show_plots=True,\n",
    "                            dist_lag_times=lag_times,\n",
    "                            dist_xlims=None)"
   ]
  },
  {
   "cell_type": "code",
   "execution_count": null,
   "metadata": {},
   "outputs": [],
   "source": [
    "fname = Path(\"ic_v037_filament_mt.msd.analysis\")\n",
    "msd, vcf = run_msd_analysis(fname, late_time_percentage=0.4,\n",
    "                            save_plots=True, show_plots=True,\n",
    "                            dist_lag_times=lag_times,\n",
    "                            dist_xlims=(-30, 30))"
   ]
  },
  {
   "cell_type": "code",
   "execution_count": null,
   "metadata": {},
   "outputs": [],
   "source": [
    "params, posits = get_params_posits(Path(\"ic_v037_filament_mt.msd.analysis\"))"
   ]
  },
  {
   "cell_type": "code",
   "execution_count": null,
   "metadata": {},
   "outputs": [],
   "source": [
    "posits.head()"
   ]
  },
  {
   "cell_type": "code",
   "execution_count": null,
   "metadata": {},
   "outputs": [],
   "source": [
    "posits = posits.dropna()"
   ]
  },
  {
   "cell_type": "code",
   "execution_count": null,
   "metadata": {},
   "outputs": [],
   "source": [
    "posits = posits.iloc[posits.shape[0]//4:]"
   ]
  },
  {
   "cell_type": "code",
   "execution_count": null,
   "metadata": {},
   "outputs": [],
   "source": [
    "posits_only = posits.stack('filament').iloc[:, 3:5].unstack('filament').reorder_levels(\n",
    "    ['filament', 'coord'], axis=1).sort_index(axis=1)"
   ]
  },
  {
   "cell_type": "code",
   "execution_count": null,
   "metadata": {},
   "outputs": [],
   "source": [
    "def get_lag_diff(posits, lag_time):\n",
    "    return posits.diff(periods=lag_time).dropna().iloc[1:].stack('filament')"
   ]
  },
  {
   "cell_type": "code",
   "execution_count": null,
   "metadata": {},
   "outputs": [],
   "source": [
    "lag_times = np.exp(np.linspace(0, 9, 40))\n",
    "lag_times[0] = 0\n",
    "lag_times = np.unique([int(t) for t in lag_times])\n",
    "hists = np.array([np.histogram2d(diff.x, diff.y, bins=np.linspace(-20, 20, 100), density=True)[0]\n",
    "                  for diff in\n",
    "                  [get_lag_diff(posits_only, int(T)) for T in lag_times]])"
   ]
  },
  {
   "cell_type": "code",
   "execution_count": null,
   "metadata": {},
   "outputs": [],
   "source": [
    "font = {'family': 'DejaVu Sans Mono',\n",
    "        'color':  'black',\n",
    "        'weight': 'normal',\n",
    "        'size': 16,\n",
    "        }\n",
    "fig = plt.figure(figsize=(8, 8))\n",
    "ax = fig.gca()\n",
    "cax = ax.imshow(hists[0], cmap=plt.cm.coolwarm, vmin=0, vmax=1, norm=LogNorm(), animated=True, origin='lower')\n",
    "txt = ax.text(0.7, 0.9, r\"$\\tau$ = {:06.02f}\".format(0), fontdict=font,transform=ax.transAxes, \n",
    "              bbox=dict(facecolor='white', alpha=0.8))\n",
    "cbar = fig.colorbar(cax, shrink=0.8, )\n",
    "ax.tick_params(labelsize=13)\n",
    "ax.set_xticks(np.linspace(0, 98, 5))\n",
    "ax.set_xticklabels([str(i) for i in np.linspace(-20, 20, 5)])\n",
    "ax.set_yticks(np.linspace(0, 98, 5))\n",
    "ax.set_yticklabels([str(i) for i in np.linspace(-20, 20, 5)])\n",
    "ax.set_xlabel('x', fontsize=18)\n",
    "ax.set_ylabel('y', fontsize=18)\n",
    "ax.set_title('2D Autocorrelation Distribution Function', fontsize=20)\n",
    "cbar.ax.tick_params(labelsize=14)\n",
    "cbar.ax.set_title(r'$\\rho$', fontsize=20)\n",
    "times = posits.index - posits.index[0]\n",
    "def animate(i):\n",
    "    cax.set_array(hists[i]);\n",
    "    txt.set_text(r\"$\\tau$ = {:06.02f}\".format(times[int(lag_times[i])]))\n",
    "ani = animation.FuncAnimation(\n",
    "    fig, animate, interval=100, frames=range(len(hists)))\n",
    "ani.save(\"ic_v037_vh_self.mp4\")"
   ]
  },
  {
   "cell_type": "code",
   "execution_count": null,
   "metadata": {},
   "outputs": [],
   "source": [
    "HTML(ani.to_html5_video())"
   ]
  },
  {
   "cell_type": "code",
   "execution_count": null,
   "metadata": {},
   "outputs": [],
   "source": [
    "params, posits = get_params_posits(fname)"
   ]
  },
  {
   "cell_type": "code",
   "execution_count": null,
   "metadata": {},
   "outputs": [],
   "source": [
    "pd.DataFrame().unstack()"
   ]
  },
  {
   "cell_type": "code",
   "execution_count": null,
   "metadata": {},
   "outputs": [],
   "source": [
    "posits.head().stack('filament').iloc[:, 3:5].unstack('time').reorder_levels(\n",
    "    ['time', 'coord'], axis=1).sort_index(axis=1)"
   ]
  },
  {
   "cell_type": "code",
   "execution_count": null,
   "metadata": {},
   "outputs": [],
   "source": [
    "posits_only = posits.stack('filament').iloc[:, 3:5].unstack('filament').reorder_levels(\n",
    "    ['filament', 'coord'], axis=1).sort_index(axis=1)\n",
    "posits_by_time = posits_only.stack('filament').unstack('time').reorder_levels(\n",
    "    ['time', 'coord'], axis=1).sort_index(axis=1)"
   ]
  },
  {
   "cell_type": "code",
   "execution_count": null,
   "metadata": {},
   "outputs": [],
   "source": [
    "xperiodic = 50\n",
    "def euclidean_pbc_1d(u, v):\n",
    "    #x = u[0] - v[0]\n",
    "    #if x < 0:\n",
    "    #    x = (x / xperiodic - x // xperiodic - 1) * xperiodic\n",
    "    #else:\n",
    "    #    x = (x / xperiodic - x // xperiodic) * xperiodic\n",
    "    #return x\n",
    "    return u[0] - v[0]"
   ]
  },
  {
   "cell_type": "code",
   "execution_count": null,
   "metadata": {},
   "outputs": [],
   "source": [
    "def my_func(array, xperiodic):\n",
    "    N = array.shape[0]\n",
    "    result = np.zeros(int(N*(N-1)/2))\n",
    "    k = 0\n",
    "    for i in range(N-1):\n",
    "        for j in range(i+1, N):\n",
    "            x = array[i] - array[j]\n",
    "            if (x < 0):\n",
    "                result[k] = (x / xperiodic - x // xperiodic - 1) * xperiodic\n",
    "            else:\n",
    "                result[k] = (x / xperiodic - x // xperiodic) * xperiodic\n",
    "            k+=1"
   ]
  },
  {
   "cell_type": "code",
   "execution_count": null,
   "metadata": {},
   "outputs": [],
   "source": [
    "%%timeit -n1 -r1\n",
    "bins = np.linspace(-15, 15, 100)\n",
    "lag_times = range(10, 10000, 100)\n",
    "\n",
    "x0 = pdist(posits_by_time.iloc[:, 0:2], euclidean_pbc_1d)\n",
    "y0 = pdist(posits_by_time.iloc[:, 1:3], euclidean_pbc_1d)\n",
    "mask = (abs(x0) > 0)\n",
    "hist = np.histogram2d(x0[mask], y0[mask], bins=bins)[0]\n",
    "for i in lag_times:\n",
    "    x0 = pdist(posits_by_time.iloc[:, i:i+2], euclidean_pbc_1d)\n",
    "    y0 = pdist(posits_by_time.iloc[:, i+1:i+3], euclidean_pbc_1d)\n",
    "    x0[x0 < 0] = (x0[x0 < 0] / xperiodic - x0[x0 < 0] // xperiodic) * xperiodic\n",
    "    x0[x0 > 0] = (x0[x0 > 0] / xperiodic - x0[x0 > 0] // xperiodic) * xperiodic\n",
    "    y0[y0 < 0] = (y0[y0 < 0] / xperiodic - y0[y0 < 0] // xperiodic) * xperiodic\n",
    "    y0[y0 > 0] = (y0[y0 > 0] / xperiodic - y0[y0 > 0] // xperiodic) * xperiodic\n",
    "    mask = (abs(x0) > 0)\n",
    "    hist += np.histogram2d(x0[mask], y0[mask], bins=bins)[0]\n",
    "hist /= len(lag_times)+1"
   ]
  },
  {
   "cell_type": "code",
   "execution_count": null,
   "metadata": {},
   "outputs": [],
   "source": [
    "fig = plt.figure(figsize=(8, 8))\n",
    "ax = fig.gca()\n",
    "cax = ax.imshow(hist, cmap=plt.cm.coolwarm, vmin=0, vmax=1, norm=PowerNorm(1), animated=True, origin='lower')\n",
    "cbar = fig.colorbar(cax, shrink=0.8, )\n",
    "ax.tick_params(labelsize=13)\n",
    "ax.set_xticks(np.linspace(0, 98, 5))\n",
    "ax.set_xticklabels([str(i) for i in np.linspace(-20, 20, 5)])\n",
    "ax.set_yticks(np.linspace(0, 98, 5))\n",
    "ax.set_yticklabels([str(i) for i in np.linspace(-20, 20, 5)])\n",
    "ax.set_xlabel('x', fontsize=18)\n",
    "ax.set_ylabel('y', fontsize=18)\n",
    "cbar.ax.tick_params(labelsize=14)\n",
    "cbar.ax.set_title(r'$\\rho$', fontsize=20)\n",
    "ax.set_title('2D Pair Distribution Function', fontsize=18)\n",
    "#fig.savefig('ic_v037_pdf.png', dpi=300)\n",
    "plt.show()"
   ]
  },
  {
   "cell_type": "code",
   "execution_count": null,
   "metadata": {},
   "outputs": [],
   "source": [
    "x0[abs(x0)>0].shape"
   ]
  },
  {
   "cell_type": "code",
   "execution_count": null,
   "metadata": {},
   "outputs": [],
   "source": [
    "y0[abs(y0)>0].shape"
   ]
  },
  {
   "cell_type": "code",
   "execution_count": null,
   "metadata": {},
   "outputs": [],
   "source": []
  },
  {
   "cell_type": "code",
   "execution_count": null,
   "metadata": {},
   "outputs": [],
   "source": [
    "params"
   ]
  },
  {
   "cell_type": "code",
   "execution_count": null,
   "metadata": {},
   "outputs": [],
   "source": [
    "x0[x0>0].shape"
   ]
  },
  {
   "cell_type": "code",
   "execution_count": null,
   "metadata": {},
   "outputs": [],
   "source": [
    "x0.shape"
   ]
  },
  {
   "cell_type": "code",
   "execution_count": null,
   "metadata": {},
   "outputs": [],
   "source": [
    "fname = Path('ic_v037_filament_mt.van_hove_distinct.analysis')\n",
    "vh_params = pd.read_csv(fname, delim_whitespace=True, nrows=1)\n",
    "lag_times = pd.read_csv(fname, delim_whitespace=True, skiprows=3, header=None, nrows=1)\n",
    "n_samples = pd.read_csv(fname, delim_whitespace=True, skiprows=5, header=None, nrows=1)\n",
    "data = pd.read_csv(fname, delim_whitespace=True, skiprows=6, header=None)\n",
    "n_bins_1d = vh_params.n_bins_1d.iloc[0]\n",
    "n_frames = vh_params.n_frames.iloc[0]\n",
    "lag_times = lag_times.iloc[0].values\n",
    "n_samples = n_samples.iloc[0].values\n",
    "n_fil = 232\n",
    "data = data.values\n",
    "data_distinct = []\n",
    "for i in range(n_frames):\n",
    "    data_distinct.append(data[i*n_bins_1d:i*n_bins_1d+n_bins_1d])\n",
    "data_distinct = np.array(data_distinct)"
   ]
  },
  {
   "cell_type": "code",
   "execution_count": null,
   "metadata": {},
   "outputs": [],
   "source": [
    "fname = Path('ic_v037_filament_mt.van_hove_self.analysis')\n",
    "vh_params = pd.read_csv(fname, delim_whitespace=True, nrows=1)\n",
    "lag_times = pd.read_csv(fname, delim_whitespace=True, skiprows=3, header=None, nrows=1)\n",
    "n_samples = pd.read_csv(fname, delim_whitespace=True, skiprows=5, header=None, nrows=1)\n",
    "data = pd.read_csv(fname, delim_whitespace=True, skiprows=6, header=None)\n",
    "n_bins_1d = vh_params.n_bins_1d.iloc[0]\n",
    "n_frames = vh_params.n_frames.iloc[0]\n",
    "lag_times = lag_times.iloc[0].values\n",
    "n_samples = n_samples.iloc[0].values\n",
    "n_fil = 232\n",
    "data = data.values\n",
    "data_self = []\n",
    "for i in range(n_frames):\n",
    "    data_self.append(data[i*n_bins_1d:i*n_bins_1d+n_bins_1d])\n",
    "data_self = np.array(data_self)"
   ]
  },
  {
   "cell_type": "code",
   "execution_count": null,
   "metadata": {},
   "outputs": [],
   "source": [
    "data = data_self + data_distinct\n",
    "data_F = []\n",
    "for i in range(n_frames):\n",
    "    data_F.append(np.fft.fftshift(np.fft.fft2(data[i])))\n",
    "data_F = np.absolute(data_F)"
   ]
  },
  {
   "cell_type": "code",
   "execution_count": null,
   "metadata": {},
   "outputs": [],
   "source": [
    "data_S = np.fft.fft(data_F, axis=0)\n",
    "data_S = np.absolute(data_S)"
   ]
  },
  {
   "cell_type": "code",
   "execution_count": null,
   "metadata": {},
   "outputs": [],
   "source": [
    "data=data_S\n",
    "vmax = (1.05*dat.max() if dat.max() < 0.9 else 1)\n",
    "vmax = 5"
   ]
  },
  {
   "cell_type": "code",
   "execution_count": null,
   "metadata": {},
   "outputs": [],
   "source": [
    "offset = 0\n",
    "font = {'family': 'DejaVu Sans Mono',\n",
    "        'color':  'black',\n",
    "        'weight': 'normal',\n",
    "        'size': 16,\n",
    "        }\n",
    "fig = plt.figure(figsize=(8, 8))\n",
    "ax = fig.gca()\n",
    "cax = ax.imshow(data[0, offset:n_bins_1d-offset, offset:n_bins_1d-offset],\n",
    "                cmap=plt.cm.coolwarm, vmin=0, vmax=vmax, norm=PowerNorm(1),\n",
    "                animated=True, origin='lower')\n",
    "txt = ax.text(0.7, 0.9, r\"$\\tau$ = {:06.02f}\".format(0),\n",
    "              fontdict=font,transform=ax.transAxes,\n",
    "              bbox=dict(facecolor='white', alpha=0.8))\n",
    "cbar = fig.colorbar(cax, shrink=0.8, )\n",
    "ax.tick_params(labelsize=13)\n",
    "ticks = np.linspace(-(n_bins_1d-2*offset-1)/4, (n_bins_1d-2*offset-1)/4, 5)\n",
    "ax.set_xticks(np.linspace(0, n_bins_1d-2*offset-1, 5))\n",
    "ax.set_xticklabels([str(i) for i in ticks])\n",
    "ax.set_yticks(np.linspace(0, n_bins_1d-2*offset-1, 5))\n",
    "ax.set_yticklabels([str(i) for i in ticks])\n",
    "ax.set_xlabel('x', fontsize=18)\n",
    "ax.set_ylabel('y', fontsize=18)\n",
    "ax.set_title('2D Autocorrelation Distribution Function', fontsize=20)\n",
    "cbar.ax.tick_params(labelsize=14)\n",
    "cbar.ax.set_title(r'$\\rho$', fontsize=20)\n",
    "times = posits.index - posits.index[0]\n",
    "def animate(i):\n",
    "    cax.set_array(data[i, offset:n_bins_1d-offset, offset:n_bins_1d-offset])\n",
    "    txt.set_text(r\"$\\tau$ = {:06.02f}\".format(lag_times[i]))\n",
    "ani = animation.FuncAnimation(\n",
    "    fig, animate, interval=100, frames=n_frames-2)\n",
    "#ani.save(\"ic_v037_vh_self.mp4\")"
   ]
  },
  {
   "cell_type": "code",
   "execution_count": null,
   "metadata": {},
   "outputs": [],
   "source": [
    "HTML(ani.to_html5_video())"
   ]
  },
  {
   "cell_type": "code",
   "execution_count": null,
   "metadata": {},
   "outputs": [],
   "source": []
  }
 ],
 "metadata": {
  "kernelspec": {
   "display_name": "Python 3",
   "language": "python",
   "name": "python3"
  },
  "language_info": {
   "codemirror_mode": {
    "name": "ipython",
    "version": 3
   },
   "file_extension": ".py",
   "mimetype": "text/x-python",
   "name": "python",
   "nbconvert_exporter": "python",
   "pygments_lexer": "ipython3",
   "version": "3.8.1"
  }
 },
 "nbformat": 4,
 "nbformat_minor": 4
}
