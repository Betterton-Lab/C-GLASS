{
 "cells": [
  {
   "cell_type": "code",
   "execution_count": null,
   "metadata": {
    "collapsed": true
   },
   "outputs": [],
   "source": [
    "import matplotlib\n",
    "import numpy as np\n",
    "from scipy import stats\n",
    "# matplotlib.use(\"macosx\")\n",
    "import matplotlib.pyplot as plt"
   ]
  },
  {
   "cell_type": "code",
   "execution_count": null,
   "metadata": {
    "collapsed": true
   },
   "outputs": [],
   "source": [
    "ndim=3\n",
    "length=100\n",
    "cl=4\n",
    "lp=\"040k\"\n",
    "#ver=2\n",
    "#f=open(\"../results/\"+str(ndim)+\"d_l0\"+str(length)+\"_lp_\"+lp+\"_cl0\"+str(cl)+\"_filament.diffusion\",'r')\n",
    "#f=open(\"../\"+str(ndim)+\"d_l\"+\"{0:0=3d}\".format(length)+\"_lp\"+lp+\"_cl\"+\"{0:0=2d}\".format(cl)+\"_filament.diffusion\",'r')\n",
    "f=open(\"../results/\"+str(ndim)+\"d_l\"+str(length)+\"_br_rod.diffusion\",'r')\n",
    "#f=open(\"../results/3d_l010_lp010k_cl02_filament.diffusion\",'r')\n",
    "f.readline()\n",
    "line = f.readline()\n",
    "line=line.split()\n",
    "ndim = int(line[0])\n",
    "delta = float(line[1])\n",
    "nsteps = int(line[2])\n",
    "nposit = int(line[3])\n",
    "nobjs = int(line[4])\n",
    "f.readline()\n",
    "time=[]\n",
    "msd=[]\n",
    "msderr=[]\n",
    "vcf=[]\n",
    "vcferr=[]\n",
    "for line in f:\n",
    "    line=line.split()\n",
    "    time.append(float(line[0]))\n",
    "    msd.append(float(line[1]))\n",
    "    msderr.append(float(line[2]))\n",
    "    vcf.append(float(line[3]))\n",
    "    vcferr.append(float(line[4]))\n",
    "f.close()"
   ]
  },
  {
   "cell_type": "code",
   "execution_count": null,
   "metadata": {},
   "outputs": [],
   "source": [
    "dMean = np.log(length)/length\n",
    "tm = np.linspace(time[0],time[len(time)-1],1000)\n",
    "theory = lambda t: (2*ndim)*dMean*(0.5*t)\n",
    "print length\n",
    "print ndim\n",
    "#theory = lambda t: 0.01*(2*ndim)*dMean*t\n",
    "plt.figure()\n",
    "plt.plot(time,msd,color='g')\n",
    "plt.errorbar(time,msd,yerr=msderr,color='g')\n",
    "plt.plot(tm,theory(tm),'r-')\n",
    "plt.title(\"WLC MSD,  \"+r'$L/L_p=1000$')\n",
    "plt.xlabel(r'$t$',fontsize=16)\n",
    "plt.ylabel(r'$\\langle (\\vec{r}(t)-\\vec{r}(0))^2 \\rangle$',fontsize=16)\n",
    "#plt.xlim(0,2)\n",
    "#plt.ylim(0,0.02)\n",
    "plt.legend([\"Sim\",\"Theory\"],loc=0)\n",
    "plt.savefig('../../Desktop/foo.png',bbox_inches=\"tight\")\n",
    "plt.show()"
   ]
  },
  {
   "cell_type": "code",
   "execution_count": null,
   "metadata": {},
   "outputs": [],
   "source": [
    "#dRot=9.0*(2*np.log(2*length)-1)/(2*length**3)\n",
    "dRot=9.0*np.log(length)/length**3\n",
    "# Semiflexible chain theory (works for Lp/L ~ 1)\n",
    "#Lp = 20\n",
    "#dRot=1.0/(2*Lp)\n",
    "tm = np.linspace(time[0],time[len(time)-1],1000)\n",
    "theory = lambda t: np.exp(-dRot*(t))\n",
    "#theory = lambda t: np.exp(-0.15*dRot*(0.5*t))\n",
    "#vcf2=[]\n",
    "#time2=[]\n",
    "#for i in time:\n",
    "#    time2.append(i*dRot)\n",
    "#for i in vcf:\n",
    "#    vcf2.append(2-2*i)\n",
    "#theory = lambda t: 2*t\n",
    "#plt.errorbar(time,meanOrientation,yerr=sems)\n",
    "#plt.plot(time,vcf)\n",
    "plt.plot(time,vcf)\n",
    "plt.errorbar(time,vcf,yerr=vcferr)\n",
    "plt.plot(tm, theory(tm),'r-')\n",
    "plt.title(\"Flexible filament VCF \"+r'$\\langle \\vec{u}(t)\\cdot\\vec{u}(0) \\rangle$')\n",
    "plt.legend([\"Sim\",\"Theory\"],loc=0)\n",
    "plt.show()"
   ]
  },
  {
   "cell_type": "code",
   "execution_count": null,
   "metadata": {
    "collapsed": true
   },
   "outputs": [],
   "source": []
  },
  {
   "cell_type": "code",
   "execution_count": null,
   "metadata": {
    "collapsed": true
   },
   "outputs": [],
   "source": [
    "f=open(\"../2d.br_rod.posit.diffusion\",'r')\n",
    "f.readline()\n",
    "line = f.readline()\n",
    "line=line.split()\n",
    "ndim = int(line[0])\n",
    "delta = float(line[1])\n",
    "nsteps = int(line[2])\n",
    "nposit = int(line[3])\n",
    "nobjs = int(line[4])\n",
    "f.readline()\n",
    "time=[]\n",
    "msd=[]\n",
    "msderr=[]\n",
    "vcf=[]\n",
    "vcferr=[]\n",
    "for line in f:\n",
    "    line=line.split()\n",
    "    time.append(float(line[0]))\n",
    "    msd.append(float(line[1]))\n",
    "    msderr.append(float(line[2]))\n",
    "    vcf.append(float(line[3]))\n",
    "    vcferr.append(float(line[4]))\n",
    "f.close()"
   ]
  },
  {
   "cell_type": "code",
   "execution_count": null,
   "metadata": {},
   "outputs": [],
   "source": [
    "length=10\n",
    "dMean = np.log(length)/length\n",
    "tm = np.linspace(time[0],time[len(time)-1],1000)\n",
    "theory = lambda t: 4*dMean*t\n",
    "plt.errorbar(time,msd,yerr=msderr)\n",
    "plt.plot(time,msd,'b-')\n",
    "plt.plot(tm,theory(tm),'r-')\n",
    "plt.title(\"Rigid rod MSD \"+r'$\\langle (\\vec{r}(t)-\\vec{r}(0))^2 \\rangle$')\n",
    "plt.legend([\"Sim\",\"Theory\"],loc=0)\n",
    "plt.show()"
   ]
  },
  {
   "cell_type": "code",
   "execution_count": null,
   "metadata": {},
   "outputs": [],
   "source": [
    "length=100\n",
    "dRot=9.0*np.log(length)/(length)**3\n",
    "tm = np.linspace(time[0],time[len(time)-1],1000)\n",
    "theory = lambda t: np.exp(-(ndim-1)*dRot*t)\n",
    "#plt.errorbar(time,meanOrientation,yerr=sems)\n",
    "plt.errorbar(time,vcf,yerr=vcferr)\n",
    "plt.plot(time,vcf,'b-')\n",
    "plt.plot(tm, theory(tm),'r-')\n",
    "plt.title(\"WLC VCF \"+r'$\\langle \\vec{u}(t)\\cdot\\vec{u}(0) \\rangle$, L=100')\n",
    "plt.legend([\"Sim\",\"Theory\"],loc=0)\n",
    "plt.savefig(\"../../Desktop/vcf.png\",bbox_inches=\"tight\")\n",
    "plt.show()"
   ]
  },
  {
   "cell_type": "code",
   "execution_count": null,
   "metadata": {
    "collapsed": true
   },
   "outputs": [],
   "source": [
    "f=open(\"../2d.br_bead.posit.diffusion\",'r')\n",
    "f.readline()\n",
    "line = f.readline()\n",
    "line=line.split()\n",
    "ndim = int(line[0])\n",
    "delta = float(line[1])\n",
    "nsteps = int(line[2])\n",
    "nposit = int(line[3])\n",
    "nobjs = int(line[4])\n",
    "f.readline()\n",
    "time=[]\n",
    "msd=[]\n",
    "msderr=[]\n",
    "for line in f:\n",
    "    line=line.split()\n",
    "    time.append(float(line[0]))\n",
    "    msd.append(float(line[1]))\n",
    "    msderr.append(float(line[2]))\n",
    "f.close()"
   ]
  },
  {
   "cell_type": "code",
   "execution_count": null,
   "metadata": {},
   "outputs": [],
   "source": [
    "length=1\n",
    "diffusion=1\n",
    "tm = np.linspace(time[0],time[len(time)-1],1000)\n",
    "theory = lambda t: 4*diffusion*t\n",
    "plt.errorbar(time,msd,yerr=msderr)\n",
    "plt.plot(time,msd,'b-')\n",
    "plt.plot(tm,theory(tm),'r-')\n",
    "plt.title(\"Brownian bead MSD \"+r'$\\langle (\\vec{r}(t)-\\vec{r}(0))^2 \\rangle$')\n",
    "plt.legend([\"Sim\",\"Theory\"],loc=0)\n",
    "plt.show()"
   ]
  },
  {
   "cell_type": "code",
   "execution_count": null,
   "metadata": {
    "collapsed": true
   },
   "outputs": [],
   "source": []
  }
 ],
 "metadata": {
  "kernelspec": {
   "display_name": "Python 3",
   "language": "python",
   "name": "python3"
  },
  "language_info": {
   "codemirror_mode": {
    "name": "ipython",
    "version": 3
   },
   "file_extension": ".py",
   "mimetype": "text/x-python",
   "name": "python",
   "nbconvert_exporter": "python",
   "pygments_lexer": "ipython3",
   "version": "3.6.5"
  }
 },
 "nbformat": 4,
 "nbformat_minor": 1
}
