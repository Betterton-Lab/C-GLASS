{
 "cells": [
  {
   "cell_type": "code",
   "execution_count": 1,
   "metadata": {},
   "outputs": [],
   "source": [
    "import numpy as np\n",
    "from matplotlib import pyplot as plt"
   ]
  },
  {
   "cell_type": "code",
   "execution_count": 148,
   "metadata": {},
   "outputs": [],
   "source": [
    "def kinesin1_velocity(F):\n",
    "    dstep = 8.2\n",
    "    d1 = 4.6\n",
    "    d3 = 0.35\n",
    "    k1 = 4900\n",
    "    k2 = 95\n",
    "    k3 = 260\n",
    "    Fi = 26\n",
    "    kT = 4.114\n",
    "    exp1 = np.exp(-F * d1 / kT)\n",
    "    exp2 = np.exp((-F + Fi) * d3 / kT)\n",
    "    numerator = dstep * k1 * k2 * k3 * exp1 * exp2\n",
    "    denom = k1 * k2 * exp1 + k3 * exp2 * (k1 * exp1 + k2)\n",
    "    return numerator / denom\n",
    "\n",
    "def linear_vdep_model(F, Fstall=6.4):\n",
    "    v0 = kinesin1_velocity(0)\n",
    "    fdep = 1. - (F / Fstall)\n",
    "    if isinstance(fdep, float):\n",
    "        fdep = 1 if fdep > 1 else fdep\n",
    "        fdep = 0 if fdep < 0 else fdep\n",
    "    else:\n",
    "        fdep[fdep < 0] = 0\n",
    "        fdep[fdep > 1] = 1\n",
    "    return v0 * fdep\n",
    "\n",
    "def exp_vdep_model(F, Fstall=4):\n",
    "    if isinstance(F, float) or isinstance(F, int):\n",
    "        Fext = 0 if F < 0 else F\n",
    "    else:\n",
    "        Fext = F.copy()\n",
    "        Fext[Fext<0] = 0\n",
    "    v0 = kinesin1_velocity(0)\n",
    "    fdep = np.exp(-(Fext/Fstall)**2.65)\n",
    "    return v0 * fdep"
   ]
  },
  {
   "cell_type": "code",
   "execution_count": 149,
   "metadata": {},
   "outputs": [],
   "source": [
    "x = np.linspace(-5, 10, 100)\n",
    "y = kinesin1_velocity(x)\n",
    "ym = linear_vdep_model(x)\n",
    "ymexp = exp_vdep_model(x)"
   ]
  },
  {
   "cell_type": "code",
   "execution_count": 150,
   "metadata": {},
   "outputs": [
    {
     "data": {
      "image/png": "[encoded data removed]",
      "text/plain": [
       "<Figure size 432x288 with 1 Axes>"
      ]
     },
     "metadata": {
      "needs_background": "light"
     },
     "output_type": "display_data"
    }
   ],
   "source": [
    "plt.figure()\n",
    "plt.plot(x, y)\n",
    "plt.plot(x, ym)\n",
    "plt.plot(x, ymexp)\n",
    "plt.show()"
   ]
  },
  {
   "cell_type": "code",
   "execution_count": 6,
   "metadata": {},
   "outputs": [
    {
     "name": "stdout",
     "output_type": "stream",
     "text": [
      "734.9390560697758\n"
     ]
    }
   ],
   "source": [
    "print(kinesin1_velocity(0))"
   ]
  },
  {
   "cell_type": "markdown",
   "metadata": {},
   "source": [
    "## Parameters of Kinesin-1\n",
    "v = \"735 nm/s\"  (1.05 sigma per tau)\n",
    "from Examining kinesin processivity within a general gating framework, Andreasson 2015 eLife\n",
    "\n",
    "k_a = \"5 s^-1\" (0.18 per tau)  # per kinesin, so multiply by number concentration at interface of MT\n",
    "From: Membrane-Bound Kinesin Transport and its Applications in Active Matter, 2019 (thesis by Lopes from UC Merced)\n",
    "and ((C. Leduc, O. Campàs, K. B. Zeldovich, A. Roux, P. Jolimaitre, L. Bourel-Bonnet, B. Goud, J.-F. Joanny, P. Bassereau and J. Prost, \"Cooperative extraction of membrane nanotubes by molecular motors,\" Proceedings of the National Academy of Sciences, vol. 101, no. 49, pp. 17096-17101, 2004.)) which found that the association rate per kinesin molecule was about 5 per second\n",
    "\n",
    "k_u = \"0.42 s^-1\" (0.015 per tau)\n",
    "from Direct observation of single kinesin molecules moving along microtubules, Vale, R. D., Funatsu, T., Pierce, D. W., Romberg, L., Harada, Y. & Yanagida, T. (1996) Nature 380 , 451–453. pmid:8602245 \n",
    "\n",
    "f_stall = 6 pN (37.5 in sim units) from references mentioned above (approx)\n",
    "\n",
    "k_spring = 0.3 pN/nm (47 in sim units) (reference from Robert's thesis)\n",
    "\n",
    "fdep_unbind_factor = 0.6 nm (.024 sigma in sim units)\n",
    "\n",
    "rest_length = 60 nm (2.4 in sim units) I'm not worrying about extra distance from center of MT to surface, since the rest length is from structure data and there are probably some entropic considerations"
   ]
  },
  {
   "cell_type": "markdown",
   "metadata": {},
   "source": [
    "## time constant in simulation\n",
    "\n",
    "D = kT/3 pi eta d\n",
    "d = 25 nm\n",
    "kT = 4.114 pN nm\n",
    "eta = 1 Pa. s = 1 * 10^12 * 10^-18 pN nm^-2 s (cytoplasm, reference from Robert's thesis)\n",
    "kT/(eta * d) = nm^2/s\n",
    "tau = 0.0358 s (from below calculation and from Robert's thesis)"
   ]
  },
  {
   "cell_type": "code",
   "execution_count": 188,
   "metadata": {},
   "outputs": [],
   "source": [
    "D = (4.114 / (np.pi * 3 * 1 * 10**12 * 10**-18 * 25))\n",
    "tau = 25**2/D"
   ]
  },
  {
   "cell_type": "code",
   "execution_count": 189,
   "metadata": {},
   "outputs": [
    {
     "data": {
      "text/plain": [
       "0.03579537084030665"
      ]
     },
     "execution_count": 189,
     "metadata": {},
     "output_type": "execute_result"
    }
   ],
   "source": [
    "tau"
   ]
  },
  {
   "cell_type": "code",
   "execution_count": 190,
   "metadata": {},
   "outputs": [
    {
     "data": {
      "text/plain": [
       "0.17897685420153325"
      ]
     },
     "execution_count": 190,
     "metadata": {},
     "output_type": "execute_result"
    }
   ],
   "source": [
    "5*tau"
   ]
  },
  {
   "cell_type": "code",
   "execution_count": 192,
   "metadata": {},
   "outputs": [
    {
     "data": {
      "text/plain": [
       "0.015119999999999998"
      ]
     },
     "execution_count": 192,
     "metadata": {},
     "output_type": "execute_result"
    }
   ],
   "source": [
    "0.18"
   ]
  },
  {
   "cell_type": "code",
   "execution_count": 191,
   "metadata": {},
   "outputs": [
    {
     "data": {
      "text/plain": [
       "0.08399999999999999"
      ]
     },
     "execution_count": 191,
     "metadata": {},
     "output_type": "execute_result"
    }
   ],
   "source": [
    "0.42/5"
   ]
  },
  {
   "cell_type": "code",
   "execution_count": 169,
   "metadata": {},
   "outputs": [
    {
     "data": {
      "text/plain": [
       "0.16455999999999998"
      ]
     },
     "execution_count": 169,
     "metadata": {},
     "output_type": "execute_result"
    }
   ],
   "source": [
    "0.165 pN"
   ]
  },
  {
   "cell_type": "code",
   "execution_count": 198,
   "metadata": {},
   "outputs": [
    {
     "data": {
      "text/plain": [
       "1.05252"
      ]
     },
     "execution_count": 198,
     "metadata": {},
     "output_type": "execute_result"
    }
   ],
   "source": [
    "735/25*0.0358"
   ]
  },
  {
   "cell_type": "code",
   "execution_count": 196,
   "metadata": {},
   "outputs": [
    {
     "data": {
      "text/plain": [
       "37.5"
      ]
     },
     "execution_count": 196,
     "metadata": {},
     "output_type": "execute_result"
    }
   ],
   "source": [
    "6/0.16"
   ]
  },
  {
   "cell_type": "code",
   "execution_count": 201,
   "metadata": {},
   "outputs": [
    {
     "data": {
      "text/plain": [
       "46.875"
      ]
     },
     "execution_count": 201,
     "metadata": {},
     "output_type": "execute_result"
    }
   ],
   "source": [
    "0.3*25/0.16"
   ]
  },
  {
   "cell_type": "code",
   "execution_count": 202,
   "metadata": {},
   "outputs": [
    {
     "data": {
      "text/plain": [
       "0.024"
      ]
     },
     "execution_count": 202,
     "metadata": {},
     "output_type": "execute_result"
    }
   ],
   "source": [
    "0.6/25"
   ]
  },
  {
   "cell_type": "code",
   "execution_count": null,
   "metadata": {},
   "outputs": [],
   "source": []
  }
 ],
 "metadata": {
  "kernelspec": {
   "display_name": "Python 3",
   "language": "python",
   "name": "python3"
  },
  "language_info": {
   "codemirror_mode": {
    "name": "ipython",
    "version": 3
   },
   "file_extension": ".py",
   "mimetype": "text/x-python",
   "name": "python",
   "nbconvert_exporter": "python",
   "pygments_lexer": "ipython3",
   "version": "3.8.1"
  }
 },
 "nbformat": 4,
 "nbformat_minor": 4
}
