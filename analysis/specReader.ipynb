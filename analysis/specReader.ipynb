{
 "cells": [
  {
   "cell_type": "code",
   "execution_count": 3,
   "metadata": {},
   "outputs": [],
   "source": [
    "import pandas as pd\n",
    "import matplotlib.pyplot as plt\n",
    "import numpy as np\n",
    "import struct\n",
    "from mmap import ACCESS_READ, mmap"
   ]
  },
  {
   "cell_type": "code",
   "execution_count": 608,
   "metadata": {},
   "outputs": [],
   "source": [
    "class SpecReader:\n",
    "    \"\"\"TODO.\"\"\"\n",
    "    def __init__(self, spec_file):\n",
    "        \"\"\"TODO.\"\"\"\n",
    "        self.input_file = spec_file\n",
    "        self.output_file = spec_file + \".hr\"\n",
    "        self.made_hr = True\n",
    "        self.bpos = 0\n",
    "        try:\n",
    "            f = open(self.output_file, 'r')\n",
    "            f.close()\n",
    "        except:\n",
    "            self.made_hr = False\n",
    "        \n",
    "        \n",
    "    def write(self, data_array, fout):\n",
    "        \"\"\"TODO.\"\"\"\n",
    "        fout.write(str(data_array[0]))\n",
    "        if len(data_array) > 1:\n",
    "            for datum in data_array[1:]:\n",
    "                fout.write(\" \" + str(datum))\n",
    "        fout.write(\"\\n\")\n",
    "            \n",
    "\n",
    "    def read(self, fmt, buffer):\n",
    "        \"\"\"TODO\"\"\"\n",
    "        old_bpos = self.bpos\n",
    "        self.bpos += struct.calcsize(fmt)\n",
    "        retval = struct.unpack(fmt, buffer[old_bpos:self.bpos])\n",
    "        if len(retval) == 1:\n",
    "            return retval[0]\n",
    "        else:\n",
    "            return retval\n",
    "\n",
    "\n",
    "    def make_human_readable(self):\n",
    "        \"\"\"TODO.\"\"\"\n",
    "\n",
    "        with open(self.input_file, 'rb', 0) as f, mmap(f.fileno(), 0, access=ACCESS_READ) as s, open(self.output_file, 'w+') as fout:\n",
    "\n",
    "            header = self.read('iid', s)\n",
    "            self.write([\"n_steps\", \"n_spec\", \"delta\", \"n_filaments\", \"diameter\", \n",
    "                        \"length\", \"bond_length\", \"persistence_length\", \"n_sites\"], fout)\n",
    "\n",
    "            n_samples = header[0]//header[1]\n",
    "            num = self.read('i', s)\n",
    "            details = self.read('ddd', s)\n",
    "            n_sites = self.read(\"i\", s)\n",
    "            posits = list(self.read('ddd'*n_sites, s))\n",
    "            perlen = self.read('d', s)\n",
    "            self.bpos += struct.calcsize('c')\n",
    "            self.write(list(header) + [num] + list(details) + [perlen, n_sites], fout)\n",
    "            self.write([\"site_positions_x_y_z\"], fout)\n",
    "            for fil in range(1, num):\n",
    "                self.bpos += struct.calcsize('dddi')\n",
    "                posits += list(self.read(\"ddd\"*n_sites, s))\n",
    "                self.bpos += struct.calcsize('dc')\n",
    "            self.write(posits, fout)\n",
    "            for sample in range(1, n_samples):\n",
    "                self.bpos += struct.calcsize('i')\n",
    "                posits = []\n",
    "                for fil in range(num):\n",
    "                    self.bpos += struct.calcsize('dddi')\n",
    "                    posits += list(self.read(\"ddd\"*n_sites, s))\n",
    "                    self.bpos += struct.calcsize('dc')\n",
    "                self.write(posits, fout)\n",
    "        self.made_hr = True\n",
    "        self.bpos = 0\n",
    "\n",
    "#struct\n",
    "    def get_params_specs(self):\n",
    "        \"\"\"TODO.\"\"\"\n",
    "        if (self.made_hr):\n",
    "            params = pd.read_csv(self.output_file, delim_whitespace=True, nrows=1)\n",
    "            specs = pd.read_csv(self.output_file, skiprows=3, delim_whitespace=True, header=None, )\n",
    "            n_sites = params.n_sites[0]\n",
    "            n_fils = params.n_filaments[0]\n",
    "            fil_labels = [i for sub in [['fil{:03d}'.format(i)]*3*n_sites for i in range(n_fils)] for i in sub]\n",
    "            site_labels = [i for sub in [['site{:03d}'.format(i)]*3 for i in range(n_sites)]*n_fils for i in sub]\n",
    "            arrays = [fil_labels, site_labels, ['x', 'y', 'z']*n_sites*n_fils]\n",
    "            columns = pd.MultiIndex.from_arrays(arrays, names=['filament', 'site', 'coord'])\n",
    "            specs.columns = columns\n",
    "            specs.index.name = 'time'\n",
    "            return params, specs\n",
    "        else:\n",
    "            print(\"Error: SpecReader has not yet made human-readable file\")\n",
    "            raise Exception\n",
    "            return None, None"
   ]
  },
  {
   "cell_type": "code",
   "execution_count": 523,
   "metadata": {},
   "outputs": [],
   "source": [
    "sreader = SpecReader('filament_undulation_flex_v004_filament_generic.spec')"
   ]
  },
  {
   "cell_type": "code",
   "execution_count": 524,
   "metadata": {},
   "outputs": [],
   "source": [
    "sreader.make_human_readable();"
   ]
  },
  {
   "cell_type": "code",
   "execution_count": 444,
   "metadata": {},
   "outputs": [],
   "source": [
    "params, specs = sreader.get_params_specs()\n",
    "specs = specs[1:]"
   ]
  },
  {
   "cell_type": "code",
   "execution_count": 926,
   "metadata": {},
   "outputs": [
    {
     "name": "stdout",
     "output_type": "stream",
     "text": [
      "Error: SpecReader has not yet made human-readable file\n"
     ]
    },
    {
     "ename": "ValueError",
     "evalue": "could not broadcast input array from shape (4999,0) into shape (4999,3)",
     "output_type": "error",
     "traceback": [
      "\u001b[0;31m---------------------------------------------------------------------------\u001b[0m",
      "\u001b[0;31mValueError\u001b[0m                                Traceback (most recent call last)",
      "\u001b[0;32m<ipython-input-926-15b09e91583f>\u001b[0m in \u001b[0;36m<module>\u001b[0;34m\u001b[0m\n\u001b[1;32m     20\u001b[0m         \u001b[0mnorms\u001b[0m \u001b[0;34m=\u001b[0m \u001b[0mnp\u001b[0m\u001b[0;34m.\u001b[0m\u001b[0mapply_along_axis\u001b[0m\u001b[0;34m(\u001b[0m\u001b[0mnp\u001b[0m\u001b[0;34m.\u001b[0m\u001b[0mlinalg\u001b[0m\u001b[0;34m.\u001b[0m\u001b[0mnorm\u001b[0m\u001b[0;34m,\u001b[0m \u001b[0;36m1\u001b[0m\u001b[0;34m,\u001b[0m \u001b[0mk\u001b[0m\u001b[0;34m)\u001b[0m\u001b[0;34m\u001b[0m\u001b[0;34m\u001b[0m\u001b[0m\n\u001b[1;32m     21\u001b[0m         \u001b[0mk\u001b[0m \u001b[0;34m/=\u001b[0m \u001b[0mnorms\u001b[0m\u001b[0;34m[\u001b[0m\u001b[0;34m:\u001b[0m\u001b[0;34m,\u001b[0m \u001b[0;32mNone\u001b[0m\u001b[0;34m]\u001b[0m\u001b[0;34m\u001b[0m\u001b[0;34m\u001b[0m\u001b[0m\n\u001b[0;32m---> 22\u001b[0;31m         \u001b[0mu_vecs\u001b[0m\u001b[0;34m[\u001b[0m\u001b[0;34m:\u001b[0m\u001b[0;34m,\u001b[0m \u001b[0;36m3\u001b[0m\u001b[0;34m*\u001b[0m\u001b[0mi\u001b[0m\u001b[0;34m:\u001b[0m\u001b[0;36m3\u001b[0m\u001b[0;34m*\u001b[0m\u001b[0mi\u001b[0m\u001b[0;34m+\u001b[0m\u001b[0;36m3\u001b[0m\u001b[0;34m]\u001b[0m \u001b[0;34m=\u001b[0m \u001b[0mk\u001b[0m\u001b[0;34m\u001b[0m\u001b[0;34m\u001b[0m\u001b[0m\n\u001b[0m\u001b[1;32m     23\u001b[0m         \u001b[0mangles\u001b[0m\u001b[0;34m[\u001b[0m\u001b[0;34m:\u001b[0m\u001b[0;34m,\u001b[0m \u001b[0mi\u001b[0m\u001b[0;34m:\u001b[0m\u001b[0mi\u001b[0m\u001b[0;34m+\u001b[0m\u001b[0;36m1\u001b[0m\u001b[0;34m]\u001b[0m \u001b[0;34m=\u001b[0m \u001b[0mnp\u001b[0m\u001b[0;34m.\u001b[0m\u001b[0marcsin\u001b[0m\u001b[0;34m(\u001b[0m\u001b[0mk\u001b[0m\u001b[0;34m[\u001b[0m\u001b[0;34m:\u001b[0m\u001b[0;34m,\u001b[0m\u001b[0;36m0\u001b[0m\u001b[0;34m]\u001b[0m\u001b[0;34m)\u001b[0m\u001b[0;34m[\u001b[0m\u001b[0;34m:\u001b[0m\u001b[0;34m,\u001b[0m \u001b[0;32mNone\u001b[0m\u001b[0;34m]\u001b[0m \u001b[0;31m#np.apply_along_axis(atan2, 1, k)[:, None]\u001b[0m\u001b[0;34m\u001b[0m\u001b[0;34m\u001b[0m\u001b[0m\n\u001b[1;32m     24\u001b[0m     \u001b[0max\u001b[0m\u001b[0;34m.\u001b[0m\u001b[0mhist\u001b[0m\u001b[0;34m(\u001b[0m\u001b[0;34m(\u001b[0m\u001b[0mnp\u001b[0m\u001b[0;34m.\u001b[0m\u001b[0mdiff\u001b[0m\u001b[0;34m(\u001b[0m\u001b[0mangles\u001b[0m\u001b[0;34m,\u001b[0m \u001b[0mn\u001b[0m\u001b[0;34m=\u001b[0m\u001b[0;36m1\u001b[0m\u001b[0;34m,\u001b[0m \u001b[0maxis\u001b[0m\u001b[0;34m=\u001b[0m\u001b[0;36m0\u001b[0m\u001b[0;34m)\u001b[0m\u001b[0;34m)\u001b[0m\u001b[0;34m.\u001b[0m\u001b[0mflatten\u001b[0m\u001b[0;34m(\u001b[0m\u001b[0;34m)\u001b[0m\u001b[0;34m,\u001b[0m \u001b[0mbins\u001b[0m\u001b[0;34m=\u001b[0m\u001b[0mnp\u001b[0m\u001b[0;34m.\u001b[0m\u001b[0mlinspace\u001b[0m\u001b[0;34m(\u001b[0m\u001b[0;34m-\u001b[0m\u001b[0;36m0.3\u001b[0m\u001b[0;34m,\u001b[0m \u001b[0;36m0.3\u001b[0m\u001b[0;34m,\u001b[0m \u001b[0;36m50\u001b[0m\u001b[0;34m)\u001b[0m\u001b[0;34m,\u001b[0m \u001b[0mlabel\u001b[0m\u001b[0;34m=\u001b[0m\u001b[0mfdr\u001b[0m\u001b[0;34m,\u001b[0m \u001b[0mdensity\u001b[0m\u001b[0;34m=\u001b[0m\u001b[0;32mTrue\u001b[0m\u001b[0;34m)\u001b[0m\u001b[0;34m\u001b[0m\u001b[0;34m\u001b[0m\u001b[0m\n",
      "\u001b[0;31mValueError\u001b[0m: could not broadcast input array from shape (4999,0) into shape (4999,3)"
     ]
    },
    {
     "data": {
      "image/png": "[encoded data removed]",
      "text/plain": [
       "<Figure size 576x864 with 4 Axes>"
      ]
     },
     "metadata": {
      "needs_background": "light"
     },
     "output_type": "display_data"
    }
   ],
   "source": [
    "def atan2(x):\n",
    "    return np.arctan2(x[1], x[0])\n",
    "\n",
    "fig, axes = plt.subplots(4, 1, sharex=True, figsize=(8, 12))\n",
    "for ax, file, fdr in zip(axes, ['filament_undulation_stiff_v{:03d}_filament_generic.spec'.format(i) for i in range(0,9,3)], [0, 0.3, 3, 30]):\n",
    "    sreader = SpecReader(file)\n",
    "    try:\n",
    "        params, specs = sreader.get_params_specs()\n",
    "    except:\n",
    "        sreader.make_human_readable()\n",
    "        params, specs = sreader.get_params_specs()\n",
    "    specs = specs[1:]\n",
    "    num = params.n_filaments[0]\n",
    "    n_samples = params.n_steps[0]//params.n_spec[0] - 1\n",
    "    u_vecs = np.zeros((n_samples, num*3))\n",
    "    angles = np.zeros((n_samples, num))\n",
    "    inc = 27*3\n",
    "    for i in range(num):\n",
    "        k = specs.iloc[:, i*inc+24:i*inc+27].values - specs.iloc[:, i*inc+21:i*inc+24].values\n",
    "        norms = np.apply_along_axis(np.linalg.norm, 1, k)\n",
    "        k /= norms[:, None]\n",
    "        u_vecs[:, 3*i:3*i+3] = k\n",
    "        angles[:, i:i+1] = np.arcsin(k[:,0])[:, None] #np.apply_along_axis(atan2, 1, k)[:, None]\n",
    "    ax.hist((np.diff(angles, n=1, axis=0)).flatten(), bins=np.linspace(-0.3, 0.3, 50), label=fdr, density=True)\n",
    "    #ax.hist(angles.flatten(), bins=50, label=fdr)\n",
    "    ax.legend(loc='best')\n",
    "    ax.set_xlim(-0.3,0.3)\n",
    "    fig.tight_layout()\n",
    "    fig.suptitle('Lp = {}'.format(int(params.persistence_length[0])))\n",
    "    fig.savefig('undulation_lp{:03d}.png'.format(int(params.persistence_length[0])))"
   ]
  },
  {
   "cell_type": "code",
   "execution_count": 436,
   "metadata": {},
   "outputs": [
    {
     "data": {
      "text/plain": [
       "1.5653316989571122"
      ]
     },
     "execution_count": 436,
     "metadata": {},
     "output_type": "execute_result"
    }
   ],
   "source": [
    "angles.max()"
   ]
  },
  {
   "cell_type": "code",
   "execution_count": 437,
   "metadata": {},
   "outputs": [
    {
     "data": {
      "image/png": "[encoded data removed]",
      "text/plain": [
       "<Figure size 432x288 with 1 Axes>"
      ]
     },
     "metadata": {
      "needs_background": "light"
     },
     "output_type": "display_data"
    }
   ],
   "source": [
    "plt.figure()\n",
    "plt.hist(angles.flatten(), bins=50)\n",
    "plt.show()"
   ]
  },
  {
   "cell_type": "code",
   "execution_count": 438,
   "metadata": {},
   "outputs": [
    {
     "data": {
      "image/png": "[encoded data removed]",
      "text/plain": [
       "<Figure size 432x288 with 1 Axes>"
      ]
     },
     "metadata": {
      "needs_background": "light"
     },
     "output_type": "display_data"
    }
   ],
   "source": [
    "plt.figure()\n",
    "plt.hist((np.diff(angles, n=1, axis=0)**2).flatten(), bins=50)\n",
    "plt.show()"
   ]
  },
  {
   "cell_type": "code",
   "execution_count": 944,
   "metadata": {},
   "outputs": [],
   "source": [
    "def plotEnergies(fnames):\n",
    "    fig, ax = plt.subplots(1, 1, figsize=(8, 8))\n",
    "    for fname, fdr in zip(fnames, [0, 0.1, 1, 10]):\n",
    "        sreader = SpecReader(fname)\n",
    "        sreader.make_human_readable()\n",
    "        try:\n",
    "            params, specs = sreader.get_params_specs()\n",
    "        except:\n",
    "            #sreader.make_human_readable()\n",
    "            params, specs = sreader.get_params_specs()\n",
    "        specs = specs[1:]\n",
    "        site_positions=specs.stack(level=[0, 2]).transpose()\n",
    "        bond_diffs = site_positions.diff().dropna().diff().dropna()\n",
    "        bond_diffs.iloc[:, :] = bond_diffs.values**2\n",
    "        angles = bond_diffs.transpose().unstack(level=[0,1]).sum(axis=0)\n",
    "        angles = angles.unstack(level=[0, 2]).swaplevel(axis=1).sort_index(axis=1, level=0)\n",
    "        energies = angles.stack(level=[0]).sum(axis=1)\n",
    "        ax.hist(energies.unstack().values.flatten(), bins=50, label=r'$f_{dr} = $'+ '{}'.format(fdr), density=True, alpha=0.6)\n",
    "    ax.legend(loc='best', fontsize=18)\n",
    "    ax.set_xlabel(\"Bending Energy\", fontsize=20)\n",
    "    ax.set_ylabel(\"Density\", fontsize=20)\n",
    "    fig.savefig(\"bending_energy_lp{:03d}_dr10.png\".format(int(params.persistence_length[0]/params.length[0])))\n",
    "    plt.show()"
   ]
  },
  {
   "cell_type": "code",
   "execution_count": 941,
   "metadata": {},
   "outputs": [
    {
     "data": {
      "text/plain": [
       "['undulation_exam_v000_filament_generic.spec',\n",
       " 'undulation_exam_v001_filament_generic.spec',\n",
       " 'undulation_exam_v002_filament_generic.spec',\n",
       " 'undulation_exam_v003_filament_generic.spec']"
      ]
     },
     "execution_count": 941,
     "metadata": {},
     "output_type": "execute_result"
    }
   ],
   "source": [
    "fnames"
   ]
  },
  {
   "cell_type": "code",
   "execution_count": 946,
   "metadata": {},
   "outputs": [
    {
     "data": {
      "image/png": "[encoded data removed]",
      "text/plain": [
       "<Figure size 576x576 with 1 Axes>"
      ]
     },
     "metadata": {
      "needs_background": "light"
     },
     "output_type": "display_data"
    }
   ],
   "source": [
    "fnames = ['undulation_exam_v{:03d}_filament_generic.spec'.format(i) for i in range(0, 4)]\n",
    "plotEnergies(fnames)"
   ]
  },
  {
   "cell_type": "code",
   "execution_count": 903,
   "metadata": {},
   "outputs": [],
   "source": []
  }
 ],
 "metadata": {
  "kernelspec": {
   "display_name": "Python 3",
   "language": "python",
   "name": "python3"
  },
  "language_info": {
   "codemirror_mode": {
    "name": "ipython",
    "version": 3
   },
   "file_extension": ".py",
   "mimetype": "text/x-python",
   "name": "python",
   "nbconvert_exporter": "python",
   "pygments_lexer": "ipython3",
   "version": "3.8.1"
  }
 },
 "nbformat": 4,
 "nbformat_minor": 4
}
