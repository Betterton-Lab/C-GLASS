{
 "cells": [
  {
   "cell_type": "code",
   "execution_count": null,
   "metadata": {
    "collapsed": true
   },
   "outputs": [],
   "source": [
    "import matplotlib.pyplot as plt\n",
    "import numpy as np\n",
    "import pandas as pd\n",
    "import seaborn as sns\n",
    "import statsmodels.api as sm\n",
    "from os import listdir\n",
    "import re"
   ]
  },
  {
   "cell_type": "code",
   "execution_count": null,
   "metadata": {
    "collapsed": true
   },
   "outputs": [],
   "source": [
    "df=pd.read_csv('soft_pf0.1_sp100_lp100_reduced10_filament.orientation_corr',skiprows=1,delim_whitespace=True)"
   ]
  },
  {
   "cell_type": "code",
   "execution_count": null,
   "metadata": {
    "collapsed": true
   },
   "outputs": [],
   "source": [
    "df['orientation_corr_var'] = df['orientation_corr_sem'].apply(lambda y: y**2)"
   ]
  },
  {
   "cell_type": "code",
   "execution_count": null,
   "metadata": {
    "scrolled": true
   },
   "outputs": [],
   "source": [
    "plt.figure()\n",
    "df.plot(x='time',y='orientation_corr_avg',yerr='orientation_corr_sem',kind='scatter')\n",
    "plt.show()"
   ]
  },
  {
   "cell_type": "code",
   "execution_count": null,
   "metadata": {},
   "outputs": [],
   "source": [
    "gb=df.groupby('time')\n",
    "x=df.time.unique()\n",
    "y=gb.orientation_corr_avg.mean()\n",
    "ysem=np.sqrt(gb.orientation_corr_var.mean())\n",
    "model=sm.GLM(y, x, family=sm.families.Gaussian(sm.families.links.log))\n",
    "fit=model.fit()\n",
    "tau=-1.0/fit.params.x1\n",
    "print(\"tau = %2.5f\" % tau)"
   ]
  },
  {
   "cell_type": "code",
   "execution_count": null,
   "metadata": {},
   "outputs": [],
   "source": [
    "fig,ax = plt.subplots(1,1,figsize=(8,6))\n",
    "ax.errorbar(x,y,yerr=ysem)\n",
    "theory = lambda t: np.exp(-t/tau)\n",
    "ax.plot(x,theory(x),'r')\n",
    "ax.set_ylabel(r\"$\\langle u(0)\\cdot u(t)\\rangle$\",fontsize=18)\n",
    "ax.set_xlabel(\"Time (t)\",fontsize=18)\n",
    "ax.legend([r\"Fit, $\\tau=%2.1f$\" % tau,'Simulation'],fontsize=16)\n",
    "ax.grid(True,linestyle='--')"
   ]
  },
  {
   "cell_type": "code",
   "execution_count": null,
   "metadata": {
    "collapsed": true
   },
   "outputs": [],
   "source": [
    "df=pd.read_csv('soft_pf0.1_sp100_lp100_reduced10_filament.orientation_corr',skiprows=1,delim_whitespace=True)"
   ]
  },
  {
   "cell_type": "code",
   "execution_count": null,
   "metadata": {
    "collapsed": true
   },
   "outputs": [],
   "source": []
  },
  {
   "cell_type": "code",
   "execution_count": null,
   "metadata": {
    "collapsed": true
   },
   "outputs": [],
   "source": [
    "dirName='.'\n",
    "fileNames = [dirName + '/'+i for i in listdir(dirName) if i[-17:] == '.orientation_corr']\n",
    "\n",
    "if len(fileNames)==0:\n",
    "    print(\"No '.orientation_corr' files found in directory '\"+dirName+\"'.\")\n",
    "\n",
    "D = {\"file_name\" : []}\n",
    "for index,name in enumerate(fileNames):\n",
    "    f = open(name,'r')\n",
    "    for i in range(2): colNames = f.readline().split()\n",
    "    if index == 0:\n",
    "        for colName in colNames:\n",
    "            D[colName] = []\n",
    "    D[\"file_name\"].append(name)\n",
    "    simParams = f.readline().split()\n",
    "    for colIndex,colName in enumerate(colNames):\n",
    "        D[colName].append(float(simParams[colIndex]))\n",
    "    f.close()\n",
    "#df = pd.DataFrame(D)"
   ]
  },
  {
   "cell_type": "code",
   "execution_count": null,
   "metadata": {},
   "outputs": [],
   "source": [
    "fileNames"
   ]
  },
  {
   "cell_type": "code",
   "execution_count": null,
   "metadata": {
    "collapsed": true
   },
   "outputs": [],
   "source": [
    "s=set()\n",
    "for i in fileNames:\n",
    "    matchObj = re.search('soft_pf0.\\d{1,2}_sp\\d{3}_lp\\d{3}', i)\n",
    "    #matchObj = re.search('soft_pf0.\\d{1,2}_l\\d{3}_d\\d{3}_sp\\d{3}_lp\\d{3}',i)\n",
    "    if (matchObj != None):\n",
    "        s.add(matchObj.group())\n",
    "if (len(s) == 0):\n",
    "    print('No match found')"
   ]
  },
  {
   "cell_type": "code",
   "execution_count": null,
   "metadata": {
    "collapsed": true
   },
   "outputs": [],
   "source": [
    "dfs = {}\n",
    "for i in s:\n",
    "    dfs[i] = None\n",
    "    for j in fileNames:\n",
    "        if (j[2:len(i)+2]==i):\n",
    "            if (type(dfs[i]) == type(None)):\n",
    "                dfs[i] = pd.read_csv(j,skiprows=1,delim_whitespace=True)\n",
    "            else:\n",
    "                dfs[i] = dfs[i].append(pd.read_csv(j,skiprows=1,delim_whitespace=True),ignore_index=True)"
   ]
  },
  {
   "cell_type": "code",
   "execution_count": null,
   "metadata": {},
   "outputs": [],
   "source": [
    "for fname,df in zip(dfs.keys(),dfs.values()):\n",
    "    if('pf0.1' in fname):\n",
    "        continue\n",
    "    df['orientation_corr_var'] = df['orientation_corr_sem'].apply(lambda y: y**2)\n",
    "    gb=df.groupby('time')\n",
    "    x=df.time.unique()\n",
    "    y=gb.orientation_corr_avg.mean()\n",
    "    ysem=np.sqrt(gb.orientation_corr_var.mean())\n",
    "    model=sm.GLM(y, x, family=sm.families.Gaussian(sm.families.links.log))\n",
    "    fit=model.fit()\n",
    "    tau=-1.0/fit.params.x1\n",
    "    print(\"tau = %2.5f\" % tau)\n",
    "    fig,ax = plt.subplots(1,1,figsize=(8,6))\n",
    "    ax.errorbar(x,y,yerr=ysem)\n",
    "    theory = lambda t: np.exp(-t/tau)\n",
    "    ax.plot(x,theory(x),'r')\n",
    "    ax.set_ylabel(r\"$\\langle u(0)\\cdot u(t)\\rangle$\",fontsize=18)\n",
    "    ax.set_xlabel(\"Time (t)\",fontsize=18)\n",
    "    ax.legend([r\"Fit, $\\tau=%2.2f$\" % tau,'Simulation'],fontsize=16)\n",
    "    ax.grid(True,linestyle='--')\n",
    "    ax.set_title(fname,fontsize=20)"
   ]
  },
  {
   "cell_type": "code",
   "execution_count": null,
   "metadata": {},
   "outputs": [],
   "source": [
    "for df in dfs:\n",
    "    print(df)"
   ]
  },
  {
   "cell_type": "code",
   "execution_count": null,
   "metadata": {},
   "outputs": [],
   "source": [
    "dfs.values()"
   ]
  },
  {
   "cell_type": "code",
   "execution_count": null,
   "metadata": {
    "collapsed": true
   },
   "outputs": [],
   "source": []
  }
 ],
 "metadata": {
  "kernelspec": {
   "display_name": "Python 3",
   "language": "python",
   "name": "python3"
  },
  "language_info": {
   "codemirror_mode": {
    "name": "ipython",
    "version": 3
   },
   "file_extension": ".py",
   "mimetype": "text/x-python",
   "name": "python",
   "nbconvert_exporter": "python",
   "pygments_lexer": "ipython3",
   "version": "3.5.2"
  }
 },
 "nbformat": 4,
 "nbformat_minor": 1
}
