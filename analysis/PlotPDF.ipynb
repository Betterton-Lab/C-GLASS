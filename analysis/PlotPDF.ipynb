{
 "cells": [
  {
   "cell_type": "code",
   "execution_count": null,
   "metadata": {
    "collapsed": true
   },
   "outputs": [],
   "source": [
    "import pandas as pd\n",
    "import numpy as np\n",
    "import matplotlib.pyplot as plt\n",
    "import matplotlib.cm as cm\n",
    "import seaborn as sns\n",
    "\n",
    "def foldedSeries(df,binwidth):\n",
    "    index=int(df.shape[0]/2)\n",
    "    if (df.shape[0]%2!=0):\n",
    "        s=list(df.iloc[index][:index+1])\n",
    "    else:\n",
    "        s=list(df.iloc[index][:index])\n",
    "    s.reverse()\n",
    "    s=0.5*(df.iloc[index][index:]+s)\n",
    "    s.index = binwidth*(s.index-min(s.index))\n",
    "    return s\n",
    "\n",
    "def makeLocalOrderPlots(fname,binwidth,saveFolder):\n",
    "    dfpdf=pd.read_csv(fname+\".local_pdf\",sep=\" \",header=None)\n",
    "    dfpdf=dfpdf.dropna(axis=1)\n",
    "    dfnematic=pd.read_csv(fname+\".local_nematic\",sep=\" \",header=None)\n",
    "    dfnematic=dfnematic.dropna(axis=1)\n",
    "    dfpolar=pd.read_csv(fname+\".local_polar\",sep=\" \",header=None)\n",
    "    dfpolar=dfpolar.dropna(axis=1)\n",
    "\n",
    "    pdfplot=foldedSeries(dfpdf,binwidth)\n",
    "    nemplot=foldedSeries(dfnematic,binwidth)\n",
    "    polplot=foldedSeries(dfpolar,binwidth)\n",
    "\n",
    "    for df in [dfpdf,dfnematic,dfpolar]:\n",
    "        df.index=0.5*(df.index)\n",
    "        df.columns=0.5*(df.columns-1)\n",
    "\n",
    "    fig,ax = plt.subplots(2,3,figsize=(22,7))\n",
    "    sns.heatmap(dfpdf,cmap=cm.binary,ax=ax[0][0])\n",
    "    sns.heatmap(dfnematic,cmap=cm.binary,ax=ax[0][1])\n",
    "    sns.heatmap(dfpolar,cmap=cm.binary,ax=ax[0][2])\n",
    "    pdfplot.plot(ax=ax[1][0])\n",
    "    nemplot.plot(ax=ax[1][1])\n",
    "    polplot.plot(ax=ax[1][2])\n",
    "    ax[0][0].set_title('PDF, $g(r)$')\n",
    "    ax[0][1].set_title('Nematic order, $g_1(r)$')\n",
    "    ax[0][2].set_title('Polar order, $g_2(r)$')\n",
    "    for a in ax[0]:\n",
    "        a.set_xlabel('x')\n",
    "        a.set_ylabel('y')\n",
    "    for a in ax[1]:\n",
    "        a.set_xlabel('x')\n",
    "    ax[1][0].set_ylabel('$g(r_\\perp,r_\\parallel=0)$')\n",
    "    ax[1][1].set_ylabel('$g_1(r_\\perp,r_\\parallel=0)$')\n",
    "    ax[1][2].set_ylabel('$g_2(r_\\perp,r_\\parallel=0)$')\n",
    "    fig.tight_layout()\n",
    "    if (saveFolder[-1] != \"/\"):\n",
    "        saveFolder = saveFolder + \"/\"\n",
    "    saveName = saveFolder+fname+\".png\"\n",
    "    fig.savefig(saveName)"
   ]
  },
  {
   "cell_type": "code",
   "execution_count": null,
   "metadata": {
    "collapsed": true
   },
   "outputs": [],
   "source": [
    "binwidth=0.5\n",
    "saveFolder=\"/Users/jeff/simcore_results/structure/local/\"\n",
    "names=['fjj','fjf']\n",
    "for fname in names:\n",
    "    makeLocalOrderPlots(fname,binwidth,saveFolder)"
   ]
  },
  {
   "cell_type": "code",
   "execution_count": null,
   "metadata": {
    "scrolled": true
   },
   "outputs": [],
   "source": []
  },
  {
   "cell_type": "code",
   "execution_count": null,
   "metadata": {
    "collapsed": true
   },
   "outputs": [],
   "source": [
    "fname=\"fjj\"\n",
    "binwidth=0.5\n",
    "dfpdf=pd.read_csv(fname+\".local_pdf\",sep=\" \",header=None)\n",
    "dfpdf=dfpdf.dropna(axis=1)\n",
    "dfnematic=pd.read_csv(fname+\".local_nematic\",sep=\" \",header=None)\n",
    "dfnematic=dfnematic.dropna(axis=1)\n",
    "dfpolar=pd.read_csv(fname+\".local_polar\",sep=\" \",header=None)\n",
    "dfpolar=dfpolar.dropna(axis=1)\n",
    "\n",
    "pdfplot=foldedSeries(dfpdf,binwidth)\n",
    "nemplot=foldedSeries(dfnematic,binwidth)\n",
    "polplot=foldedSeries(dfpolar,binwidth)\n",
    "\n",
    "dfpdf.index=0.5*(dfpdf.index)\n",
    "dfpdf.columns=0.5*(dfpdf.columns-1)"
   ]
  },
  {
   "cell_type": "code",
   "execution_count": null,
   "metadata": {},
   "outputs": [],
   "source": [
    "fig,ax = plt.subplots(1,3,figsize=(22,7))\n",
    "sns.heatmap(dfpdf,cmap=cm.binary,ax=ax[0])\n",
    "sns.heatmap(dfnematic,cmap=cm.binary,ax=ax[1])\n",
    "sns.heatmap(dfpolar,cmap=cm.binary,ax=ax[2])\n",
    "ax[0].set_title('PDF')\n",
    "ax[1].set_title('Nematic order')\n",
    "ax[2].set_title('Polar order')\n",
    "for a in ax:\n",
    "    a.set_xlabel('x')\n",
    "    a.set_ylabel('y')\n",
    "plt.show()"
   ]
  },
  {
   "cell_type": "code",
   "execution_count": null,
   "metadata": {},
   "outputs": [],
   "source": []
  },
  {
   "cell_type": "code",
   "execution_count": null,
   "metadata": {},
   "outputs": [],
   "source": [
    "s.index"
   ]
  },
  {
   "cell_type": "code",
   "execution_count": null,
   "metadata": {},
   "outputs": [],
   "source": [
    "dfpdf.shape\n",
    "#dfpdf.iloc[index][index+1:].shape"
   ]
  },
  {
   "cell_type": "code",
   "execution_count": null,
   "metadata": {},
   "outputs": [],
   "source": [
    "dfpdf.iloc[index][:index].shape"
   ]
  },
  {
   "cell_type": "code",
   "execution_count": null,
   "metadata": {
    "collapsed": true
   },
   "outputs": [],
   "source": [
    "dfpdf.index=0.5*(dfpdf.index)\n",
    "dfpdf.columns=0.5*(dfpdf.columns-1)"
   ]
  },
  {
   "cell_type": "code",
   "execution_count": null,
   "metadata": {},
   "outputs": [],
   "source": [
    "dfpdf"
   ]
  },
  {
   "cell_type": "code",
   "execution_count": null,
   "metadata": {
    "collapsed": true
   },
   "outputs": [],
   "source": [
    "dfpdf.columns=0.5*dfpdf.columns"
   ]
  },
  {
   "cell_type": "code",
   "execution_count": null,
   "metadata": {},
   "outputs": [],
   "source": [
    "dfpdf"
   ]
  },
  {
   "cell_type": "code",
   "execution_count": null,
   "metadata": {
    "collapsed": true
   },
   "outputs": [],
   "source": []
  }
 ],
 "metadata": {
  "kernelspec": {
   "display_name": "Python 3",
   "language": "python",
   "name": "python3"
  },
  "language_info": {
   "codemirror_mode": {
    "name": "ipython",
    "version": 3
   },
   "file_extension": ".py",
   "mimetype": "text/x-python",
   "name": "python",
   "nbconvert_exporter": "python",
   "pygments_lexer": "ipython3",
   "version": "3.5.2"
  }
 },
 "nbformat": 4,
 "nbformat_minor": 1
}
