{
 "cells": [
  {
   "cell_type": "code",
   "execution_count": 82,
   "metadata": {},
   "outputs": [],
   "source": [
    "from matplotlib import pyplot as plt\n",
    "import numpy as np\n",
    "import pandas as pd\n",
    "import statsmodels.api as sm\n",
    "%matplotlib inline"
   ]
  },
  {
   "cell_type": "code",
   "execution_count": 93,
   "metadata": {
    "collapsed": true
   },
   "outputs": [],
   "source": [
    "file = \"/Users/jeff/simcore/sphero_diffusion_test_spherocylinder.diffusion\"\n",
    "params = pd.read_csv(file,nrows=1,sep=' ')\n",
    "df = pd.read_csv(file,skiprows=2,sep=' ')"
   ]
  },
  {
   "cell_type": "code",
   "execution_count": 94,
   "metadata": {
    "collapsed": true
   },
   "outputs": [],
   "source": [
    "# returns diffusion coefficients for spherocylinders:\n",
    "# returns tuple with d_par, d_perp, d_rot, d_com\n",
    "def spheroDiffusion(params):\n",
    "    l=params.length[0]\n",
    "    d=params.diameter[0]\n",
    "    L=l+d\n",
    "    p=L/d\n",
    "    lnP = np.log(p)\n",
    "    d0 = 3.0*np.pi/L\n",
    "    dPerp = d0/(4*np.pi)*(lnP + 0.839 + 0.185/p + 0.233/p**2)\n",
    "    dPar = d0/(2*np.pi)*(lnP - 0.207 + 0.980/p - 0.133/p**2)\n",
    "    dRot = 3*d0/(np.pi*L**2)*(lnP - 0.662 + 0.917/p - 0.050/p**2)\n",
    "    dCom = (dPar + 2*dPerp)/3.0\n",
    "    return (dPar,dPerp,dRot,dCom)"
   ]
  },
  {
   "cell_type": "code",
   "execution_count": null,
   "metadata": {},
   "outputs": [],
   "source": []
  },
  {
   "cell_type": "code",
   "execution_count": 95,
   "metadata": {},
   "outputs": [
    {
     "data": {
      "text/html": [
       "<table class=\"simpletable\">\n",
       "<caption>OLS Regression Results</caption>\n",
       "<tr>\n",
       "  <th>Dep. Variable:</th>           <td>msd</td>       <th>  R-squared:         </th> <td>   1.000</td> \n",
       "</tr>\n",
       "<tr>\n",
       "  <th>Model:</th>                   <td>OLS</td>       <th>  Adj. R-squared:    </th> <td>   1.000</td> \n",
       "</tr>\n",
       "<tr>\n",
       "  <th>Method:</th>             <td>Least Squares</td>  <th>  F-statistic:       </th> <td>3.882e+07</td>\n",
       "</tr>\n",
       "<tr>\n",
       "  <th>Date:</th>             <td>Thu, 01 Feb 2018</td> <th>  Prob (F-statistic):</th>  <td>  0.00</td>  \n",
       "</tr>\n",
       "<tr>\n",
       "  <th>Time:</th>                 <td>11:44:11</td>     <th>  Log-Likelihood:    </th> <td>  2620.0</td> \n",
       "</tr>\n",
       "<tr>\n",
       "  <th>No. Observations:</th>      <td>  1001</td>      <th>  AIC:               </th> <td>  -5236.</td> \n",
       "</tr>\n",
       "<tr>\n",
       "  <th>Df Residuals:</th>          <td>   999</td>      <th>  BIC:               </th> <td>  -5226.</td> \n",
       "</tr>\n",
       "<tr>\n",
       "  <th>Df Model:</th>              <td>     1</td>      <th>                     </th>     <td> </td>    \n",
       "</tr>\n",
       "<tr>\n",
       "  <th>Covariance Type:</th>      <td>nonrobust</td>    <th>                     </th>     <td> </td>    \n",
       "</tr>\n",
       "</table>\n",
       "<table class=\"simpletable\">\n",
       "<tr>\n",
       "    <td></td>       <th>coef</th>     <th>std err</th>      <th>t</th>      <th>P>|t|</th>  <th>[0.025</th>    <th>0.975]</th>  \n",
       "</tr>\n",
       "<tr>\n",
       "  <th>const</th> <td>   -0.0106</td> <td>    0.001</td> <td>   -9.511</td> <td> 0.000</td> <td>   -0.013</td> <td>   -0.008</td>\n",
       "</tr>\n",
       "<tr>\n",
       "  <th>time</th>  <td>    2.4099</td> <td>    0.000</td> <td> 6230.502</td> <td> 0.000</td> <td>    2.409</td> <td>    2.411</td>\n",
       "</tr>\n",
       "</table>\n",
       "<table class=\"simpletable\">\n",
       "<tr>\n",
       "  <th>Omnibus:</th>       <td>17.666</td> <th>  Durbin-Watson:     </th> <td>   0.039</td>\n",
       "</tr>\n",
       "<tr>\n",
       "  <th>Prob(Omnibus):</th> <td> 0.000</td> <th>  Jarque-Bera (JB):  </th> <td>  13.152</td>\n",
       "</tr>\n",
       "<tr>\n",
       "  <th>Skew:</th>          <td> 0.178</td> <th>  Prob(JB):          </th> <td> 0.00139</td>\n",
       "</tr>\n",
       "<tr>\n",
       "  <th>Kurtosis:</th>      <td> 2.566</td> <th>  Cond. No.          </th> <td>    6.30</td>\n",
       "</tr>\n",
       "</table>"
      ],
      "text/plain": [
       "<class 'statsmodels.iolib.summary.Summary'>\n",
       "\"\"\"\n",
       "                            OLS Regression Results                            \n",
       "==============================================================================\n",
       "Dep. Variable:                    msd   R-squared:                       1.000\n",
       "Model:                            OLS   Adj. R-squared:                  1.000\n",
       "Method:                 Least Squares   F-statistic:                 3.882e+07\n",
       "Date:                Thu, 01 Feb 2018   Prob (F-statistic):               0.00\n",
       "Time:                        11:44:11   Log-Likelihood:                 2620.0\n",
       "No. Observations:                1001   AIC:                            -5236.\n",
       "Df Residuals:                     999   BIC:                            -5226.\n",
       "Df Model:                           1                                         \n",
       "Covariance Type:            nonrobust                                         \n",
       "==============================================================================\n",
       "                 coef    std err          t      P>|t|      [0.025      0.975]\n",
       "------------------------------------------------------------------------------\n",
       "const         -0.0106      0.001     -9.511      0.000      -0.013      -0.008\n",
       "time           2.4099      0.000   6230.502      0.000       2.409       2.411\n",
       "==============================================================================\n",
       "Omnibus:                       17.666   Durbin-Watson:                   0.039\n",
       "Prob(Omnibus):                  0.000   Jarque-Bera (JB):               13.152\n",
       "Skew:                           0.178   Prob(JB):                      0.00139\n",
       "Kurtosis:                       2.566   Cond. No.                         6.30\n",
       "==============================================================================\n",
       "\n",
       "Warnings:\n",
       "[1] Standard Errors assume that the covariance matrix of the errors is correctly specified.\n",
       "\"\"\""
      ]
     },
     "execution_count": 95,
     "metadata": {},
     "output_type": "execute_result"
    }
   ],
   "source": [
    "t = df.time\n",
    "msd = df.msd\n",
    "t = sm.add_constant(t)\n",
    "est = sm.OLS(msd,t)\n",
    "est = est.fit()\n",
    "est.summary()"
   ]
  },
  {
   "cell_type": "code",
   "execution_count": 105,
   "metadata": {},
   "outputs": [
    {
     "data": {
      "text/plain": [
       "[<matplotlib.lines.Line2D at 0x1170949b0>]"
      ]
     },
     "execution_count": 105,
     "metadata": {},
     "output_type": "execute_result"
    },
    {
     "data": {
      "image/png": "[encoded data removed]",
      "text/plain": [
       "<matplotlib.figure.Figure at 0x11675c3c8>"
      ]
     },
     "metadata": {},
     "output_type": "display_data"
    }
   ],
   "source": [
    "#df.plot.scatter(x=\"time\",y=\"msd\",s=0.2)\n",
    "dPar,dPerp,dRot,dCom = spheroDiffusion(params)\n",
    "yTheory=lambda t: 2*params.n_dim[0]*dCom*t\n",
    "yFit=lambda t: est.params[0] + est.params[1]*t\n",
    "xFit=np.linspace(df.time.min(),df.time.max(),2)\n",
    "plt.errorbar(df.time,df.msd,yerr=df.msd_err,errorevery=10)\n",
    "plt.plot(xFit,yFit(xFit),'k--')\n",
    "plt.plot(xFit,yTheory(xFit))"
   ]
  },
  {
   "cell_type": "code",
   "execution_count": 106,
   "metadata": {},
   "outputs": [
    {
     "data": {
      "text/plain": [
       "[<matplotlib.lines.Line2D at 0x114bcb390>,\n",
       " <matplotlib.lines.Line2D at 0x11714c160>]"
      ]
     },
     "execution_count": 106,
     "metadata": {},
     "output_type": "execute_result"
    },
    {
     "data": {
      "image/png": "[encoded data removed]",
      "text/plain": [
       "<matplotlib.figure.Figure at 0x1167635c0>"
      ]
     },
     "metadata": {},
     "output_type": "display_data"
    }
   ],
   "source": [
    "#df.plot.scatter(x=\"time\",y=\"vcf\",s=0.2)\n",
    "plt.errorbar(df.time,df.vcf,yerr=df.vcf_err,errorevery=10)\n",
    "vcfTheory=lambda t: np.exp(-2*dRot*t)\n",
    "tTheory = np.linspace(0,5,20)\n",
    "plt.plot(t,vcfTheory(t))"
   ]
  },
  {
   "cell_type": "code",
   "execution_count": null,
   "metadata": {
    "collapsed": true
   },
   "outputs": [],
   "source": []
  },
  {
   "cell_type": "code",
   "execution_count": null,
   "metadata": {
    "collapsed": true
   },
   "outputs": [],
   "source": []
  },
  {
   "cell_type": "code",
   "execution_count": 103,
   "metadata": {},
   "outputs": [
    {
     "data": {
      "text/plain": [
       "3"
      ]
     },
     "execution_count": 103,
     "metadata": {},
     "output_type": "execute_result"
    }
   ],
   "source": [
    "params.n_dim[0]"
   ]
  },
  {
   "cell_type": "code",
   "execution_count": null,
   "metadata": {
    "collapsed": true
   },
   "outputs": [],
   "source": []
  }
 ],
 "metadata": {
  "kernelspec": {
   "display_name": "Python 3",
   "language": "python",
   "name": "python3"
  },
  "language_info": {
   "codemirror_mode": {
    "name": "ipython",
    "version": 3
   },
   "file_extension": ".py",
   "mimetype": "text/x-python",
   "name": "python",
   "nbconvert_exporter": "python",
   "pygments_lexer": "ipython3",
   "version": "3.6.2"
  }
 },
 "nbformat": 4,
 "nbformat_minor": 1
}
