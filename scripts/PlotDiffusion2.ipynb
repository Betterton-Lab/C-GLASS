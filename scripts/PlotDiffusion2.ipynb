{
 "cells": [
  {
   "cell_type": "code",
   "execution_count": null,
   "metadata": {
    "collapsed": true
   },
   "outputs": [],
   "source": [
    "from matplotlib import pyplot as plt\n",
    "import numpy as np\n",
    "import pandas as pd\n",
    "import statsmodels.api as sm\n",
    "%matplotlib inline"
   ]
  },
  {
   "cell_type": "code",
   "execution_count": null,
   "metadata": {
    "collapsed": true
   },
   "outputs": [],
   "source": [
    "file = \"/Users/jeff/simcore/sphero_diffusion_test_spherocylinder.diffusion\"\n",
    "params = pd.read_csv(file,nrows=1,sep=' ')\n",
    "df = pd.read_csv(file,skiprows=2,sep=' ')"
   ]
  },
  {
   "cell_type": "code",
   "execution_count": null,
   "metadata": {
    "collapsed": true
   },
   "outputs": [],
   "source": [
    "# returns diffusion coefficients for spherocylinders:\n",
    "# returns tuple with d_par, d_perp, d_rot, d_com\n",
    "def spheroDiffusion(params):\n",
    "    l=params.length[0]\n",
    "    d=params.diameter[0]\n",
    "    L=l+d\n",
    "    p=L/d\n",
    "    lnP = np.log(p)\n",
    "    d0 = 3.0*np.pi/L\n",
    "    dPerp = d0/(4*np.pi)*(lnP + 0.839 + 0.185/p + 0.233/p**2)\n",
    "    dPar = d0/(2*np.pi)*(lnP - 0.207 + 0.980/p - 0.133/p**2)\n",
    "    dRot = 3*d0/(np.pi*L**2)*(lnP - 0.662 + 0.917/p - 0.050/p**2)\n",
    "    dCom = (dPar + 2*dPerp)/3.0\n",
    "    return (dPar,dPerp,dRot,dCom)"
   ]
  },
  {
   "cell_type": "code",
   "execution_count": null,
   "metadata": {
    "collapsed": true
   },
   "outputs": [],
   "source": []
  },
  {
   "cell_type": "code",
   "execution_count": null,
   "metadata": {},
   "outputs": [],
   "source": [
    "t = df.time\n",
    "msd = df.msd\n",
    "t = sm.add_constant(t)\n",
    "est = sm.OLS(msd,t)\n",
    "est = est.fit()\n",
    "est.summary()"
   ]
  },
  {
   "cell_type": "code",
   "execution_count": null,
   "metadata": {},
   "outputs": [],
   "source": [
    "#df.plot.scatter(x=\"time\",y=\"msd\",s=0.2)\n",
    "dPar,dPerp,dRot,dCom = spheroDiffusion(params)\n",
    "yTheory=lambda t: 2*params.n_dim[0]*dCom*t\n",
    "yFit=lambda t: est.params[0] + est.params[1]*t\n",
    "xFit=np.linspace(df.time.min(),df.time.max(),2)\n",
    "plt.errorbar(df.time,df.msd,yerr=df.msd_err,errorevery=10)\n",
    "plt.plot(xFit,yFit(xFit),'k--')\n",
    "plt.plot(xFit,yTheory(xFit))"
   ]
  },
  {
   "cell_type": "code",
   "execution_count": null,
   "metadata": {},
   "outputs": [],
   "source": [
    "#df.plot.scatter(x=\"time\",y=\"vcf\",s=0.2)\n",
    "plt.errorbar(df.time,df.vcf,yerr=df.vcf_err,errorevery=10)\n",
    "vcfTheory=lambda t: np.exp(-2*dRot*t)\n",
    "tTheory = np.linspace(0,5,20)\n",
    "plt.plot(t,vcfTheory(t))"
   ]
  },
  {
   "cell_type": "code",
   "execution_count": null,
   "metadata": {
    "collapsed": true
   },
   "outputs": [],
   "source": []
  },
  {
   "cell_type": "code",
   "execution_count": null,
   "metadata": {
    "collapsed": true
   },
   "outputs": [],
   "source": []
  },
  {
   "cell_type": "code",
   "execution_count": null,
   "metadata": {},
   "outputs": [],
   "source": [
    "params.n_dim[0]"
   ]
  },
  {
   "cell_type": "code",
   "execution_count": null,
   "metadata": {
    "collapsed": true
   },
   "outputs": [],
   "source": []
  }
 ],
 "metadata": {
  "kernelspec": {
   "display_name": "Python 3",
   "language": "python",
   "name": "python3"
  },
  "language_info": {
   "codemirror_mode": {
    "name": "ipython",
    "version": 3
   },
   "file_extension": ".py",
   "mimetype": "text/x-python",
   "name": "python",
   "nbconvert_exporter": "python",
   "pygments_lexer": "ipython3",
   "version": "3.6.5"
  }
 },
 "nbformat": 4,
 "nbformat_minor": 1
}
