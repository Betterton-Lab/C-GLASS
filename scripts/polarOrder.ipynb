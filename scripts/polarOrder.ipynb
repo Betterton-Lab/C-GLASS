{
 "cells": [
  {
   "cell_type": "code",
   "execution_count": null,
   "metadata": {
    "collapsed": true
   },
   "outputs": [],
   "source": [
    "import matplotlib.pyplot as plt\n",
    "import numpy as np\n",
    "import pandas as pd\n",
    "import seaborn as sns\n",
    "import math\n",
    "from matplotlib.colors import LogNorm\n",
    "from matplotlib import cm"
   ]
  },
  {
   "cell_type": "code",
   "execution_count": null,
   "metadata": {
    "collapsed": true
   },
   "outputs": [],
   "source": [
    "df=pd.read_csv('/Users/jeff/simcore_files/reduced_pf0.2/condensed_results'\n",
    "               '/soft_pf0.2_sp010_lp100_condensed_filament.polar_order',\n",
    "               skiprows=2,\n",
    "               delim_whitespace=True,\n",
    "               header=None)"
   ]
  },
  {
   "cell_type": "code",
   "execution_count": null,
   "metadata": {},
   "outputs": [],
   "source": [
    "data = df.replace(0,1)\n",
    "data=data/data.sum().sum()\n",
    "min_data = data.min().min()\n",
    "if (min_data == 0):\n",
    "    min_data = 1\n",
    "max_data = data.max().max()\n",
    "log_norm = LogNorm(vmin=min_data, vmax=max_data)\n",
    "cbar_ticks = [math.pow(10, i) for i in range(math.floor(math.log10(min_data)),\n",
    "                                             1+math.ceil(math.log10(max_data)))]\n",
    "sns.heatmap(\n",
    "    data,\n",
    "    norm=log_norm,\n",
    "    cbar_kws={\"ticks\": cbar_ticks},\n",
    "    cmap=cm.viridis\n",
    ")"
   ]
  },
  {
   "cell_type": "code",
   "execution_count": null,
   "metadata": {},
   "outputs": [],
   "source": [
    "data.min().min()"
   ]
  },
  {
   "cell_type": "code",
   "execution_count": null,
   "metadata": {},
   "outputs": [],
   "source": [
    "math.log10(max_data)"
   ]
  },
  {
   "cell_type": "code",
   "execution_count": null,
   "metadata": {},
   "outputs": [],
   "source": [
    "range(math.floor(math.log10(min_data)), 1+math.ceil(math.log10(max_data)))"
   ]
  },
  {
   "cell_type": "code",
   "execution_count": null,
   "metadata": {
    "collapsed": true
   },
   "outputs": [],
   "source": [
    "df=pd.read_csv('./soft_pf0.4_sp025_lp020_reload009_reduced10_filament.polar_order',skiprows=2,delim_whitespace=True,header=None)"
   ]
  },
  {
   "cell_type": "code",
   "execution_count": null,
   "metadata": {},
   "outputs": [],
   "source": [
    "data = df.replace(0,1)\n",
    "data=data/data.sum().sum()\n",
    "min_data = data.min().min()\n",
    "if (min_data == 0):\n",
    "    min_data = 1\n",
    "max_data = data.max().max()\n",
    "log_norm = LogNorm(vmin=min_data, vmax=max_data)\n",
    "cbar_ticks = [math.pow(10, i) for i in range(math.floor(math.log10(min_data)), 1+math.ceil(math.log10(max_data)))]\n",
    "\n",
    "sns.heatmap(\n",
    "    data,\n",
    "    norm=log_norm,\n",
    "    cbar_kws={\"ticks\": cbar_ticks},\n",
    "    cmap=cm.jet\n",
    ")"
   ]
  },
  {
   "cell_type": "code",
   "execution_count": null,
   "metadata": {
    "collapsed": true
   },
   "outputs": [],
   "source": [
    "df=pd.read_csv('./soft_pf0.4_sp015_lp020_reload010_reduced10_filament.polar_order',skiprows=2,delim_whitespace=True,header=None)"
   ]
  },
  {
   "cell_type": "code",
   "execution_count": null,
   "metadata": {},
   "outputs": [],
   "source": [
    "data = df.replace(0,1)\n",
    "data=data/data.sum().sum()\n",
    "min_data = data.min().min()\n",
    "if (min_data == 0):\n",
    "    min_data = 1\n",
    "max_data = data.max().max()\n",
    "log_norm = LogNorm(vmin=min_data, vmax=max_data)\n",
    "cbar_ticks = [math.pow(10, i) for i in range(math.floor(math.log10(min_data)), 1+math.ceil(math.log10(max_data)))]\n",
    "sns.heatmap(\n",
    "    data,\n",
    "    norm=log_norm,\n",
    "    cbar_kws={\"ticks\": cbar_ticks},\n",
    "    cmap=cm.jet\n",
    ")"
   ]
  },
  {
   "cell_type": "code",
   "execution_count": null,
   "metadata": {
    "collapsed": true
   },
   "outputs": [],
   "source": [
    "df=pd.read_csv('soft_pf0.4_sp025_lp020_reload006_reduced10.overlaps',delim_whitespace=True)"
   ]
  },
  {
   "cell_type": "code",
   "execution_count": null,
   "metadata": {},
   "outputs": [],
   "source": [
    "df.n_overlaps.mean()"
   ]
  },
  {
   "cell_type": "code",
   "execution_count": null,
   "metadata": {
    "collapsed": true
   },
   "outputs": [],
   "source": [
    "df=pd.read_csv('soft_pf0.4_sp015_lp020_reload006_reduced10.overlaps',delim_whitespace=True)"
   ]
  },
  {
   "cell_type": "code",
   "execution_count": null,
   "metadata": {},
   "outputs": [],
   "source": [
    "df.n_overlaps.mean()"
   ]
  },
  {
   "cell_type": "code",
   "execution_count": null,
   "metadata": {
    "collapsed": true
   },
   "outputs": [],
   "source": [
    "data = data/(data.sum().sum())"
   ]
  },
  {
   "cell_type": "code",
   "execution_count": null,
   "metadata": {
    "collapsed": true,
    "scrolled": false
   },
   "outputs": [],
   "source": [
    "data=data.drop(0,axis=1)"
   ]
  },
  {
   "cell_type": "code",
   "execution_count": null,
   "metadata": {},
   "outputs": [],
   "source": [
    "data"
   ]
  },
  {
   "cell_type": "code",
   "execution_count": null,
   "metadata": {
    "collapsed": true
   },
   "outputs": [],
   "source": []
  }
 ],
 "metadata": {
  "kernelspec": {
   "display_name": "Python 3",
   "language": "python",
   "name": "python3"
  },
  "language_info": {
   "codemirror_mode": {
    "name": "ipython",
    "version": 3
   },
   "file_extension": ".py",
   "mimetype": "text/x-python",
   "name": "python",
   "nbconvert_exporter": "python",
   "pygments_lexer": "ipython3",
   "version": "3.5.2"
  }
 },
 "nbformat": 4,
 "nbformat_minor": 1
}
