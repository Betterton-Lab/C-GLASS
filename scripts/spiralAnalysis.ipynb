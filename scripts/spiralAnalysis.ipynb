{
 "cells": [
  {
   "cell_type": "code",
   "execution_count": 1,
   "metadata": {
    "collapsed": true
   },
   "outputs": [],
   "source": [
    "import matplotlib\n",
    "import numpy as np\n",
    "import matplotlib.pyplot as plt\n",
    "from pylab import *"
   ]
  },
  {
   "cell_type": "code",
   "execution_count": 56,
   "metadata": {
    "collapsed": false
   },
   "outputs": [],
   "source": [
    "length=40\n",
    "for it in range(0,80,20):\n",
    "    f,axarr = plt.subplots(4,5,figsize=(50,40))\n",
    "    f.subplots_adjust(hspace=0.1)\n",
    "    for ii in range(0,5):\n",
    "        for iii in range (0,4):\n",
    "            i = it+iii+4*ii\n",
    "            maxtime=0\n",
    "            for j in range(0,5):\n",
    "                fname = \"spiral_l\"+'{:03d}'.format(length)+\"_v\"+'{:03d}'.format(i)+\"_r\"+'{:03d}'.format(j)+\"_filament.spiral\"\n",
    "                f=open(fname,'r')\n",
    "                f.readline()\n",
    "                f.readline()\n",
    "                line = f.readline()\n",
    "                line=line.split(' ')\n",
    "                childLength = float(line[1])\n",
    "                persistenceLength = float(line[2])\n",
    "                driving = float(line[3])\n",
    "                angle=[]\n",
    "                time=[]\n",
    "                f.readline()\n",
    "                for line in f:\n",
    "                    line=line.split(' ')\n",
    "                    time.append(0.01*float(line[0]))\n",
    "                    angle.append(float(line[1]))\n",
    "                if (max(time) > maxtime):\n",
    "                    maxtime = max(time)\n",
    "                axarr[iii,ii].plot(time,angle)\n",
    "            axarr[iii,ii].legend([\"r1\",\"r2\",\"r3\",\"r4\",\"r5\"],loc=0)\n",
    "            axarr[iii,ii].set_title('L_p = ' + str(persistenceLength)+\", F_dr = \"+str(driving))\n",
    "            axarr[iii,ii].plot((0,maxtime),(2*np.pi,2*np.pi),'k-')\n",
    "            axarr[iii,ii].set_xlim(0,maxtime)\n",
    "            axarr[iii,ii].grid(True)\n",
    "    plt.savefig(\"/Users/jeff/Desktop/driving\"+str(int(driving))+\".png\",bbox_inches='tight',dpi=100)\n",
    "    plt.close()"
   ]
  },
  {
   "cell_type": "code",
   "execution_count": 51,
   "metadata": {
    "collapsed": false
   },
   "outputs": [
    {
     "name": "stdout",
     "output_type": "stream",
     "text": [
      "0\n",
      "20\n",
      "40\n",
      "60\n"
     ]
    }
   ],
   "source": [
    "length=40\n",
    "for var in range(0,1):\n",
    "    fname = \"spiral_nostoch_l\"+'{:03d}'.format(length)+\"_v\"+'{:03d}'.format(var)+\"_filament.spiral\"\n",
    "    f=open(fname,'r')\n",
    "    f.readline()\n",
    "    f.readline()\n",
    "    line = f.readline()\n",
    "    line=line.split(' ')\n",
    "    childLength = float(line[1])\n",
    "    persistenceLength = float(line[2])\n",
    "    driving = float(line[3])\n",
    "    angle=[]\n",
    "    time=[]\n",
    "    f.readline()\n",
    "    for line in f:\n",
    "        line=line.split(' ')\n",
    "        time.append(0.01*float(line[0]))\n",
    "        angle.append(float(line[1]))\n",
    "    if (max(time) > maxtime):\n",
    "        maxtime = max(time)"
   ]
  },
  {
   "cell_type": "code",
   "execution_count": 2,
   "metadata": {
    "collapsed": false
   },
   "outputs": [],
   "source": [
    "# set up index 'pointers' for persistence length and driving\n",
    "\n",
    "lpIndex={}\n",
    "drIndex={}\n",
    "index=0\n",
    "for i in range(50,3001,50):\n",
    "    lpIndex[i]=index\n",
    "    index+=1\n",
    "index=0\n",
    "for i in range(0,101,5):\n",
    "    drIndex[i]=index\n",
    "    index+=1\n",
    "    \n",
    "array = [[1 for i in range(max(drIndex.values())+1)] for j in range(max(lpIndex.values())+1)]\n",
    "\n",
    "length = 40\n",
    "for var in range(0,840):\n",
    "    fname = \"spiral_nostoch_l\"+'{:03d}'.format(length)+\"_b2_v\"+'{:03d}'.format(var)+\"_filament.spiral\"\n",
    "    f=open(fname,'r')\n",
    "    f.readline()\n",
    "    f.readline()\n",
    "    line = f.readline()\n",
    "    line=line.split(' ')\n",
    "    childLength = float(line[1])\n",
    "    persistenceLength = int(line[2])\n",
    "    driving = int(line[3])\n",
    "    angle=[]\n",
    "    time=[]\n",
    "    f.readline()\n",
    "    for line in f:\n",
    "        line=line.split(' ')\n",
    "        if (float(line[1]) < np.pi):\n",
    "            array[lpIndex[persistenceLength]][drIndex[driving]] = 0\n",
    "            break\n",
    "for var in range(0,420):\n",
    "    fname = \"spiral_nostoch_l\"+'{:03d}'.format(length)+\"_v\"+'{:03d}'.format(var)+\"_filament.spiral\"\n",
    "    f=open(fname,'r')\n",
    "    f.readline()\n",
    "    f.readline()\n",
    "    line = f.readline()\n",
    "    line=line.split(' ')\n",
    "    childLength = float(line[1])\n",
    "    persistenceLength = int(line[2])\n",
    "    driving = int(line[3])\n",
    "    angle=[]\n",
    "    time=[]\n",
    "    f.readline()\n",
    "    for line in f:\n",
    "        line=line.split(' ')\n",
    "        if (float(line[1]) < np.pi):\n",
    "            array[lpIndex[persistenceLength]][drIndex[driving]] = 0\n",
    "            break"
   ]
  },
  {
   "cell_type": "code",
   "execution_count": 3,
   "metadata": {
    "collapsed": false
   },
   "outputs": [
    {
     "data": {
      "image/png": "[encoded data removed]",
      "text/plain": [
       "<matplotlib.figure.Figure at 0x103f38810>"
      ]
     },
     "metadata": {},
     "output_type": "display_data"
    }
   ],
   "source": [
    "#X,Y = np.meshgrid(np.arange(0,101,5),np.arange(50,1001,50))\n",
    "\n",
    "plt.contourf(array)\n",
    "ticks_x = matplotlib.ticker.FuncFormatter(lambda x, pos: '{0:g}'.format(5*x))\n",
    "plt.gca().xaxis.set_major_formatter(ticks_x)\n",
    "\n",
    "ticks_y = matplotlib.ticker.FuncFormatter(lambda x, pos: '{0:g}'.format(x+1))\n",
    "plt.gca().yaxis.set_major_formatter(ticks_y)\n",
    "\n",
    "plt.xlabel(\"Driving\")\n",
    "plt.ylabel(\"Persistence length ratio\")\n",
    "#plt.savefig(\"/Users/jeff/Desktop/driving\"+str(int(driving))+\"_nostoch.png\",bbox_inches='tight',dpi=100)\n",
    "#plt.close()\n",
    "plt.show()"
   ]
  },
  {
   "cell_type": "code",
   "execution_count": 58,
   "metadata": {
    "collapsed": true
   },
   "outputs": [],
   "source": [
    "lp={}\n",
    "dr={}\n",
    "index=0\n",
    "for i in range(50,1001,50):\n",
    "    lp[i]=index\n",
    "    index+=1\n",
    "index=0\n",
    "for i in range(0,101,5):\n",
    "    dr[i]=index\n",
    "    index+=1"
   ]
  },
  {
   "cell_type": "code",
   "execution_count": 77,
   "metadata": {
    "collapsed": false
   },
   "outputs": [],
   "source": [
    "Z=np.array([[1 for i in range(max(dr.values())+1)] for j in range(max(lp.values())+1)],np.int32)"
   ]
  },
  {
   "cell_type": "code",
   "execution_count": 75,
   "metadata": {
    "collapsed": false
   },
   "outputs": [],
   "source": [
    "X,Y=np.meshgrid(np.arange(0,101,5),np.arange(50,1001,50))"
   ]
  },
  {
   "cell_type": "code",
   "execution_count": 80,
   "metadata": {
    "collapsed": false
   },
   "outputs": [
    {
     "data": {
      "image/png": "[encoded data removed]",
      "text/plain": [
       "<matplotlib.figure.Figure at 0x116968090>"
      ]
     },
     "metadata": {},
     "output_type": "display_data"
    }
   ],
   "source": [
    "plt.contourf(Z)\n",
    "plt.show()"
   ]
  },
  {
   "cell_type": "code",
   "execution_count": 50,
   "metadata": {
    "collapsed": false
   },
   "outputs": [
    {
     "data": {
      "text/plain": [
       "1"
      ]
     },
     "execution_count": 50,
     "metadata": {},
     "output_type": "execute_result"
    }
   ],
   "source": [
    "array[lp[1000]][dr[100]]"
   ]
  },
  {
   "cell_type": "code",
   "execution_count": null,
   "metadata": {
    "collapsed": true
   },
   "outputs": [],
   "source": [
    "array[200][1]"
   ]
  },
  {
   "cell_type": "code",
   "execution_count": 55,
   "metadata": {
    "collapsed": false
   },
   "outputs": [],
   "source": []
  },
  {
   "cell_type": "code",
   "execution_count": 57,
   "metadata": {
    "collapsed": false
   },
   "outputs": [
    {
     "data": {
      "text/plain": [
       "50"
      ]
     },
     "execution_count": 57,
     "metadata": {},
     "output_type": "execute_result"
    }
   ],
   "source": [
    "Y[0][0]"
   ]
  },
  {
   "cell_type": "code",
   "execution_count": 73,
   "metadata": {
    "collapsed": false
   },
   "outputs": [
    {
     "data": {
      "text/plain": [
       "array([[1, 1, 1, 1, 1, 1, 1, 1, 1, 1, 1, 1, 1, 1, 1, 1, 1, 1, 1, 1, 1],\n",
       "       [1, 1, 1, 1, 1, 1, 1, 1, 1, 1, 1, 1, 1, 1, 1, 1, 1, 1, 1, 1, 1],\n",
       "       [1, 1, 1, 1, 1, 1, 1, 1, 1, 1, 1, 1, 1, 1, 1, 1, 1, 1, 1, 1, 1],\n",
       "       [1, 1, 1, 1, 1, 1, 1, 1, 1, 1, 1, 1, 1, 1, 1, 1, 1, 1, 1, 1, 1],\n",
       "       [1, 1, 1, 1, 1, 1, 1, 1, 1, 1, 1, 1, 1, 1, 1, 1, 1, 1, 1, 1, 1],\n",
       "       [1, 1, 1, 1, 1, 1, 1, 1, 1, 1, 1, 1, 1, 1, 1, 1, 1, 1, 1, 1, 1],\n",
       "       [1, 1, 1, 1, 1, 1, 1, 1, 1, 1, 1, 1, 1, 1, 1, 1, 1, 1, 1, 1, 1],\n",
       "       [1, 1, 1, 1, 1, 1, 1, 1, 1, 1, 1, 1, 1, 1, 1, 1, 1, 1, 1, 1, 1],\n",
       "       [1, 1, 1, 1, 1, 1, 1, 1, 1, 1, 1, 1, 1, 1, 1, 1, 1, 1, 1, 1, 1],\n",
       "       [1, 1, 1, 1, 1, 1, 1, 1, 1, 1, 1, 1, 1, 1, 1, 1, 1, 1, 1, 1, 1],\n",
       "       [1, 1, 1, 1, 1, 1, 1, 1, 1, 1, 1, 1, 1, 1, 1, 1, 1, 1, 1, 1, 1],\n",
       "       [1, 1, 1, 1, 1, 1, 1, 1, 1, 1, 1, 1, 1, 1, 1, 1, 1, 1, 1, 1, 1],\n",
       "       [1, 1, 1, 1, 1, 1, 1, 1, 1, 1, 1, 1, 1, 1, 1, 1, 1, 1, 1, 1, 1],\n",
       "       [1, 1, 1, 1, 1, 1, 1, 1, 1, 1, 1, 1, 1, 1, 1, 1, 1, 1, 1, 1, 1],\n",
       "       [1, 1, 1, 1, 1, 1, 1, 1, 1, 1, 1, 1, 1, 1, 1, 1, 1, 1, 1, 1, 1],\n",
       "       [1, 1, 1, 1, 1, 1, 1, 1, 1, 1, 1, 1, 1, 1, 1, 1, 1, 1, 1, 1, 1],\n",
       "       [1, 1, 1, 1, 1, 1, 1, 1, 1, 1, 1, 1, 1, 1, 1, 1, 1, 1, 1, 1, 1],\n",
       "       [1, 1, 1, 1, 1, 1, 1, 1, 1, 1, 1, 1, 1, 1, 1, 1, 1, 1, 1, 1, 1],\n",
       "       [1, 1, 1, 1, 1, 1, 1, 1, 1, 1, 1, 1, 1, 1, 1, 1, 1, 1, 1, 1, 1],\n",
       "       [1, 1, 1, 1, 1, 1, 1, 1, 1, 1, 1, 1, 1, 1, 1, 1, 1, 1, 1, 1, 1]], dtype=int32)"
      ]
     },
     "execution_count": 73,
     "metadata": {},
     "output_type": "execute_result"
    }
   ],
   "source": [
    "Z"
   ]
  },
  {
   "cell_type": "code",
   "execution_count": null,
   "metadata": {
    "collapsed": true
   },
   "outputs": [],
   "source": []
  }
 ],
 "metadata": {
  "kernelspec": {
   "display_name": "Python 2",
   "language": "python",
   "name": "python2"
  },
  "language_info": {
   "codemirror_mode": {
    "name": "ipython",
    "version": 2
   },
   "file_extension": ".py",
   "mimetype": "text/x-python",
   "name": "python",
   "nbconvert_exporter": "python",
   "pygments_lexer": "ipython2",
   "version": "2.7.13"
  }
 },
 "nbformat": 4,
 "nbformat_minor": 1
}
