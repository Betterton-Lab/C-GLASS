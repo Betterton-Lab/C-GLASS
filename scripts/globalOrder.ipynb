{
 "cells": [
  {
   "cell_type": "code",
   "execution_count": null,
   "metadata": {
    "collapsed": true
   },
   "outputs": [],
   "source": [
    "import pandas as pd\n",
    "import numpy as np\n",
    "import matplotlib.pyplot as plt\n",
    "from os import listdir\n",
    "import re"
   ]
  },
  {
   "cell_type": "code",
   "execution_count": null,
   "metadata": {
    "collapsed": true
   },
   "outputs": [],
   "source": [
    "def CreateGlobalOrderDF(dirName=\".\"):\n",
    "    \"\"\"\n",
    "    DOCSTRING\n",
    "    \"\"\"\n",
    "    assert isinstance(dirName, str), \"The 'dirName' argument must be a string!\"\n",
    "    fileNames = [dirName+'/'+i for i in listdir(dirName) if i[-13:] == '.global_order']\n",
    "    \n",
    "    if len(fileNames)==0:\n",
    "        print(\"No '.global_order' files found in directory '\"+dirName+\"'.\")\n",
    "        return\n",
    "    \n",
    "    D = {\"file_name\" : []}\n",
    "    for index,name in enumerate(fileNames):\n",
    "        f = open(name,'r')\n",
    "        for i in range(2): colNames = f.readline().split()\n",
    "        if index == 0:\n",
    "            for colName in colNames:\n",
    "                D[colName] = []\n",
    "        D[\"file_name\"].append(name)\n",
    "        simParams = f.readline().split()\n",
    "        for colIndex,colName in enumerate(colNames):\n",
    "            D[colName].append(float(simParams[colIndex]))\n",
    "        f.close()\n",
    "    df = pd.DataFrame(D)\n",
    "    return df\n",
    "\n",
    "def PlotGlobalOrder(dirName,fname):\n",
    "    nameLen = len(fname)\n",
    "    fileNames = [dirName+'/'+i for i in listdir(dirName) if (i[:nameLen] == fname and i[-13:] == '.global_order')]\n",
    "    if len(fileNames) == 0:\n",
    "        print(\"No '.global_order' files with that root file name found\")\n",
    "        return\n",
    "    df = pd.DataFrame()\n",
    "    for name in fileNames:\n",
    "        df = df.append(GetGlobalOrderTimeSequence(name),ignore_index=True)\n",
    "    return df\n",
    "    \n",
    "\n",
    "def GetGlobalOrderTimeSequence(fname):\n",
    "    df = pd.read_csv(fname,sep=' ',skiprows=1,header=0,index_col=0)\n",
    "    return df\n",
    "\n",
    "def maxEig(xx,xy,yx,yy):\n",
    "    return max(np.linalg.eig(np.array([[xx,xy],[yx,yy]]))[0])\n",
    "\n",
    "def CalculateGlobalOrderMagnitudes(df):\n",
    "    df['polar_order_mag'] = np.sqrt(df.polar_order_x**2 + df.polar_order_y**2 + df.polar_order_z**2)\n",
    "    df['nematic_order_mag'] = df.apply(lambda x: maxEig(x['nematic_order_xx'], x['nematic_order_xy'], x['nematic_order_yx'], x['nematic_order_yy']), axis=1)"
   ]
  },
  {
   "cell_type": "code",
   "execution_count": null,
   "metadata": {
    "collapsed": true
   },
   "outputs": [],
   "source": [
    "df = CreateGlobalOrderDF('.')\n",
    "s=set()\n",
    "for i in df.file_name:\n",
    "    #matchObj = re.search('soft_pf0.\\d{1,2}_sp\\d{3}_lp\\d{3}', i)\n",
    "    matchObj = re.search('soft_pf0.\\d{1,2}_l\\d{3}_d\\d{3}_sp\\d{3}_lp\\d{3}',i)\n",
    "    s.add(matchObj.group())"
   ]
  },
  {
   "cell_type": "code",
   "execution_count": null,
   "metadata": {},
   "outputs": [],
   "source": [
    "for fname in s:\n",
    "    df=PlotGlobalOrder('.',fname)\n",
    "    CalculateGlobalOrderMagnitudes(df)\n",
    "    fig,ax = plt.subplots(1,1,figsize=(10,7))\n",
    "    df.plot(x=df.index,y='spiral_order',ax=ax,label='Spiral order magnitude')\n",
    "    df.plot(x=df.index,y='signed_spiral_order',ax=ax,label='Spiral handedness')\n",
    "    ax.set_xlabel(\"Time\",fontsize=18)\n",
    "    ax.set_ylabel(\"Spiral order parameter\",fontsize=18)\n",
    "    ax.set_title(fname,fontsize=20)\n",
    "    ax.legend(fontsize=15)\n",
    "    ax.grid(True)\n",
    "    fig.savefig('/Users/jeff/Desktop/GlobalOrderPlots/'+fname+'_spiral_order.png')\n",
    "    fig,ax = plt.subplots(1,1,figsize=(10,7))\n",
    "    df.plot(x=df.index,y='nematic_order_mag',ax=ax,label='Nematic order')\n",
    "    df.plot(x=df.index,y='polar_order_mag',ax=ax,label='Polar order')\n",
    "    ax.set_xlabel(\"Time\",fontsize=18)\n",
    "    ax.set_ylabel(\"Order parameter\",fontsize=18)\n",
    "    ax.set_title(fname,fontsize=20)\n",
    "    ax.legend(fontsize=15)\n",
    "    ax.grid(True)\n",
    "    fig.savefig('/Users/jeff/Desktop/GlobalOrderPlots/'+fname+'_nematic_order.png')"
   ]
  },
  {
   "cell_type": "code",
   "execution_count": null,
   "metadata": {},
   "outputs": [],
   "source": [
    "\n",
    "plt.show()"
   ]
  },
  {
   "cell_type": "code",
   "execution_count": null,
   "metadata": {},
   "outputs": [],
   "source": [
    "fig,ax = plt.subplots(1,1,figsize=(10,7))\n",
    "df.plot(x=df.index,y='nematic_order_mag',ax=ax,label='Nematic order')\n",
    "df.plot(x=df.index,y='polar_order_mag',ax=ax,label='Polar order')\n",
    "ax.set_xlabel(\"Time\",fontsize=18)\n",
    "ax.set_ylabel(\"Order parameter\",fontsize=18)\n",
    "ax.set_title(fname,fontsize=20)\n",
    "ax.legend(fontsize=15)\n",
    "ax.grid(True)\n",
    "fig.savefig('/Users/jeff/Desktop/'+fname+'nematic_order.png')\n",
    "plt.show()"
   ]
  },
  {
   "cell_type": "code",
   "execution_count": null,
   "metadata": {
    "collapsed": true
   },
   "outputs": [],
   "source": []
  },
  {
   "cell_type": "code",
   "execution_count": null,
   "metadata": {
    "collapsed": true
   },
   "outputs": [],
   "source": []
  },
  {
   "cell_type": "code",
   "execution_count": null,
   "metadata": {
    "collapsed": true
   },
   "outputs": [],
   "source": []
  },
  {
   "cell_type": "code",
   "execution_count": null,
   "metadata": {},
   "outputs": [],
   "source": [
    "for i in s:\n",
    "    print(i)"
   ]
  },
  {
   "cell_type": "code",
   "execution_count": null,
   "metadata": {
    "collapsed": true
   },
   "outputs": [],
   "source": []
  }
 ],
 "metadata": {
  "kernelspec": {
   "display_name": "Python 3",
   "language": "python",
   "name": "python3"
  },
  "language_info": {
   "codemirror_mode": {
    "name": "ipython",
    "version": 3
   },
   "file_extension": ".py",
   "mimetype": "text/x-python",
   "name": "python",
   "nbconvert_exporter": "python",
   "pygments_lexer": "ipython3",
   "version": "3.5.2"
  }
 },
 "nbformat": 4,
 "nbformat_minor": 1
}
