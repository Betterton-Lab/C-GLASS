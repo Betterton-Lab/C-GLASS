{
 "cells": [
  {
   "cell_type": "code",
   "execution_count": null,
   "metadata": {
    "collapsed": true
   },
   "outputs": [],
   "source": [
    "import matplotlib\n",
    "import numpy as np\n",
    "import matplotlib.pyplot as plt"
   ]
  },
  {
   "cell_type": "code",
   "execution_count": null,
   "metadata": {},
   "outputs": [],
   "source": [
    "f=open(\"../test.log\",'r')\n",
    "time=[]\n",
    "u0=[]\n",
    "uf=[]\n",
    "for line in f:\n",
    "    line=line.split(' ')\n",
    "    time.append(float(line[0]))\n",
    "    u0.append(float(line[1]))\n",
    "    uf.append(float(line[len(line)-1]))\n",
    "f.close()\n",
    "plt.plot(time,u0,time,uf)\n",
    "plt.xlim(5,10)\n",
    "plt.show()"
   ]
  },
  {
   "cell_type": "code",
   "execution_count": null,
   "metadata": {},
   "outputs": [],
   "source": [
    "from scipy.fftpack import fft\n",
    "yf=fft(np.array(uf))\n",
    "N=int(100*max(time))\n",
    "T=0.01\n",
    "x=np.linspace(0,N*T,N)\n",
    "xf=np.linspace(0,1.0/(2.0*T),N/2)\n",
    "plt.plot(xf, 2.0/N * np.abs(yf[0:N/2]))\n",
    "plt.xlim(0,5)\n",
    "omega = xf[np.argmax(2.0/N * np.abs(yf[0:N/2]))]\n",
    "plt.plot((omega,omega),(0,yf[np.argmax(2.0/N*np.abs(yf[0:N/2]))]))\n",
    "plt.title(r\"$\\omega = $\" + str(omega))\n",
    "plt.show()"
   ]
  },
  {
   "cell_type": "code",
   "execution_count": null,
   "metadata": {},
   "outputs": [],
   "source": [
    "yf=fft(np.array(uf))\n"
   ]
  },
  {
   "cell_type": "code",
   "execution_count": null,
   "metadata": {},
   "outputs": [],
   "source": [
    "max(time)"
   ]
  },
  {
   "cell_type": "code",
   "execution_count": null,
   "metadata": {},
   "outputs": [],
   "source": [
    "T=np.arange(0,19.99,0.01)"
   ]
  },
  {
   "cell_type": "code",
   "execution_count": null,
   "metadata": {},
   "outputs": [],
   "source": [
    "T[1998]"
   ]
  },
  {
   "cell_type": "code",
   "execution_count": null,
   "metadata": {
    "collapsed": true
   },
   "outputs": [],
   "source": [
    "N=1999\n",
    "T=0.01\n",
    "x=np.linspace(0,N*T,N)"
   ]
  },
  {
   "cell_type": "code",
   "execution_count": null,
   "metadata": {},
   "outputs": [],
   "source": [
    "x[0]"
   ]
  },
  {
   "cell_type": "code",
   "execution_count": null,
   "metadata": {
    "collapsed": true
   },
   "outputs": [],
   "source": [
    "xf=np.linspace(0,1.0/(2.0*T),N/2)"
   ]
  },
  {
   "cell_type": "code",
   "execution_count": null,
   "metadata": {},
   "outputs": [],
   "source": [
    "plt.plot(xf, 2.0/N * np.abs(yf[0:N/2]))\n",
    "plt.xlim(0,5)"
   ]
  },
  {
   "cell_type": "code",
   "execution_count": null,
   "metadata": {},
   "outputs": [],
   "source": [
    "plt.show()"
   ]
  },
  {
   "cell_type": "code",
   "execution_count": null,
   "metadata": {},
   "outputs": [],
   "source": [
    "0.35*2*np.pi"
   ]
  },
  {
   "cell_type": "code",
   "execution_count": null,
   "metadata": {
    "collapsed": true
   },
   "outputs": [],
   "source": [
    "Y=2.0/N * np.abs(yf[0:N/2])"
   ]
  },
  {
   "cell_type": "code",
   "execution_count": null,
   "metadata": {},
   "outputs": [],
   "source": [
    "Y.index(max(Y))"
   ]
  },
  {
   "cell_type": "code",
   "execution_count": null,
   "metadata": {},
   "outputs": [],
   "source": [
    "np.argmax(Y)"
   ]
  },
  {
   "cell_type": "code",
   "execution_count": null,
   "metadata": {},
   "outputs": [],
   "source": [
    "Y[44]"
   ]
  },
  {
   "cell_type": "code",
   "execution_count": null,
   "metadata": {},
   "outputs": [],
   "source": [
    "xf[44]/(2*np.pi)"
   ]
  },
  {
   "cell_type": "code",
   "execution_count": null,
   "metadata": {},
   "outputs": [],
   "source": [
    "xf[44]"
   ]
  },
  {
   "cell_type": "code",
   "execution_count": null,
   "metadata": {},
   "outputs": [],
   "source": [
    "f=open(\"../test_filament.spiral_struct\")\n",
    "f.readline()\n",
    "line=f.readline()\n",
    "line=line.split(\" \")\n",
    "avgPos = [float(line[0]),float(line[1])]\n",
    "rx=[]\n",
    "ry=[]\n",
    "ux=[]\n",
    "uy=[]\n",
    "for line in f:\n",
    "    line = line.split(\" \")\n",
    "    rx.append(float(line[0])-avgPos[0]-2)\n",
    "    ry.append(float(line[1])-avgPos[1])\n",
    "    ux.append(float(line[2]))\n",
    "    uy.append(float(line[3]))\n",
    "f.close()\n",
    "f,a=plt.subplots(1,3,figsize=(35,10))\n",
    "a[0].plot(rx,ry)\n",
    "a[0].set_title(\"Top-down view of final spool configuration with L=100, F_a = 10, L_p/L = 10\")\n",
    "a[0].set_xlabel(\"X\")\n",
    "a[0].set_ylabel(\"Y\")"
   ]
  },
  {
   "cell_type": "code",
   "execution_count": null,
   "metadata": {},
   "outputs": [],
   "source": [
    "X = [np.sqrt(rx[i]**2+ry[i]**2) for i in range(0,len(rx))]\n",
    "a[1].plot(range(0,len(rx)),X)\n",
    "a[1].set_title(\"Distance to spool from center as a function of arc-length\")\n",
    "a[1].set_xlabel(\"Arc Length\")\n",
    "a[1].set_ylabel(\"Distance from spool center\")\n",
    "ticks_x = matplotlib.ticker.FuncFormatter(lambda x, pos: '{0:g}'.format(2.9*x))\n",
    "a[1].xaxis.set_major_formatter(ticks_x)"
   ]
  },
  {
   "cell_type": "code",
   "execution_count": null,
   "metadata": {},
   "outputs": [],
   "source": [
    "angles=[]\n",
    "for i in range(len(ux)-2):\n",
    "    dp=ux[i]*ux[i+1]+uy[i]*uy[i+1]\n",
    "    if dp>1:\n",
    "        dp=1\n",
    "    angles.append(np.arccos(dp))\n",
    "a[2].plot(angles)\n",
    "ticks_x = matplotlib.ticker.FuncFormatter(lambda x, pos: '{0:g}'.format(2.9*x))\n",
    "a[2].xaxis.set_major_formatter(ticks_x)\n",
    "a[2].set_title(\"Local angle of curvature as a function of arc-length\")\n",
    "a[2].set_xlabel(\"Arc length\")\n",
    "a[2].set_ylabel(\"Local angle of curvature\")\n",
    "plt.savefig(\"/Users/jeff/Desktop/spool_structure.png\",bbox_inches='tight')"
   ]
  },
  {
   "cell_type": "code",
   "execution_count": null,
   "metadata": {},
   "outputs": [],
   "source": [
    "f=open(\"../test2_filament.spiral_struct\")\n",
    "f.readline()\n",
    "line=f.readline()\n",
    "line=line.split(\" \")\n",
    "avgPos = [float(line[0]),float(line[1])]\n",
    "rx=[]\n",
    "ry=[]\n",
    "ux=[]\n",
    "uy=[]\n",
    "for line in f:\n",
    "    line = line.split(\" \")\n",
    "    rx.append(float(line[0])-avgPos[0]-0.2)\n",
    "    ry.append(float(line[1])-avgPos[1]+0.3)\n",
    "    ux.append(float(line[2]))\n",
    "    uy.append(float(line[3]))\n",
    "f.close()\n",
    "f,a=plt.subplots(1,3,figsize=(35,10))\n",
    "a[0].plot(rx,ry)\n",
    "a[0].set_title(\"Top-down view of final spool configuration with L=100, F_a = 10, L_p/L = 1\")\n",
    "a[0].set_xlabel(\"X\")\n",
    "a[0].set_ylabel(\"Y\")"
   ]
  },
  {
   "cell_type": "code",
   "execution_count": null,
   "metadata": {},
   "outputs": [],
   "source": [
    "X = [np.sqrt(rx[i]**2+ry[i]**2) for i in range(0,len(rx))]\n",
    "a[1].plot(range(0,len(rx)),X)\n",
    "a[1].set_title(\"Distance to spool from center as a function of arc-length\")\n",
    "a[1].set_xlabel(\"Arc Length\")\n",
    "a[1].set_ylabel(\"Distance from spool center\")\n",
    "ticks_x = matplotlib.ticker.FuncFormatter(lambda x, pos: '{0:g}'.format(2.9*x))\n",
    "a[1].xaxis.set_major_formatter(ticks_x)"
   ]
  },
  {
   "cell_type": "code",
   "execution_count": null,
   "metadata": {},
   "outputs": [],
   "source": [
    "angles=[]\n",
    "for i in range(len(ux)-2):\n",
    "    dp=ux[i]*ux[i+1]+uy[i]*uy[i+1]\n",
    "    if dp>1:\n",
    "        dp=1\n",
    "    angles.append(np.arccos(dp))\n",
    "a[2].plot(angles)\n",
    "ticks_x = matplotlib.ticker.FuncFormatter(lambda x, pos: '{0:g}'.format(2.9*x))\n",
    "a[2].xaxis.set_major_formatter(ticks_x)\n",
    "a[2].set_title(\"Local angle of curvature as a function of arc-length\")\n",
    "a[2].set_xlabel(\"Arc length\")\n",
    "a[2].set_ylabel(\"Local angle of curvature\")\n",
    "plt.savefig(\"/Users/jeff/Desktop/spool_structure_tight.png\",bbox_inches='tight')\n",
    "#plt.show()"
   ]
  },
  {
   "cell_type": "code",
   "execution_count": null,
   "metadata": {},
   "outputs": [],
   "source": [
    "#plt.savefig(\"/Users/jeff/Desktop/spool_structure_tight.png\",bbox_inches='tight')\n",
    "plt.show()"
   ]
  },
  {
   "cell_type": "code",
   "execution_count": null,
   "metadata": {},
   "outputs": [],
   "source": [
    "frPar = 4.0/3.0 * 100.0/(33*np.log(100))\n",
    "dr=10"
   ]
  },
  {
   "cell_type": "code",
   "execution_count": null,
   "metadata": {},
   "outputs": [],
   "source": [
    "2*dr/(frPar*13)"
   ]
  },
  {
   "cell_type": "code",
   "execution_count": null,
   "metadata": {},
   "outputs": [],
   "source": [
    "80/(2*np.pi)"
   ]
  },
  {
   "cell_type": "code",
   "execution_count": null,
   "metadata": {},
   "outputs": [],
   "source": [
    "np.mean(X)"
   ]
  },
  {
   "cell_type": "code",
   "execution_count": null,
   "metadata": {},
   "outputs": [],
   "source": [
    "f=open(\"../test2_filament.spiral_struct\")\n",
    "f.readline()\n",
    "line=f.readline()\n",
    "line=line.split(\" \")\n",
    "avgPos = [float(line[0]),float(line[1])]\n",
    "rx=[]\n",
    "ry=[]\n",
    "ux=[]\n",
    "uy=[]\n",
    "for line in f:\n",
    "    line = line.split(\" \")\n",
    "    rx.append(float(line[0])-avgPos[0]-0.2)\n",
    "    ry.append(float(line[1])-avgPos[1]+0.3)\n",
    "    ux.append(float(line[2]))\n",
    "    uy.append(float(line[3]))\n",
    "f.close()\n",
    "X = [np.sqrt(rx[i]**2+ry[i]**2) for i in range(0,len(rx))]\n",
    "plt.plot(range(0,len(rx)),X)\n",
    "plt.show()"
   ]
  },
  {
   "cell_type": "code",
   "execution_count": null,
   "metadata": {
    "collapsed": true
   },
   "outputs": [],
   "source": []
  }
 ],
 "metadata": {
  "kernelspec": {
   "display_name": "Python 3",
   "language": "python",
   "name": "python3"
  },
  "language_info": {
   "codemirror_mode": {
    "name": "ipython",
    "version": 3
   },
   "file_extension": ".py",
   "mimetype": "text/x-python",
   "name": "python",
   "nbconvert_exporter": "python",
   "pygments_lexer": "ipython3",
   "version": "3.6.5"
  }
 },
 "nbformat": 4,
 "nbformat_minor": 1
}
