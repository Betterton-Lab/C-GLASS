{
 "cells": [
  {
   "cell_type": "code",
   "execution_count": null,
   "metadata": {
    "collapsed": true
   },
   "outputs": [],
   "source": [
    "import matplotlib.pyplot as plt\n",
    "import numpy as np\n",
    "from os import listdir\n",
    "import pandas as pd"
   ]
  },
  {
   "cell_type": "code",
   "execution_count": null,
   "metadata": {
    "collapsed": true
   },
   "outputs": [],
   "source": [
    "def GetPositions(filename):\n",
    "    f = open(filename,'r')\n",
    "    for i in range(3): f.readline()\n",
    "    xpos,ypos=[],[]\n",
    "    for line in f:\n",
    "        line=map(float,line.split())\n",
    "        xpos.append(line[0])\n",
    "        ypos.append(line[1])\n",
    "    f.close()\n",
    "    return np.array(xpos),np.array(ypos)\n",
    "\n",
    "def GetAllPositions(files):\n",
    "    X,Y = [],[]\n",
    "    for f in files:\n",
    "        x,y = GetPositions(f)\n",
    "        X.append(x)\n",
    "        Y.append(y)\n",
    "    return np.array(X),np.array(Y)\n",
    "\n",
    "def SplitArray(X,n_chunks):\n",
    "    XX = []\n",
    "    for x in X:\n",
    "        x = np.split(x,n_chunks)\n",
    "        # Skip the first chunk to allow for steady-state\n",
    "        for j in x[1:]:\n",
    "            XX.append(j)\n",
    "    return np.array(XX)\n",
    "\n",
    "def MSD(x,y):\n",
    "    msd = []\n",
    "    x0,y0 = x[0],y[0]\n",
    "    for i,pos in enumerate(x):\n",
    "        msd.append((x[i]-x0)**2+(y[i]-y0)**2)\n",
    "    return msd\n",
    "\n",
    "def AvgMSD(X,Y):\n",
    "    msds = []\n",
    "    for i,x in enumerate(X):\n",
    "        msds.append(MSD(X[i],Y[i]))\n",
    "    msds = np.array(msds)\n",
    "    msd_avg = []\n",
    "    msd_sem = []\n",
    "    for i,m in enumerate(msds[0]):\n",
    "        msd_avg.append(np.mean(msds[:,i]))\n",
    "        msd_sem.append(np.std(msds[:,i]))\n",
    "    n = np.sqrt(msds.shape[0])\n",
    "    msd_sem = [i/n for i in msd_sem]\n",
    "    return np.array(msd_avg),np.array(msd_sem)"
   ]
  },
  {
   "cell_type": "code",
   "execution_count": null,
   "metadata": {
    "collapsed": true
   },
   "outputs": [],
   "source": [
    "l060_d020_files = ['spiral_diffusion_l060_lp1000_d020_r00'+str(j)+'_filament.posit.txt' for j in range(10)]\n",
    "l100_d020_files = ['spiral_diffusion_l100_lp1000_d020_r00'+str(j)+'_filament.posit.txt' for j in range(10)]\n",
    "l060_d030_files = ['spiral_diffusion_l060_lp1000_d030_r00'+str(j)+'_filament.posit.txt' for j in range(10)]\n",
    "l100_d030_files = ['spiral_diffusion_l100_lp1000_d030_r00'+str(j)+'_filament.posit.txt' for j in range(10)]\n",
    "X,Y = GetAllPositions(l100_d020_files)\n",
    "n=10\n",
    "X,Y = SplitArray(X,n),SplitArray(Y,n)"
   ]
  },
  {
   "cell_type": "code",
   "execution_count": null,
   "metadata": {
    "collapsed": true
   },
   "outputs": [],
   "source": [
    "msd,sem = AvgMSD(X,Y)"
   ]
  },
  {
   "cell_type": "code",
   "execution_count": null,
   "metadata": {},
   "outputs": [],
   "source": [
    "delta = 0.01\n",
    "D_mean = np.log(100)/(100)\n",
    "theory = lambda t: 1.14*4*D_mean*0.5*t\n",
    "time = np.linspace(0,msd.size*delta,msd.size)\n",
    "fit = np.poly1d(np.polyfit(time,msd,1))\n",
    "plt.errorbar(time,msd,yerr=sem,errorevery=100)\n",
    "plt.plot(time,msd,'r-')\n",
    "plt.plot(time,fit(time),'k-')\n",
    "print fit[1]\n",
    "plt.plot(time,theory(time),'g--')\n",
    "plt.title(\"Diffusion best fit: \"+r'$D_{spool} = $' + str(fit[1]/4.0))\n",
    "plt.xlabel('time (sim units)')\n",
    "plt.ylabel('MSD(t)')\n",
    "plt.legend(['MSD','Best fit','SEM'],loc=0)\n",
    "plt.show()\n",
    "plt.close()"
   ]
  },
  {
   "cell_type": "code",
   "execution_count": null,
   "metadata": {},
   "outputs": [],
   "source": [
    "20*0.16/25"
   ]
  },
  {
   "cell_type": "code",
   "execution_count": null,
   "metadata": {
    "collapsed": true
   },
   "outputs": [],
   "source": [
    "filename = \"../lp_driving_1_filament.lp\"\n",
    "f=open(filename)\n",
    "f.readline()\n",
    "f.readline()\n",
    "line = f.readline().split()\n",
    "theory = float(line[len(line)-1])\n",
    "f.readline()\n",
    "time,mse2e=[],[]\n",
    "for line in f:\n",
    "    line=map(float,line.split())\n",
    "    time.append(line[0])\n",
    "    for i in line[1:]:\n",
    "        mse2e.append(i)\n",
    "f.close()"
   ]
  },
  {
   "cell_type": "code",
   "execution_count": null,
   "metadata": {
    "collapsed": true
   },
   "outputs": [],
   "source": [
    "time = np.array(time)\n",
    "mse2e = np.array(mse2e)"
   ]
  },
  {
   "cell_type": "code",
   "execution_count": null,
   "metadata": {},
   "outputs": [],
   "source": [
    "print theory\n",
    "print mse2e.mean()\n",
    "print mse2e.std()/np.sqrt(100)"
   ]
  },
  {
   "cell_type": "code",
   "execution_count": null,
   "metadata": {},
   "outputs": [],
   "source": [
    "print theory\n",
    "print mse2e.mean()\n",
    "print mse2e.std()/np.sqrt(100)"
   ]
  },
  {
   "cell_type": "code",
   "execution_count": null,
   "metadata": {
    "collapsed": true
   },
   "outputs": [],
   "source": [
    "msfunc = lambda L,l: 2.0*L*l - 2.0*l**2 * (1-np.exp(-float(L)/l))"
   ]
  },
  {
   "cell_type": "code",
   "execution_count": null,
   "metadata": {},
   "outputs": [],
   "source": [
    "msfunc(40,300)"
   ]
  },
  {
   "cell_type": "code",
   "execution_count": null,
   "metadata": {},
   "outputs": [],
   "source": [
    "280/400.0"
   ]
  },
  {
   "cell_type": "code",
   "execution_count": null,
   "metadata": {
    "collapsed": true
   },
   "outputs": [],
   "source": [
    "def CreateLpDataFrame(dirName):\n",
    "    assert isinstance(dirName, str), \"The 'dirName' argument must be a string!\"\n",
    "    fileNames = [dirName+'/'+i for i in listdir(dirName) if i[-3:] == '.lp']\n",
    "    df = pd.DataFrame(columns=['driving','theory','mean','sterr'])\n",
    "    for filename in fileNames:\n",
    "        f=open(filename)\n",
    "        f.readline()\n",
    "        f.readline()\n",
    "        line = f.readline().split()\n",
    "        theory = float(line[len(line)-1])\n",
    "        driving = float(line[3])\n",
    "        f.readline()\n",
    "        time,mse2e=[],[]\n",
    "        for line in f:\n",
    "            line=map(float,line.split())\n",
    "            time.append(line[0])\n",
    "            for i in line[1:]:\n",
    "                mse2e.append(i)\n",
    "        f.close()\n",
    "        mean = np.array(mse2e).mean()\n",
    "        sterr = np.array(mse2e).std()/np.sqrt(100)\n",
    "        temp_df = pd.DataFrame(data={'driving':driving,'theory':theory,'mean':mean,'sterr':sterr},index=[1])\n",
    "        df = df.append(temp_df,ignore_index=True)\n",
    "        #print str(driving) + \" \" +str(theory) + \" \" + str(mean) + \" \" + str(sterr)\n",
    "    return df\n",
    "\n",
    "def BackCalculateLp\n",
    "\n",
    "def UpdateTheory2D(df):\n",
    "    theory = pd.Series(df['theory'],name='theory2D')\n",
    "    theory = theory.apply(lambda )\n",
    "    "
   ]
  },
  {
   "cell_type": "raw",
   "metadata": {},
   "source": [
    "df = CreateLpDataFrame('.')"
   ]
  },
  {
   "cell_type": "raw",
   "metadata": {
    "collapsed": true
   },
   "source": [
    "df.to_pickle('mse2e_data.pkl')"
   ]
  },
  {
   "cell_type": "code",
   "execution_count": null,
   "metadata": {
    "collapsed": true
   },
   "outputs": [],
   "source": [
    "df = pd.read_pickle('mse2e_data.pkl')"
   ]
  },
  {
   "cell_type": "code",
   "execution_count": null,
   "metadata": {},
   "outputs": [],
   "source": [
    "y=lambda L,Lr: 2*L*(Lr*L) - 2*(Lr*Lr*L*L) *(1 - np.exp(-1.0/Lr))\n",
    "Lpratio=np.array([10,20,30,40,50,60,70,80,90,100])\n",
    "temp=abs(2498.0-y(50,Lpratio))\n",
    "Lpratio[np.where(temp==temp.min())[0][0]]*50"
   ]
  },
  {
   "cell_type": "code",
   "execution_count": null,
   "metadata": {
    "collapsed": true
   },
   "outputs": [],
   "source": [
    "pd.Series(df[\"theory\"])"
   ]
  },
  {
   "cell_type": "code",
   "execution_count": null,
   "metadata": {},
   "outputs": [],
   "source": [
    "df = pd.DataFrame(columns=['driving','theory','mean','sterr'])\n",
    "temp_df = pd.DataFrame(data={'driving':0,'theory':1,'mean':2,'sterr':3},index=[1])\n",
    "df = df.append(temp_df,ignore_index=False)\n",
    "temp_df = pd.DataFrame(data={'driving':0,'theory':1,'mean':2,'sterr':3},index=[1])\n",
    "df = df.append(temp_df,ignore_index=False)\n",
    "temp_df = pd.DataFrame(data={'driving':0,'theory':1,'mean':2,'sterr':3},index=[1])\n",
    "df = df.append(temp_df,ignore_index=False)\n",
    "temp_df = pd.DataFrame(data={'driving':0,'theory':1,'mean':2,'sterr':3},index=[1])\n",
    "df = df.append(temp_df,ignore_index=False)\n",
    "temp_df = pd.DataFrame(data={'driving':0,'theory':1,'mean':2,'sterr':3},index=[1])\n",
    "df = df.append(temp_df,ignore_index=False)\n",
    "df"
   ]
  },
  {
   "cell_type": "code",
   "execution_count": null,
   "metadata": {},
   "outputs": [],
   "source": [
    "temp_df"
   ]
  },
  {
   "cell_type": "code",
   "execution_count": null,
   "metadata": {
    "collapsed": true
   },
   "outputs": [],
   "source": [
    "y=lambda L,Lr: 2*L*(Lr*L) - 2*(Lr*Lr*L*L) *(1 - np.exp(-1.0/Lr))"
   ]
  },
  {
   "cell_type": "code",
   "execution_count": null,
   "metadata": {
    "collapsed": true
   },
   "outputs": [],
   "source": [
    "Lpratio=np.array([10,20,30,40,50,60,70,80,90,100])"
   ]
  },
  {
   "cell_type": "code",
   "execution_count": null,
   "metadata": {},
   "outputs": [],
   "source": [
    "temp=abs(2498.0-y(50,Lpratio))\n",
    "Lpratio[np.where(temp==temp.min())[0][0]]*50"
   ]
  },
  {
   "cell_type": "code",
   "execution_count": null,
   "metadata": {},
   "outputs": [],
   "source": [
    "y(50,100)"
   ]
  },
  {
   "cell_type": "code",
   "execution_count": null,
   "metadata": {
    "collapsed": true
   },
   "outputs": [],
   "source": []
  }
 ],
 "metadata": {
  "kernelspec": {
   "display_name": "Python 3",
   "language": "python",
   "name": "python3"
  },
  "language_info": {
   "codemirror_mode": {
    "name": "ipython",
    "version": 3
   },
   "file_extension": ".py",
   "mimetype": "text/x-python",
   "name": "python",
   "nbconvert_exporter": "python",
   "pygments_lexer": "ipython3",
   "version": "3.6.5"
  }
 },
 "nbformat": 4,
 "nbformat_minor": 1
}
