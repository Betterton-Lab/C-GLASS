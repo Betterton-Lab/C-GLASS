{
 "cells": [
  {
   "cell_type": "code",
   "execution_count": null,
   "metadata": {
    "collapsed": true
   },
   "outputs": [],
   "source": [
    "from matplotlib import pyplot as plt\n",
    "from scipy.stats import norm\n",
    "from matplotlib import mlab\n",
    "import numpy as np"
   ]
  },
  {
   "cell_type": "code",
   "execution_count": null,
   "metadata": {
    "collapsed": true
   },
   "outputs": [],
   "source": [
    "fname=\"out.txt\"\n",
    "f=open(fname,'r')\n",
    "num_lines = sum(1 for line in f)\n",
    "f.close()\n",
    "f=open(fname,'r')\n",
    "histdata = [float(line) for line in f]\n",
    "meanval=np.median(histdata)\n",
    "histdata = [abs(i-meanval) for i in histdata]\n",
    "temp=[-i for i in histdata]\n",
    "histdata.extend(temp)\n",
    "f.close()\n",
    "N=1\n",
    "setsPerN = int(num_lines/N)\n",
    "data=[]\n",
    "f=open(fname,'r')\n",
    "for i in range(N):\n",
    "    L=[]\n",
    "    avg = 0\n",
    "    for j in range(setsPerN):\n",
    "        l=float(f.readline())\n",
    "        if j==0:\n",
    "            l0=l\n",
    "            normFactor=l0*l0/setsPerN\n",
    "        avg += l/setsPerN\n",
    "        L.append(l*l0/setsPerN/normFactor)\n",
    "    data.append(L)\n",
    "    #data.append([i - avg**2/norm for i in L])\n",
    "f.close()"
   ]
  },
  {
   "cell_type": "code",
   "execution_count": null,
   "metadata": {},
   "outputs": [],
   "source": [
    "plt.plot(data[0])\n",
    "plt.show()"
   ]
  },
  {
   "cell_type": "code",
   "execution_count": null,
   "metadata": {},
   "outputs": [],
   "source": [
    "(mu,sigma) = norm.fit(histdata)\n",
    "print(sigma)\n",
    "print(sigma/np.sqrt(0.5*len(histdata)))\n",
    "n,bins,patches=plt.hist(histdata,bins=30,normed=1)\n",
    "y=mlab.normpdf(bins,mu,sigma)\n",
    "plt.plot(bins,y,'r--')\n",
    "plt.show()"
   ]
  },
  {
   "cell_type": "code",
   "execution_count": null,
   "metadata": {
    "collapsed": true
   },
   "outputs": [],
   "source": [
    "a=[1,2,3]\n",
    "b=[4,5,6]\n",
    "a.extend(b)"
   ]
  },
  {
   "cell_type": "code",
   "execution_count": null,
   "metadata": {},
   "outputs": [],
   "source": [
    "48.15749/"
   ]
  },
  {
   "cell_type": "code",
   "execution_count": null,
   "metadata": {},
   "outputs": [],
   "source": [
    "len(histdata)"
   ]
  },
  {
   "cell_type": "code",
   "execution_count": null,
   "metadata": {
    "collapsed": true
   },
   "outputs": [],
   "source": []
  }
 ],
 "metadata": {
  "kernelspec": {
   "display_name": "Python 3",
   "language": "python",
   "name": "python3"
  },
  "language_info": {
   "codemirror_mode": {
    "name": "ipython",
    "version": 3
   },
   "file_extension": ".py",
   "mimetype": "text/x-python",
   "name": "python",
   "nbconvert_exporter": "python",
   "pygments_lexer": "ipython3",
   "version": "3.5.2"
  }
 },
 "nbformat": 4,
 "nbformat_minor": 1
}
