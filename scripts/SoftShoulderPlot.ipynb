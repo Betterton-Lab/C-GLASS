{
 "cells": [
  {
   "cell_type": "code",
   "execution_count": null,
   "metadata": {
    "collapsed": true
   },
   "outputs": [],
   "source": [
    "import numpy as np\n",
    "import matplotlib.pyplot as plt\n",
    "%matplotlib inline"
   ]
  },
  {
   "cell_type": "code",
   "execution_count": null,
   "metadata": {
    "collapsed": true
   },
   "outputs": [],
   "source": [
    "x=np.linspace(0,5,200)\n",
    "U=lambda r,R: np.exp(-(r/R)**8)\n",
    "F=lambda r,R: 8*np.exp(-r**8/R**8)*r**7/R**8"
   ]
  },
  {
   "cell_type": "code",
   "execution_count": null,
   "metadata": {},
   "outputs": [],
   "source": [
    "r0 = 1 # sigma, the width of a filament\n",
    "R = 0.85*r0 # chosen to mimic hard-wall interaction behavior\n",
    "fig,(ax1,ax2)=plt.subplots(1,2,figsize=(8,4),dpi=200)\n",
    "ax1.plot(x,U(x,R))\n",
    "ax2.plot(x,F(x,R))\n",
    "for ax in (ax1,ax2):\n",
    "    ax.vlines(r0,ax.get_ylim()[0],ax.get_ylim()[1],colors='r',linestyles='dashed',label='$\\sigma$')\n",
    "    ax.hlines(0,ax.get_xlim()[0],ax.get_xlim()[1])\n",
    "    ax.vlines(0,ax.get_ylim()[0],ax.get_ylim()[1])\n",
    "    ax.set_xlabel('Distance ($\\sigma$)')\n",
    "    ax.legend()\n",
    "ax1.set_ylabel('Soft potential $U_s(x)$')\n",
    "ax2.set_ylabel('Soft force $F_s(x)$')\n",
    "fig.canvas.draw()\n",
    "fig.savefig('/Users/jeff/Drive/Notes/work_wiki/figs/soft_potential.png',dpi=fig.dpi,transparent=True)"
   ]
  },
  {
   "cell_type": "code",
   "execution_count": null,
   "metadata": {
    "collapsed": true
   },
   "outputs": [],
   "source": [
    "gompper = lambda eps, alpha, r: 4*eps*((alpha**2+r**2)**(-6)-(alpha**2+r**2)**(-3))"
   ]
  },
  {
   "cell_type": "markdown",
   "metadata": {
    "collapsed": true
   },
   "source": [
    "4ε[(α2 +r2)−6 −(α2 +r2)−3]+φ "
   ]
  },
  {
   "cell_type": "code",
   "execution_count": null,
   "metadata": {},
   "outputs": [],
   "source": [
    "x=np.linspace(0,2,200)\n",
    "fig,ax=plt.subplots(1,1,figsize=(2,2),dpi=200)\n",
    "rmin=1\n",
    "E=100\n",
    "a = np.sqrt(2**(1/3)-rmin**2)\n",
    "ep = a**12*E/(a**12 - 4*a**6 + 4)\n",
    "ax.plot(x,gompper(ep,a,x))\n",
    "ax.set_ylabel('Gompper potential $U_g(x)$')\n",
    "ax.set_xlabel('x')\n",
    "fig.canvas.draw()\n",
    "#fig.savefig('/Users/jeff/Drive/Notes/work_wiki/figs/soft_potential.png',dpi=fig.dpi,transparent=True)"
   ]
  },
  {
   "cell_type": "code",
   "execution_count": null,
   "metadata": {
    "collapsed": true
   },
   "outputs": [],
   "source": []
  }
 ],
 "metadata": {
  "kernelspec": {
   "display_name": "Python 3",
   "language": "python",
   "name": "python3"
  },
  "language_info": {
   "codemirror_mode": {
    "name": "ipython",
    "version": 3
   },
   "file_extension": ".py",
   "mimetype": "text/x-python",
   "name": "python",
   "nbconvert_exporter": "python",
   "pygments_lexer": "ipython3",
   "version": "3.5.2"
  }
 },
 "nbformat": 4,
 "nbformat_minor": 1
}
