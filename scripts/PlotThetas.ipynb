{
 "cells": [
  {
   "cell_type": "code",
   "execution_count": null,
   "metadata": {},
   "outputs": [],
   "source": [
    "import matplotlib\n",
    "#matplotlib.use(\"macosx\")\n",
    "import matplotlib.pyplot as plt\n",
    "import numpy as np\n",
    "from scipy import stats\n",
    "from scipy import integrate"
   ]
  },
  {
   "cell_type": "code",
   "execution_count": null,
   "metadata": {},
   "outputs": [],
   "source": [
    "cosTheta=[]\n",
    "thetas=[[],[],[],[],[],[],[]]\n",
    "f = open(\"sc-thetas.log\",'r')\n",
    "nFil = (len(f.readline().split())-1)/7\n",
    "for line in f:\n",
    "    line=line.split()\n",
    "    cosTheta.append(float(line[0]))\n",
    "    for i in xrange(0,7):\n",
    "        L=[]\n",
    "        for n in xrange(0,nFil):\n",
    "            L.append(float(line[7*n+i+1])/2000)\n",
    "        thetas[i].append(L)\n",
    "f.close()"
   ]
  },
  {
   "cell_type": "code",
   "execution_count": null,
   "metadata": {
    "scrolled": false
   },
   "outputs": [],
   "source": [
    "kappa=1\n",
    "thetas12=[[],[]]\n",
    "for i in thetas[5]:\n",
    "    thetas12[0].append(np.average(i))\n",
    "    thetas12[1].append(stats.sem(i))\n",
    "#const = lambda y: 0.5+y-y\n",
    "#x=np.linspace(-1,1,len(cosTheta))\n",
    "y0 = lambda p: np.exp(kappa*p)\n",
    "const = integrate.quad(y0,-1,1)[0]\n",
    "x0 = np.linspace(-1,1,1000)\n",
    "func = lambda p : np.exp(kappa*p)/(const)\n",
    "if kappa==0:\n",
    "    pltlim=True\n",
    "    ymin=0.4\n",
    "    ymax=0.6\n",
    "else:\n",
    "    pltlim=False\n",
    "plt.plot(cosTheta,thetas12[0])\n",
    "plt.errorbar(cosTheta,thetas12[0],yerr=thetas12[1])\n",
    "plt.plot(x0,func(x0))\n",
    "if pltlim:\n",
    "    plt.ylim(ymin,ymax)\n",
    "#plt.ylim(.4,.6)\n",
    "plt.show()"
   ]
  },
  {
   "cell_type": "code",
   "execution_count": null,
   "metadata": {},
   "outputs": [],
   "source": [
    "thetas23=[[],[]]\n",
    "for i in thetas[1]:\n",
    "    thetas23[0].append(np.average(i))\n",
    "    thetas23[1].append(stats.sem(i))\n",
    "const = lambda y: 0.5+y-y\n",
    "x=np.linspace(-1,1,len(cosTheta))\n",
    "plt.plot(cosTheta,thetas23[0])\n",
    "plt.errorbar(cosTheta,thetas23[0],yerr=thetas23[1])\n",
    "plt.plot(x,const(x))\n",
    "plt.ylim(.4,.6)\n",
    "plt.show()"
   ]
  },
  {
   "cell_type": "code",
   "execution_count": null,
   "metadata": {},
   "outputs": [],
   "source": [
    "thetas34=[[],[]]\n",
    "for i in thetas[2]:\n",
    "    thetas34[0].append(np.average(i))\n",
    "    thetas34[1].append(stats.sem(i))\n",
    "const = lambda y: 0.5+y-y\n",
    "x=np.linspace(-1,1,len(cosTheta))\n",
    "plt.plot(cosTheta,thetas34[0])\n",
    "plt.errorbar(cosTheta,thetas34[0],yerr=thetas34[1])\n",
    "plt.plot(x,const(x))\n",
    "plt.ylim(0.4,0.6)\n",
    "plt.show()"
   ]
  },
  {
   "cell_type": "code",
   "execution_count": null,
   "metadata": {},
   "outputs": [],
   "source": [
    "thetas45=[[],[]]\n",
    "for i in thetas[3]:\n",
    "    thetas45[0].append(np.average(i))\n",
    "    thetas45[1].append(stats.sem(i))\n",
    "const = lambda y: 0.5+y-y\n",
    "x=np.linspace(-1,1,len(cosTheta))\n",
    "plt.plot(cosTheta,thetas45[0])\n",
    "plt.errorbar(cosTheta,thetas45[0],yerr=thetas45[1])\n",
    "plt.plot(x,const(x))\n",
    "plt.ylim(0.4,0.6)\n",
    "plt.show()"
   ]
  },
  {
   "cell_type": "code",
   "execution_count": null,
   "metadata": {},
   "outputs": [],
   "source": [
    "thetas45=[[],[]]\n",
    "for i in thetas[4]:\n",
    "    thetas45[0].append(np.average(i))\n",
    "    thetas45[1].append(stats.sem(i))\n",
    "const = lambda y: 0.5+y-y\n",
    "x=np.linspace(-1,1,len(cosTheta))\n",
    "plt.plot(cosTheta,thetas45[0])\n",
    "plt.errorbar(cosTheta,thetas45[0],yerr=thetas45[1])\n",
    "plt.plot(x,const(x))\n",
    "plt.ylim(0.4,0.6)\n",
    "plt.show()"
   ]
  },
  {
   "cell_type": "code",
   "execution_count": null,
   "metadata": {},
   "outputs": [],
   "source": [
    "thetas45=[[],[]]\n",
    "for i in thetas[5]:\n",
    "    thetas45[0].append(np.average(i))\n",
    "    thetas45[1].append(stats.sem(i))\n",
    "const = lambda y: 0.5+y-y\n",
    "x=np.linspace(-1,1,len(cosTheta))\n",
    "plt.plot(cosTheta,thetas45[0])\n",
    "plt.errorbar(cosTheta,thetas45[0],yerr=thetas45[1])\n",
    "plt.plot(x,const(x))\n",
    "plt.ylim(0.4,0.6)\n",
    "plt.show()"
   ]
  },
  {
   "cell_type": "code",
   "execution_count": null,
   "metadata": {},
   "outputs": [],
   "source": [
    "thetas45=[[],[]]\n",
    "for i in thetas[6]:\n",
    "    thetas45[0].append(np.average(i))\n",
    "    thetas45[1].append(stats.sem(i))\n",
    "const = lambda y: 0.5+y-y\n",
    "x=np.linspace(-1,1,len(cosTheta))\n",
    "plt.plot(cosTheta,thetas45[0])\n",
    "plt.errorbar(cosTheta,thetas45[0],yerr=thetas45[1])\n",
    "plt.plot(x,const(x))\n",
    "plt.ylim(0.4,0.6)\n",
    "plt.show()"
   ]
  },
  {
   "cell_type": "code",
   "execution_count": null,
   "metadata": {},
   "outputs": [],
   "source": [
    "f=open(\"../sc_filament.filament\",'r')\n",
    "f.readline()\n",
    "line=f.readline()\n",
    "f.readline()\n",
    "line=f.readline()\n",
    "f.readline()\n",
    "distribution=[]\n",
    "disterr=[]\n",
    "normalizeFactor=1000\n",
    "for line in f:\n",
    "    line=line.split()\n",
    "    distribution.append(int(line[0]))\n",
    "for i in range(len(distribution)):\n",
    "    distribution[i]/=float(normalizeFactor)\n",
    "    disterr.append(1.0/np.sqrt(float(normalizeFactor)))\n",
    "costheta=np.linspace(-1,1,len(distribution))\n",
    "f.close()"
   ]
  },
  {
   "cell_type": "code",
   "execution_count": null,
   "metadata": {},
   "outputs": [],
   "source": [
    "kappa=4\n",
    "childLength=4\n",
    "y0 = lambda p: np.exp(kappa*p/childLength)\n",
    "const = integrate.quad(y0,-1,1)[0]\n",
    "x0 = np.linspace(-1,1,1000)\n",
    "func = lambda p : np.exp(kappa*p/childLength)/(const)\n",
    "kappaActual=4\n",
    "y0 = lambda p: np.exp(kappaActual*p/childLength)\n",
    "const2 = integrate.quad(y0,-1,1)[0]\n",
    "func2 = lambda p : np.exp(kappaActual*p/childLength)/(const2)"
   ]
  },
  {
   "cell_type": "code",
   "execution_count": null,
   "metadata": {},
   "outputs": [],
   "source": [
    "plt.figure()\n",
    "plt.plot(costheta,distribution,color='g')\n",
    "plt.errorbar(costheta,distribution,yerr=disterr,color='g')\n",
    "#plt.plot(costheta,func(costheta))\n",
    "plt.plot(costheta,func2(costheta),'r')\n",
    "plt.xlim(0,1)\n",
    "#plt.legend([\"Simulation\",r'Input $L_p$ theory',r'Calculated $L_p$ theory'],loc=0)\n",
    "plt.legend([\"Simulation\",r'$L_p$ theory'],loc=0)\n",
    "plt.show()"
   ]
  },
  {
   "cell_type": "code",
   "execution_count": null,
   "metadata": {},
   "outputs": [],
   "source": [
    "f=open(\"../3d_lp10000_l50_cl5_filament.filament\",'r')\n",
    "f.readline()\n",
    "line=f.readline()\n",
    "f.readline()\n",
    "line=f.readline()\n",
    "f.readline()\n",
    "distribution=[]\n",
    "normalizeFactor=1000\n",
    "for line in f:\n",
    "    line=line.split()\n",
    "    distribution.append(int(line[0]))\n",
    "for i in range(len(distribution)):\n",
    "    distribution[i]/=float(normalizeFactor)\n",
    "costheta=np.linspace(-1,1,len(distribution))\n",
    "f.close()\n",
    "func = lambda p : np.exp(kappa*p/childLength)/(const)"
   ]
  },
  {
   "cell_type": "code",
   "execution_count": null,
   "metadata": {},
   "outputs": [],
   "source": [
    "kappa=20\n",
    "childLength=4.0\n",
    "y0 = lambda p: np.exp(kappa*p/childLength)\n",
    "const = integrate.quad(y0,-1,1)[0]\n",
    "x0 = np.linspace(-1,1,1000)\n",
    "func = lambda p : np.exp(kappa*p/childLength)/(const)\n",
    "kappaActual=10000\n",
    "y0 = lambda p: np.exp(kappaActual*p/childLength)\n",
    "const2 = integrate.quad(y0,-1,1)[0]\n",
    "func2 = lambda p : np.exp(kappaActual*p/childLength)/(const2)"
   ]
  },
  {
   "cell_type": "code",
   "execution_count": null,
   "metadata": {},
   "outputs": [],
   "source": [
    "plt.figure()\n",
    "plt.plot(costheta,distribution)\n",
    "plt.plot(costheta,func(costheta))\n",
    "plt.plot(costheta,func2(costheta))\n",
    "plt.xlim(0,1)\n",
    "plt.legend([\"Simulation\",r'Input $L_p$ theory',r'Calculated $L_p$ theory'],loc=0)\n",
    "plt.show()"
   ]
  },
  {
   "cell_type": "code",
   "execution_count": null,
   "metadata": {
    "collapsed": true
   },
   "outputs": [],
   "source": []
  },
  {
   "cell_type": "code",
   "execution_count": null,
   "metadata": {
    "collapsed": true
   },
   "outputs": [],
   "source": []
  }
 ],
 "metadata": {
  "kernelspec": {
   "display_name": "Python 3",
   "language": "python",
   "name": "python3"
  },
  "language_info": {
   "codemirror_mode": {
    "name": "ipython",
    "version": 3
   },
   "file_extension": ".py",
   "mimetype": "text/x-python",
   "name": "python",
   "nbconvert_exporter": "python",
   "pygments_lexer": "ipython3",
   "version": "3.6.5"
  }
 },
 "nbformat": 4,
 "nbformat_minor": 1
}
