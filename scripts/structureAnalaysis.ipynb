{
 "cells": [
  {
   "cell_type": "code",
   "execution_count": null,
   "metadata": {
    "collapsed": true
   },
   "outputs": [],
   "source": [
    "from matplotlib import pyplot as plt\n",
    "from matplotlib.colors import LogNorm\n",
    "from matplotlib import cm\n",
    "import numpy as np\n",
    "import pandas as pd\n",
    "import seaborn as sns"
   ]
  },
  {
   "cell_type": "code",
   "execution_count": null,
   "metadata": {
    "collapsed": true
   },
   "outputs": [],
   "source": [
    "df=pd.read_csv(\"soft_pf0.1_sp100_lp100_reduced10_reduced1.density\",delim_whitespace=True,header=None)\n",
    "#df=pd.read_csv(\"soft_pf0.1_sp050_lp100_condensed.density\",delim_whitespace=True,header=None)"
   ]
  },
  {
   "cell_type": "code",
   "execution_count": null,
   "metadata": {},
   "outputs": [],
   "source": [
    "\n",
    "#df=pd.read_csv(\"soft_pf0.1_sp050_lp100_condensed.density\",delim_whitespace=True,header=None)\n",
    "fig,ax = plt.subplots(1,2,figsize=(8,3))\n",
    "#sns.heatmap(df,cmap=cm.viridis,ax=ax[0])\n",
    "data = df.replace(0,1e-10)\n",
    "data=data/data.sum().sum()\n",
    "min_data = data.min().min()\n",
    "if (min_data == 0):\n",
    "    min_data = 1\n",
    "max_data = data.max().max()\n",
    "log_norm = LogNorm(vmin=min_data, vmax=max_data)\n",
    "cbar_ticks = [10**i for i in \n",
    "              range(int(np.floor(np.log10(min_data))),\n",
    "                    1 + int(np.ceil(np.log10(max_data))))]\n",
    "sns.heatmap(data, norm=log_norm,\n",
    "            cmap=cm.viridis, ax=ax[0],\n",
    "            cbar_kws={\"ticks\": cbar_ticks})\n",
    "fft_data=np.fft.fftshift(np.fft.fft2(df))\n",
    "data = np.abs(fft_data)\n",
    "data=data/data.sum().sum()\n",
    "min_data = data.min().min()\n",
    "if (min_data == 0):\n",
    "    min_data = 1\n",
    "max_data = data.max().max()\n",
    "log_norm = LogNorm(vmin=min_data, vmax=max_data)\n",
    "cbar_ticks = [10**i for i in \n",
    "              range(int(np.floor(np.log10(min_data))),\n",
    "                    1 + int(np.ceil(np.log10(max_data))))]\n",
    "sns.heatmap(data, norm=log_norm,\n",
    "            cmap=cm.viridis, ax=ax[1],\n",
    "            cbar_kws={\"ticks\": cbar_ticks})\n",
    "fig.savefig(\"test.png\",dpi=300)"
   ]
  },
  {
   "cell_type": "code",
   "execution_count": null,
   "metadata": {
    "collapsed": true
   },
   "outputs": [],
   "source": [
    "\n",
    "fig.savefig(\"test.png\",dpi=300)"
   ]
  },
  {
   "cell_type": "code",
   "execution_count": null,
   "metadata": {},
   "outputs": [],
   "source": [
    "fft_data=np.fft.fftshift(np.fft.fft2(df))\n",
    "data = np.abs(fft_data)\n",
    "plt.figure()\n",
    "plt.plot(data[data.shape[0]//2])\n",
    "plt.xlim(4975,5025)\n",
    "plt.show()"
   ]
  },
  {
   "cell_type": "code",
   "execution_count": null,
   "metadata": {
    "collapsed": true
   },
   "outputs": [],
   "source": [
    "df=pd.read_csv(\"sp100_lp100_fft.txt\",header=None)\n",
    "df.columns=[\"data\"]\n",
    "df.data = df.data.apply(lambda x: x**2)"
   ]
  },
  {
   "cell_type": "code",
   "execution_count": null,
   "metadata": {},
   "outputs": [],
   "source": [
    "plt.figure()\n",
    "df.plot(y='data')\n",
    "plt.xlim(4975,5025)\n",
    "plt.show()"
   ]
  },
  {
   "cell_type": "code",
   "execution_count": null,
   "metadata": {},
   "outputs": [],
   "source": [
    "fig,ax=plt.subplots(1,1)\n",
    "n=0.01\n",
    "labels=[]\n",
    "for i,sp in enumerate(['015','025','050','100']):\n",
    "    for j,lp in enumerate(['020','050','100']):\n",
    "        if sp=='025' and lp=='050':\n",
    "            continue\n",
    "        if sp=='050' and lp=='100':\n",
    "            sp='060'\n",
    "        if sp=='025' and lp=='100':\n",
    "            sp='030'\n",
    "        label='sp'+sp+'_lp'+lp\n",
    "        fname = label+'_fft.txt'\n",
    "        df=pd.read_csv(fname,header=None)\n",
    "        df.columns=['data']\n",
    "        df.data = df.data**2\n",
    "        df.plot(ax=ax)\n",
    "        labels.append(label)\n",
    "        #f = open(fname,'r')\n",
    "        #nums[i][j] = float(f.readline())\n",
    "        #f.close()\n",
    "ax.legend(labels)\n",
    "ax.set_xlim(5000-n,5000+n)\n",
    "ax.set_ylim(170,190)"
   ]
  },
  {
   "cell_type": "code",
   "execution_count": null,
   "metadata": {},
   "outputs": [],
   "source": [
    "nums"
   ]
  },
  {
   "cell_type": "code",
   "execution_count": null,
   "metadata": {},
   "outputs": [],
   "source": [
    "df.head()"
   ]
  },
  {
   "cell_type": "code",
   "execution_count": null,
   "metadata": {},
   "outputs": [],
   "source": [
    "plt.pcolor(df)"
   ]
  },
  {
   "cell_type": "code",
   "execution_count": null,
   "metadata": {
    "collapsed": true
   },
   "outputs": [],
   "source": [
    "#df=pd.read_csv(\"soft_pf0.1_sp100_lp100_reduced10_reduced1.structure\",\n",
    "#               header=None,delim_whitespace=True)\n",
    "df=pd.read_csv(\"soft_pf0.1_sp050_lp100_reduced10_reduced1.structure\",\n",
    "               header=None,delim_whitespace=True)"
   ]
  },
  {
   "cell_type": "code",
   "execution_count": null,
   "metadata": {
    "collapsed": true
   },
   "outputs": [],
   "source": [
    "#df.columns=['k_x','k_y','data']"
   ]
  },
  {
   "cell_type": "code",
   "execution_count": null,
   "metadata": {
    "collapsed": true
   },
   "outputs": [],
   "source": [
    "#df=df.pivot(index='k_x',columns='k_y',values='data')"
   ]
  },
  {
   "cell_type": "code",
   "execution_count": null,
   "metadata": {},
   "outputs": [],
   "source": [
    "#data=df.replace(0,1e-9)\n",
    "data=df\n",
    "min_data = data.min().min()\n",
    "#if (min_data == 0):\n",
    "#    min_data = 1e-9\n",
    "max_data = data.max().max()\n",
    "log_norm = LogNorm(vmin=min_data, vmax=max_data)\n",
    "cbar_ticks = [10**i for i in \n",
    "              range(int(np.floor(np.log10(min_data))),\n",
    "                    1 + int(np.ceil(np.log10(max_data))))]\n",
    "sns.heatmap(np.fft.fftshift(data), norm=log_norm,\n",
    "            cmap=cm.viridis,\n",
    "            cbar_kws={\"ticks\": cbar_ticks})"
   ]
  },
  {
   "cell_type": "code",
   "execution_count": null,
   "metadata": {
    "collapsed": true
   },
   "outputs": [],
   "source": [
    "data_shift=np.fft.fftshift(data)\n",
    "data_1d = data_shift[data_shift.shape[0]//2]"
   ]
  },
  {
   "cell_type": "code",
   "execution_count": null,
   "metadata": {},
   "outputs": [],
   "source": [
    "n=50\n",
    "plt.figure()\n",
    "plt.plot(data_1d)\n",
    "plt.xlim(500-n,500+n)\n",
    "plt.show()"
   ]
  },
  {
   "cell_type": "code",
   "execution_count": null,
   "metadata": {
    "collapsed": true
   },
   "outputs": [],
   "source": [
    "k=4-5j"
   ]
  },
  {
   "cell_type": "code",
   "execution_count": null,
   "metadata": {},
   "outputs": [],
   "source": [
    "np.abs(k)"
   ]
  },
  {
   "cell_type": "code",
   "execution_count": null,
   "metadata": {},
   "outputs": [],
   "source": [
    "np.sqrt(16-25)"
   ]
  },
  {
   "cell_type": "code",
   "execution_count": null,
   "metadata": {},
   "outputs": [],
   "source": [
    "df.shape"
   ]
  },
  {
   "cell_type": "code",
   "execution_count": null,
   "metadata": {
    "collapsed": true
   },
   "outputs": [],
   "source": []
  }
 ],
 "metadata": {
  "kernelspec": {
   "display_name": "Python 3",
   "language": "python",
   "name": "python3"
  },
  "language_info": {
   "codemirror_mode": {
    "name": "ipython",
    "version": 3
   },
   "file_extension": ".py",
   "mimetype": "text/x-python",
   "name": "python",
   "nbconvert_exporter": "python",
   "pygments_lexer": "ipython3",
   "version": "3.5.2"
  }
 },
 "nbformat": 4,
 "nbformat_minor": 1
}
