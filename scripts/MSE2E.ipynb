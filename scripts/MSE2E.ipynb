{
 "cells": [
  {
   "cell_type": "markdown",
   "metadata": {},
   "source": [
    "# Mean Square End-to-End Fluctuations"
   ]
  },
  {
   "cell_type": "code",
   "execution_count": 1,
   "metadata": {
    "collapsed": true
   },
   "outputs": [],
   "source": [
    "import matplotlib.pyplot as plt\n",
    "%matplotlib inline\n",
    "import numpy as np\n",
    "from os import listdir\n",
    "import pandas as pd\n",
    "import statsmodels.formula.api as sm"
   ]
  },
  {
   "cell_type": "code",
   "execution_count": 2,
   "metadata": {
    "collapsed": true
   },
   "outputs": [],
   "source": [
    "def CreateLpDataFrame(dirName):\n",
    "    assert isinstance(dirName, str), \"The 'dirName' argument must be a string!\"\n",
    "    fileNames = [dirName+'/'+i for i in listdir(dirName) if i[-6:] == '.mse2e']\n",
    "    #df = pd.DataFrame(columns=['length','diameter','child_length','persistence_length','driving','ndim','nsteps','nspec','delta','theory'])\n",
    "    df = pd.DataFrame(columns=['n_filaments','length','child_length','persistence_length','driving','ndim','theory','mse2e','std_err'])\n",
    "    for filename in fileNames:\n",
    "        f=open(filename)\n",
    "        f.readline()\n",
    "        f.readline()\n",
    "        line = list(map(float,f.readline().split()))\n",
    "        length,childLength,perlen,driving,ndim,theory = line[0],line[2],line[3],line[4],line[5],line[9]\n",
    "        f.readline()\n",
    "        line = f.readline().split()\n",
    "        num,mse2e,stderr = int(line[0]),float(line[1]),float(line[2])\n",
    "        f.close()\n",
    "        temp_df = pd.DataFrame(data={'n_filaments':num,'length':length,'child_length':childLength,'persistence_length':perlen,'driving':driving,'ndim':ndim,'theory':theory,'mse2e':mse2e,'std_err':stderr},index=[1])\n",
    "        df = df.append(temp_df,ignore_index=True)\n",
    "    return df\n",
    "\n",
    "def GetRealUnits(df):\n",
    "    df.loc[:,'length (nm)'] = df['length'].apply(lambda y: y*25.0)\n",
    "    df.loc[:,'driving (pN/nm)'] = df['driving'].apply(lambda y: y*0.0064)\n",
    "    df.loc[:,'persistence_length (nm)'] = df['persistence_length'].apply(lambda y: y*25.0)\n",
    "    df.loc[:,'child_length (nm)'] = df['child_length'].apply(lambda y: y*25.0)\n",
    "    df.loc[:,'mse2e (nm^2)'] = df['mse2e'].apply(lambda y: y*25.0)\n",
    "    df.loc[:,'std_err (nm^2)'] = df['std_err'].apply(lambda y: y*25.0)\n",
    "    df.loc[:,'theory (nm^2)'] = df['theory'].apply(lambda y: y*25.0)\n",
    "    df.loc[:,'effective_lp (nm)'] = df['effective_lp'].apply(lambda y: y*25.0)\n",
    "    df.loc[:,'eff_lp_std_err (nm)'] = df['eff_lp_std_err'].apply(lambda y: y*25.0)\n",
    "\n",
    "\n",
    "def BackCalc(row):\n",
    "    lps = np.linspace(10,1000000,1000000)\n",
    "    mse2e_func = lambda L,Lp,ndim: (2 if ndim==3 else 4)*L*Lp - (2 if ndim==3 else 8)*Lp*Lp*(1-np.exp(-(1 if ndim==3 else 0.5)*float(L)/Lp))\n",
    "    ind=(abs(row['mse2e']-mse2e_func(row['length'],lps,row['ndim']))).argmin()\n",
    "    return round(lps[ind])\n",
    "\n",
    "def BackCalcErr(row):\n",
    "    mse2e_deriv_func = lambda L,Lp,ndim: (2 if ndim==3 else 4)*L + (2 if ndim==3 else 4)*L*np.exp(-(1 if ndim==3 else 0.5)*float(L)/Lp) - 2*Lp*(2 if ndim==3 else 8)*(1-np.exp(-(1 if ndim==3 else 0.5)*float(L)/Lp))\n",
    "    return row['std_err']/mse2e_deriv_func(row['length'],row['effective_lp'],row['ndim'])\n",
    "    #return abs(lps[ind+1]-lps[ind-1])/abs(mse2e_func(row['length'],lps[ind+1],row['ndim'])-mse2e_func(row['length'],lps[ind-1],row['ndim']))\n",
    "\n",
    "def BackCalculateLp(df,range_min=50,range_max=50000):\n",
    "    df.loc[:,'effective_lp'] = df.apply(BackCalc, axis=1)\n",
    "    df.loc[:,'eff_lp_std_err'] = df.apply(BackCalcErr, axis=1)\n",
    "    \n",
    "def CreateMasterThetaDF(dirName=\".\"):\n",
    "    \"\"\"CreateMasterThetaDF(dirName) where dirName is the directory name of the .theta files,\n",
    "       output pandas dataframe of all theta files header data and filenames\"\"\"\n",
    "    assert isinstance(dirName, str), \"The 'dirName' argument must be a string!\"\n",
    "    fileNames = [dirName+'/'+i for i in listdir(dirName) if i[-6:] == '.theta']\n",
    "    \n",
    "    if len(fileNames)==0:\n",
    "        print(\"No '.theta' files found in directory '\"+dirName+\"'.\")\n",
    "        return\n",
    "    \n",
    "    D = {\"file_name\" : []}\n",
    "    for index,name in enumerate(fileNames):\n",
    "        f = open(name,'r')\n",
    "        for i in range(2): colNames = f.readline().split()\n",
    "        if index == 0:\n",
    "            for colName in colNames:\n",
    "                D[colName] = []\n",
    "        D[\"file_name\"].append(name)\n",
    "        simParams = f.readline().split()\n",
    "        for colIndex,colName in enumerate(colNames):\n",
    "            D[colName].append(float(simParams[colIndex]))\n",
    "        f.close()\n",
    "    df = pd.DataFrame(D)\n",
    "    return df\n",
    "\n",
    "def CreateThetaDF(fileName):\n",
    "    \"\"\"CreateThetaDF(fileName) where fileName is the name of the .theta file,\n",
    "       output pandas dataframe of .theta histogram data\"\"\"\n",
    "    assert isinstance(fileName, str), \"The 'fileName' argument must be a string!\"\n",
    "    try:\n",
    "        f = open(fileName,'r')\n",
    "    except:\n",
    "        print(\"Failed to open file '\" + fileName + \"'.\")\n",
    "        return\n",
    "    \n",
    "    for i in range(4): colNames = f.readline().split()\n",
    "    D = {}\n",
    "    for colName in colNames:\n",
    "        D[colName] = []\n",
    "    for line in f:\n",
    "        line = line.split()\n",
    "        for colIndex, colName in enumerate(colNames):\n",
    "            D[colName].append(float(line[colIndex]))\n",
    "    f.close()\n",
    "    df = pd.DataFrame(D)\n",
    "    return df\n",
    "\n",
    "def CreatePlotsMaster(master_df):\n",
    "    \"\"\"TODO\"\"\"\n",
    "    assert isinstance(master_df,pd.DataFrame),\"master_df must be pandas DataFrame type\"\n",
    "    \n",
    "    for i in master_df.index:\n",
    "        CreateThetaPlot(master_df.iloc[i])\n",
    "    \n",
    "def CreateThetaPlot(theta_series,laFactor=1):\n",
    "    \"\"\"CreateThetaPlot(dataframe) where dataframe is a pandas Series that\n",
    "    contains the header data for a .theta file (a slice of a theta master dataframe)\"\"\"\n",
    "    \n",
    "    assert isinstance(theta_series,pd.Series),\"theta_series must be pandas Series type\"\n",
    "    if theta_series[\"n_dim\"]!=3:\n",
    "        return\n",
    "    df=CreateThetaDF(theta_series[\"file_name\"])\n",
    "    factor = 0.5*len(df.index)*theta_series[\"n_spec\"]/theta_series[\"n_filaments\"]/theta_series[\"n_steps\"]*100\n",
    "    for k in range(1,len(df.columns)):\n",
    "        s = df.iloc[:,k]\n",
    "        err = pd.Series(np.zeros(len(df.index)))\n",
    "        for i,j in enumerate(s):\n",
    "            err[i] = np.sqrt(j)*factor\n",
    "        s *= factor\n",
    "        df[df.columns[k]+'_err']=err\n",
    "\n",
    "    plotEvery=10\n",
    "    plt.figure()\n",
    "    plt.errorbar(df.iloc[:,0][::plotEvery],df.iloc[:,1][::plotEvery],yerr=df['theta_12_err'][::plotEvery])\n",
    "    la = theta_series[\"persistence_length\"]/theta_series[\"child_length\"]\n",
    "    if la == 0:\n",
    "        const = 2.0\n",
    "    else:\n",
    "        la=laFactor*la\n",
    "        const = 2.0*np.sinh(la)/(la)\n",
    "    y = lambda x : np.exp(la*x)/const\n",
    "    x=np.linspace(-1.0,1.0,10000)\n",
    "    plt.plot(x,y(x),'r-')\n",
    "    if theta_series[\"persistence_length\"] == 0:\n",
    "        plt.ylim(0,1)\n",
    "    plt.title('Lp = '+str(theta_series[\"persistence_length\"])+\", L = \"+str(theta_series[\"length\"])+\", cL = \"+str(theta_series[\"child_length\"]))\n",
    "    plt.xlabel(r'cos($\\theta$)')\n",
    "    plt.ylabel(r'P(cos($\\theta$))')\n",
    "    plt.legend([\"Simulation\",\"Theory\"],loc=2)\n",
    "    lp = theta_series[\"persistence_length\"]\n",
    "    if (lp > 10):\n",
    "        plt.xlim(0,1)\n",
    "        if (lp > 100):\n",
    "            plt.xlim(0.9,1)\n",
    "            if (lp > 300):\n",
    "                plt.xlim(0.95,1)\n",
    "                \n",
    "    plt.show()\n",
    "    #plt.close()"
   ]
  },
  {
   "cell_type": "markdown",
   "metadata": {},
   "source": [
    "### Next cell is raw text, convert back to code to rerun"
   ]
  },
  {
   "cell_type": "code",
   "execution_count": 3,
   "metadata": {
    "collapsed": true
   },
   "outputs": [],
   "source": [
    "df = CreateLpDataFrame('mse2e_long_slender_dr_20_delta_0.0001/')\n",
    "BackCalculateLp(df)\n",
    "GetRealUnits(df)\n",
    "df.to_pickle('mse2e_long_slender_dr_20_delta_0.0001.pkl')\n",
    "#df = CreateMasterThetaDF('mse2e_thetas')\n",
    "#df.to_pickle('mse2e_long_slender.pkl')"
   ]
  },
  {
   "cell_type": "code",
   "execution_count": 4,
   "metadata": {
    "collapsed": true
   },
   "outputs": [],
   "source": [
    "df = CreateLpDataFrame('mse2e_long_slender_dr_00_delta_0.0001_reduced10/')\n",
    "BackCalculateLp(df)\n",
    "GetRealUnits(df)\n",
    "df.to_pickle('mse2e_long_slender_dr_00_delta_0.0001_reduced10.pkl')\n",
    "#df = CreateMasterThetaDF('mse2e_thetas')\n",
    "#df.to_pickle('mse2e_long_slender.pkl')"
   ]
  },
  {
   "cell_type": "code",
   "execution_count": 16,
   "metadata": {
    "collapsed": true
   },
   "outputs": [],
   "source": [
    "df = CreateLpDataFrame('mse2e_long_slender_dr_20_delta_0.0001_tangent/')\n",
    "BackCalculateLp(df)\n",
    "GetRealUnits(df)\n",
    "df.to_pickle('mse2e_long_slender_dr_20_delta_0.0001_tangent.pkl')\n",
    "#df = CreateMasterThetaDF('mse2e_thetas')\n",
    "#df.to_pickle('mse2e_long_slender.pkl')"
   ]
  },
  {
   "cell_type": "code",
   "execution_count": 36,
   "metadata": {
    "collapsed": true
   },
   "outputs": [],
   "source": [
    "df = pd.read_pickle('mse2e_long_slender_dr_20_delta_0.0001_tangent.pkl')\n",
    "#df = pd.read_pickle('mse2e_long_slender_dr_20_delta_0.0001.pkl')\n",
    "#thetaDF = pd.read_pickle('mse2e_thetas.pkl')\n",
    "df[\"n_bonds\"]=df[\"length\"]/df[\"child_length\"]"
   ]
  },
  {
   "cell_type": "code",
   "execution_count": 37,
   "metadata": {},
   "outputs": [
    {
     "data": {
      "text/plain": [
       "<matplotlib.axes._subplots.AxesSubplot at 0x114350f28>"
      ]
     },
     "execution_count": 37,
     "metadata": {},
     "output_type": "execute_result"
    },
    {
     "data": {
      "image/png": "[encoded data removed]",
      "text/plain": [
       "<matplotlib.figure.Figure at 0x113c8dba8>"
      ]
     },
     "metadata": {},
     "output_type": "display_data"
    }
   ],
   "source": [
    "#thetaDF.head()\n",
    "df.plot(x=\"n_bonds\",y=\"effective_lp\",style='o')\n",
    "#df = pd.DataFrame({\"A\": [10,20,30,40,50], \"B\": [20, 30, 10, 40, 50], \"C\": [32, 234, 23, 23, 42523]})\n"
   ]
  },
  {
   "cell_type": "code",
   "execution_count": 41,
   "metadata": {},
   "outputs": [
    {
     "data": {
      "text/plain": [
       "<matplotlib.legend.Legend at 0x114659a20>"
      ]
     },
     "execution_count": 41,
     "metadata": {},
     "output_type": "execute_result"
    },
    {
     "data": {
      "image/png": "[encoded data removed]",
      "text/plain": [
       "<matplotlib.figure.Figure at 0x11428ce48>"
      ]
     },
     "metadata": {},
     "output_type": "display_data"
    }
   ],
   "source": [
    "df.plot(x=\"child_length\",y=\"effective_lp\",style='o')\n",
    "result = sm.ols(formula=\"effective_lp ~ child_length\",data=df).fit()\n",
    "b,m = result.params\n",
    "y = lambda x: m*x+b\n",
    "x = np.linspace(0,11,10)\n",
    "plt.plot(x,y(x))\n",
    "plt.title(r\"Effective $L_p$ with driving at tangents, varying bond length, dr=20$\\epsilon/\\sigma$, $\\delta=10^{-4}\\tau$\")\n",
    "plt.ylabel(\"Eff. $L_p$ ($\\sigma$)\")\n",
    "plt.xlabel(\"Bond length ($\\sigma$)\")\n",
    "plt.legend([\"Simulation\",\"OLS fit, slope: %2.1f $\\pm$ 5.5, $R^2$ = ~1\"%m])"
   ]
  },
  {
   "cell_type": "code",
   "execution_count": 39,
   "metadata": {},
   "outputs": [
    {
     "data": {
      "text/html": [
       "<table class=\"simpletable\">\n",
       "<caption>OLS Regression Results</caption>\n",
       "<tr>\n",
       "  <th>Dep. Variable:</th>      <td>effective_lp</td>   <th>  R-squared:         </th> <td>   1.000</td> \n",
       "</tr>\n",
       "<tr>\n",
       "  <th>Model:</th>                   <td>OLS</td>       <th>  Adj. R-squared:    </th> <td>   1.000</td> \n",
       "</tr>\n",
       "<tr>\n",
       "  <th>Method:</th>             <td>Least Squares</td>  <th>  F-statistic:       </th> <td>5.193e+04</td>\n",
       "</tr>\n",
       "<tr>\n",
       "  <th>Date:</th>             <td>Fri, 12 Jan 2018</td> <th>  Prob (F-statistic):</th> <td>4.04e-34</td> \n",
       "</tr>\n",
       "<tr>\n",
       "  <th>Time:</th>                 <td>12:57:25</td>     <th>  Log-Likelihood:    </th> <td> -102.05</td> \n",
       "</tr>\n",
       "<tr>\n",
       "  <th>No. Observations:</th>      <td>    21</td>      <th>  AIC:               </th> <td>   208.1</td> \n",
       "</tr>\n",
       "<tr>\n",
       "  <th>Df Residuals:</th>          <td>    19</td>      <th>  BIC:               </th> <td>   210.2</td> \n",
       "</tr>\n",
       "<tr>\n",
       "  <th>Df Model:</th>              <td>     1</td>      <th>                     </th>     <td> </td>    \n",
       "</tr>\n",
       "<tr>\n",
       "  <th>Covariance Type:</th>      <td>nonrobust</td>    <th>                     </th>     <td> </td>    \n",
       "</tr>\n",
       "</table>\n",
       "<table class=\"simpletable\">\n",
       "<tr>\n",
       "        <td></td>          <th>coef</th>     <th>std err</th>      <th>t</th>      <th>P>|t|</th>  <th>[0.025</th>    <th>0.975]</th>  \n",
       "</tr>\n",
       "<tr>\n",
       "  <th>Intercept</th>    <td> 1.059e+04</td> <td>   22.035</td> <td>  480.652</td> <td> 0.000</td> <td> 1.05e+04</td> <td> 1.06e+04</td>\n",
       "</tr>\n",
       "<tr>\n",
       "  <th>child_length</th> <td> -855.3317</td> <td>    3.753</td> <td> -227.890</td> <td> 0.000</td> <td> -863.187</td> <td> -847.476</td>\n",
       "</tr>\n",
       "</table>\n",
       "<table class=\"simpletable\">\n",
       "<tr>\n",
       "  <th>Omnibus:</th>       <td> 6.401</td> <th>  Durbin-Watson:     </th> <td>   0.761</td>\n",
       "</tr>\n",
       "<tr>\n",
       "  <th>Prob(Omnibus):</th> <td> 0.041</td> <th>  Jarque-Bera (JB):  </th> <td>   4.133</td>\n",
       "</tr>\n",
       "<tr>\n",
       "  <th>Skew:</th>          <td> 0.760</td> <th>  Prob(JB):          </th> <td>   0.127</td>\n",
       "</tr>\n",
       "<tr>\n",
       "  <th>Kurtosis:</th>      <td> 4.554</td> <th>  Cond. No.          </th> <td>    18.5</td>\n",
       "</tr>\n",
       "</table>"
      ],
      "text/plain": [
       "<class 'statsmodels.iolib.summary.Summary'>\n",
       "\"\"\"\n",
       "                            OLS Regression Results                            \n",
       "==============================================================================\n",
       "Dep. Variable:           effective_lp   R-squared:                       1.000\n",
       "Model:                            OLS   Adj. R-squared:                  1.000\n",
       "Method:                 Least Squares   F-statistic:                 5.193e+04\n",
       "Date:                Fri, 12 Jan 2018   Prob (F-statistic):           4.04e-34\n",
       "Time:                        12:57:25   Log-Likelihood:                -102.05\n",
       "No. Observations:                  21   AIC:                             208.1\n",
       "Df Residuals:                      19   BIC:                             210.2\n",
       "Df Model:                           1                                         \n",
       "Covariance Type:            nonrobust                                         \n",
       "================================================================================\n",
       "                   coef    std err          t      P>|t|      [0.025      0.975]\n",
       "--------------------------------------------------------------------------------\n",
       "Intercept     1.059e+04     22.035    480.652      0.000    1.05e+04    1.06e+04\n",
       "child_length  -855.3317      3.753   -227.890      0.000    -863.187    -847.476\n",
       "==============================================================================\n",
       "Omnibus:                        6.401   Durbin-Watson:                   0.761\n",
       "Prob(Omnibus):                  0.041   Jarque-Bera (JB):                4.133\n",
       "Skew:                           0.760   Prob(JB):                        0.127\n",
       "Kurtosis:                       4.554   Cond. No.                         18.5\n",
       "==============================================================================\n",
       "\n",
       "Warnings:\n",
       "[1] Standard Errors assume that the covariance matrix of the errors is correctly specified.\n",
       "\"\"\""
      ]
     },
     "execution_count": 39,
     "metadata": {},
     "output_type": "execute_result"
    }
   ],
   "source": [
    "result.summary()#df3d = df[df['ndim']==3]\n",
    "#df2d500 = df2d[df2d['persistence_length']==500.0]\n",
    "#df3d500 = df3d[df3d['persistence_length']==500.0]"
   ]
  },
  {
   "cell_type": "code",
   "execution_count": 10,
   "metadata": {},
   "outputs": [
    {
     "ename": "NameError",
     "evalue": "name 'df2d500' is not defined",
     "output_type": "error",
     "traceback": [
      "\u001b[0;31m---------------------------------------------------------------------------\u001b[0m",
      "\u001b[0;31mNameError\u001b[0m                                 Traceback (most recent call last)",
      "\u001b[0;32m<ipython-input-10-f1385bbd1b76>\u001b[0m in \u001b[0;36m<module>\u001b[0;34m()\u001b[0m\n\u001b[0;32m----> 1\u001b[0;31m \u001b[0mgrouped\u001b[0m\u001b[0;34m=\u001b[0m\u001b[0mdf2d500\u001b[0m\u001b[0;34m.\u001b[0m\u001b[0mgroupby\u001b[0m\u001b[0;34m(\u001b[0m\u001b[0;34m'child_length (nm)'\u001b[0m\u001b[0;34m)\u001b[0m\u001b[0;34m\u001b[0m\u001b[0m\n\u001b[0m\u001b[1;32m      2\u001b[0m \u001b[0mfig\u001b[0m\u001b[0;34m,\u001b[0m\u001b[0max\u001b[0m\u001b[0;34m=\u001b[0m\u001b[0mplt\u001b[0m\u001b[0;34m.\u001b[0m\u001b[0msubplots\u001b[0m\u001b[0;34m(\u001b[0m\u001b[0mnrows\u001b[0m\u001b[0;34m=\u001b[0m\u001b[0;36m1\u001b[0m\u001b[0;34m,\u001b[0m\u001b[0mncols\u001b[0m\u001b[0;34m=\u001b[0m\u001b[0mlen\u001b[0m\u001b[0;34m(\u001b[0m\u001b[0mgrouped\u001b[0m\u001b[0;34m)\u001b[0m\u001b[0;34m,\u001b[0m\u001b[0mfigsize\u001b[0m\u001b[0;34m=\u001b[0m\u001b[0;34m(\u001b[0m\u001b[0;36m12\u001b[0m\u001b[0;34m,\u001b[0m\u001b[0;36m6\u001b[0m\u001b[0;34m)\u001b[0m\u001b[0;34m,\u001b[0m\u001b[0mdpi\u001b[0m\u001b[0;34m=\u001b[0m\u001b[0;36m80\u001b[0m\u001b[0;34m)\u001b[0m\u001b[0;34m\u001b[0m\u001b[0m\n\u001b[1;32m      3\u001b[0m \u001b[0mi\u001b[0m\u001b[0;34m=\u001b[0m\u001b[0;36m0\u001b[0m\u001b[0;34m\u001b[0m\u001b[0m\n\u001b[1;32m      4\u001b[0m \u001b[0;32mfor\u001b[0m \u001b[0mperlen\u001b[0m\u001b[0;34m,\u001b[0m\u001b[0mgroup\u001b[0m \u001b[0;32min\u001b[0m \u001b[0mgrouped\u001b[0m\u001b[0;34m:\u001b[0m\u001b[0;34m\u001b[0m\u001b[0m\n\u001b[1;32m      5\u001b[0m     \u001b[0max\u001b[0m\u001b[0;34m[\u001b[0m\u001b[0mi\u001b[0m\u001b[0;34m]\u001b[0m\u001b[0;34m.\u001b[0m\u001b[0mset_title\u001b[0m\u001b[0;34m(\u001b[0m\u001b[0;34m\"MSE2E with driving, 3D\\n\"\u001b[0m \u001b[0;34m+\u001b[0m \u001b[0;34mr'$L_p/L$: '\u001b[0m \u001b[0;34m+\u001b[0m \u001b[0mstr\u001b[0m\u001b[0;34m(\u001b[0m\u001b[0mperlen\u001b[0m\u001b[0;34m/\u001b[0m\u001b[0;34m(\u001b[0m\u001b[0;36m50\u001b[0m\u001b[0;34m*\u001b[0m\u001b[0;36m25\u001b[0m\u001b[0;34m)\u001b[0m\u001b[0;34m)\u001b[0m\u001b[0;34m,\u001b[0m\u001b[0mfontsize\u001b[0m\u001b[0;34m=\u001b[0m\u001b[0;36m15\u001b[0m\u001b[0;34m,\u001b[0m\u001b[0my\u001b[0m\u001b[0;34m=\u001b[0m\u001b[0;36m1.02\u001b[0m\u001b[0;34m)\u001b[0m\u001b[0;34m\u001b[0m\u001b[0m\n",
      "\u001b[0;31mNameError\u001b[0m: name 'df2d500' is not defined"
     ]
    }
   ],
   "source": [
    "grouped=df2d500.groupby('child_length (nm)')\n",
    "fig,ax=plt.subplots(nrows=1,ncols=len(grouped),figsize=(12,6),dpi=80)\n",
    "i=0\n",
    "for perlen,group in grouped:\n",
    "    ax[i].set_title(\"MSE2E with driving, 3D\\n\" + r'$L_p/L$: ' + str(perlen/(50*25)),fontsize=15,y=1.02)\n",
    "    ax[i].errorbar(group['driving (pN/nm)'],group['mse2e (nm^2)'],yerr=group['std_err (nm^2)'])\n",
    "    ax[i].plot(group['driving (pN/nm)'],group['theory (nm^2)'])\n",
    "    ax[i].plot(group['driving (pN/nm)'],group['mse2e (nm^2)'])\n",
    "    ax[i].ticklabel_format(sytle='sci',axis='x',scilimits=(0,0))\n",
    "    ax[i].ticklabel_format(sytle='sci',axis='y',scilimits=(0,0))\n",
    "    ax[i].set_ylabel(r'MSE2E Distance (nm$^2$)',fontsize=14)\n",
    "    ax[i].set_xlabel(\"Driving (pN/nm)\",fontsize=14)\n",
    "    ax[i].legend([r'Theory$_{dr=0}$','Sim','Std. Err.'],loc=3)\n",
    "    ax[i].set_xlim(min(group['driving (pN/nm)'])-0.01,max(group['driving (pN/nm)'])+0.01)\n",
    "    i+=1\n",
    "fig.tight_layout()#rect=(0.05,0.1,0.95,0.9),pad=0)\n",
    "plt.show()"
   ]
  },
  {
   "cell_type": "code",
   "execution_count": null,
   "metadata": {},
   "outputs": [],
   "source": [
    "grouped=df2d500.groupby('child_length (nm)')\n",
    "fig,ax=plt.subplots(nrows=1,ncols=len(grouped),figsize=(12,6),dpi=80)\n",
    "i=0\n",
    "for perlen,group in grouped:\n",
    "    ax[i].set_title(\"MSE2E with driving, 3D\\n\" + r'$L_p/L$: ' + str(perlen/(50*25)),fontsize=15,y=1.02)\n",
    "    ax[i].errorbar(group['driving (pN/nm)'],group['mse2e (nm^2)'],yerr=group['std_err (nm^2)'])\n",
    "    ax[i].plot(group['driving (pN/nm)'],group['theory (nm^2)'])\n",
    "    ax[i].plot(group['driving (pN/nm)'],group['mse2e (nm^2)'])\n",
    "    ax[i].ticklabel_format(sytle='sci',axis='x',scilimits=(0,0))\n",
    "    ax[i].ticklabel_format(sytle='sci',axis='y',scilimits=(0,0))\n",
    "    ax[i].set_ylabel(r'MSE2E Distance (nm$^2$)',fontsize=14)\n",
    "    ax[i].set_xlabel(\"Driving (pN/nm)\",fontsize=14)\n",
    "    ax[i].legend([r'Theory$_{dr=0}$','Sim','Std. Err.'],loc=3)\n",
    "    ax[i].set_xlim(min(group['driving (pN/nm)'])-0.01,max(group['driving (pN/nm)'])+0.01)\n",
    "    i+=1\n",
    "fig.tight_layout()#rect=(0.05,0.1,0.95,0.9),pad=0)\n",
    "plt.show()"
   ]
  },
  {
   "cell_type": "code",
   "execution_count": null,
   "metadata": {},
   "outputs": [],
   "source": [
    "df2d = df[df['ndim']==2]\n",
    "#df3d = df[df['ndim']==3]\n",
    "grouped=df2d.groupby('persistence_length (nm)')\n",
    "fig,ax=plt.subplots(nrows=1,ncols=len(grouped),figsize=(12,6),dpi=80)\n",
    "i=0\n",
    "for perlen,group in grouped:\n",
    "    ax[i].set_title(\"MSE2E with driving, 2D\\n\" + r'$L_p/L$: ' + str(perlen/(50*25)),fontsize=15,y=1.02)\n",
    "    ax[i].errorbar(group['driving (pN/nm)'],group['mse2e (nm^2)'],yerr=group['std_err (nm^2)'])\n",
    "    ax[i].plot(group['driving (pN/nm)'],group['theory (nm^2)'])\n",
    "    ax[i].plot(group['driving (pN/nm)'],group['mse2e (nm^2)'])\n",
    "    ax[i].ticklabel_format(sytle='sci',axis='x',scilimits=(0,0))\n",
    "    ax[i].ticklabel_format(sytle='sci',axis='y',scilimits=(0,0))\n",
    "    ax[i].set_ylabel(r'MSE2E Distance (nm$^2$)',fontsize=14)\n",
    "    ax[i].set_xlabel(\"Driving (pN/nm)\",fontsize=14)\n",
    "    ax[i].legend([r'Theory$_{dr=0}$','Sim','Std. Err.'],loc=3)\n",
    "    ax[i].set_xlim(min(group['driving (pN/nm)'])-0.01,max(group['driving (pN/nm)'])+0.01)\n",
    "    i+=1\n",
    "fig.tight_layout()#rect=(0.05,0.1,0.95,0.9),pad=0)\n",
    "plt.show()"
   ]
  },
  {
   "cell_type": "code",
   "execution_count": null,
   "metadata": {},
   "outputs": [],
   "source": [
    "grouped=df2d500.groupby('child_length (nm)')\n",
    "fig,ax=plt.subplots(nrows=1,ncols=len(grouped),figsize=(15,6),dpi=80,sharey=True)\n",
    "ax[0].set_ylabel(r'$L_{p}^{(eff)}$ / $L^{(actual)}_{p}$',fontsize=23)\n",
    "ax[0].set_ylabel(r'$L_{p}^{(eff)}$ / $L^{(actual)}_{p}$',fontsize=23)\n",
    "fig.suptitle(\"Effective \" + r'$L_p$' +\" with driving compared to actual \" r'$L_p$' +\" in 2D\",fontsize=20)\n",
    "i=0\n",
    "for childLen,group in grouped:\n",
    "    #ax[i].set_title(\"\\n\\n\"+r'$L_p/L$: ' + str(perlen/(50*25)),fontsize=15,y=1.0)\n",
    "    ax[i].errorbar(group['driving (pN/nm)'],group['effective_lp (nm)']/group['persistence_length (nm)'],yerr=group['eff_lp_std_err (nm)']/group['persistence_length (nm)'],color='red',capsize=5)\n",
    "    ax[i].plot(group['driving (pN/nm)'],group['persistence_length (nm)']/group['persistence_length (nm)'],'b--')\n",
    "    ax[i].plot(group['driving (pN/nm)'],group['effective_lp (nm)']/group['persistence_length (nm)'],'ro')\n",
    "    #ax[i].ticklabel_format(sytle='sci',axis='x',scilimits=(0,0))\n",
    "    #ax[i].ticklabel_format(sytle='sci',axis='y',scilimits=(0,0))\n",
    "    #ax[i].set_ylabel(r'Effective $L_p$ / Actual $L_p$',fontsize=14)\n",
    "    #if i>0:\n",
    "    ax[i].set_xlabel(\"Driving (pN/nm)\",fontsize=17)\n",
    "    #ax[i][j].legend(markerscale=0)\n",
    "    #ax[i][j].legend([r'$L_{p}/L = %.0f$'%(perlen/(50*25))],loc=3,fontsize=14)\n",
    "    ax[i].annotate(r'$l_s = %.0f nm$'%(childLen), xy=(100, 30), xycoords='axes points',\n",
    "            size=14, ha='right', va='top',\n",
    "            bbox=dict(boxstyle='round', fc='w'))\n",
    "    ax[i].set_xlim(min(group['driving (pN/nm)'])-0.01,max(group['driving (pN/nm)'])+0.01)\n",
    "    ax[i].grid(True)\n",
    "    ax[i].set_ylim(0,1.15)\n",
    "    textstr = '$l_s=%.0f$'%(childLen)\n",
    "    props = dict(boxstyle='square', facecolor='white', alpha=1)\n",
    "    #ax[i].text(0.2, 0.1, textstr, transform=ax[i].transAxes, fontsize=20,\n",
    "    #        verticalalignment='top', bbox=props)\n",
    "    i+=1\n",
    "\n",
    "\n",
    "ax[2].legend([r'Actual $L_{p}$','Sim w/ driving'],fontsize=18,loc='center')\n",
    "#fig.legend([r'Actual $L_{p}$','Sim w/ driving'],fontsize=20)\n",
    "\n",
    "fig.tight_layout(rect=(0,0,1,0.93))\n",
    "fig.subplots_adjust(wspace=0.0,hspace=0.0)\n",
    "#fig.tight_layout(rect=(0.05,0.1,0.95,0.9),pad=0)\n",
    "plt.savefig('mse2e_segment_effects_2d.png')\n",
    "#plt.show()"
   ]
  },
  {
   "cell_type": "code",
   "execution_count": null,
   "metadata": {},
   "outputs": [],
   "source": [
    "[CreateThetaPlot(thetaDF3d500.iloc[0]),CreateThetaPlot(thetaDF3d500.iloc[4],0.288)]"
   ]
  },
  {
   "cell_type": "code",
   "execution_count": null,
   "metadata": {},
   "outputs": [],
   "source": [
    "grouped=df3d.groupby('persistence_length (nm)')\n",
    "fig,ax=plt.subplots(nrows=1,ncols=1,figsize=(15,6),dpi=80,sharey=True)\n",
    "#ax.set_ylabel(r'$L_{p}^{(eff)}$ / $L^{(actual)}_{p}$',fontsize=23)\n",
    "ax.set_ylabel(r'$L_{p}^{(eff)}$ / $L^{(actual)}_{p}$',fontsize=23)\n",
    "fig.suptitle(\"Effective \" + r'$L_p$' +\" with driving compared to actual \" r'$L_p$' +\" in 3D\",fontsize=20)\n",
    "#i=0\n",
    "#for perlen,group in grouped:\n",
    "    #ax[i].set_title(\"\\n\\n\"+r'$L_p/L$: ' + str(perlen/(50*25)),fontsize=15,y=1.0)\n",
    "ax.errorbar(group['driving (pN/nm)'],group['effective_lp (nm)']/group['persistence_length (nm)'],yerr=group['eff_lp_std_err (nm)']/group['persistence_length (nm)'],color='red',capsize=5)\n",
    "ax.plot(group['driving (pN/nm)'],group['persistence_length (nm)']/group['persistence_length (nm)'],'b--')\n",
    "ax.plot(group['driving (pN/nm)'],group['effective_lp (nm)']/group['persistence_length (nm)'],'ro')\n",
    "#ax[i].ticklabel_format(sytle='sci',axis='x',scilimits=(0,0))\n",
    "#ax[i].ticklabel_format(sytle='sci',axis='y',scilimits=(0,0))\n",
    "#ax[i].set_ylabel(r'Effective $L_p$ / Actual $L_p$',fontsize=14)\n",
    "#if i>0:\n",
    "ax.set_xlabel(\"Driving (pN/nm)\",fontsize=17)\n",
    "#ax[i][j].legend(markerscale=0)\n",
    "#ax[i][j].legend([r'$L_{p}/L = %.0f$'%(perlen/(50*25))],loc=3,fontsize=14)\n",
    "ax.annotate(r'$L_{p}/L = %.0f$'%(perlen/(50*25)), xy=(100, 30), xycoords='axes points',\n",
    "        size=14, ha='right', va='top',\n",
    "        bbox=dict(boxstyle='round', fc='w'))\n",
    "ax.set_xlim(min(group['driving (pN/nm)'])-0.01,max(group['driving (pN/nm)'])+0.01)\n",
    "ax.grid(True)\n",
    "ax.set_ylim(0.2,1.15)\n",
    "textstr = '$L_p/L=%.0f$'%(perlen/(50*25))\n",
    "props = dict(boxstyle='square', facecolor='white', alpha=1)\n",
    "#ax[i].text(0.2, 0.1, textstr, transform=ax[i].transAxes, fontsize=20,\n",
    "#        verticalalignment='top', bbox=props)\n",
    "#i+=1\n",
    "\n",
    "\n",
    "ax.legend([r'Actual $L_{p}$','Sim w/ driving'],fontsize=18,loc='center')\n",
    "#fig.legend([r'Actual $L_{p}$','Sim w/ driving'],fontsize=20)\n",
    "\n",
    "fig.tight_layout(rect=(0,0,1,0.93))\n",
    "fig.subplots_adjust(wspace=0.0,hspace=0.0)\n",
    "#fig.tight_layout(rect=(0.05,0.1,0.95,0.9),pad=0)\n",
    "#plt.savefig('mse2e_3d.png')\n",
    "#plt.show()"
   ]
  },
  {
   "cell_type": "code",
   "execution_count": null,
   "metadata": {},
   "outputs": [],
   "source": [
    "grouped=df3d500.groupby('child_length (nm)')\n",
    "fig,ax=plt.subplots(nrows=1,ncols=len(grouped),figsize=(15,6),dpi=80,sharey=True)\n",
    "ax[0].set_ylabel(r'$L_{p}^{(eff)}$ / $L^{(actual)}_{p}$',fontsize=23)\n",
    "ax[0].set_ylabel(r'$L_{p}^{(eff)}$ / $L^{(actual)}_{p}$',fontsize=23)\n",
    "fig.suptitle(\"Effective \" + r'$L_p$' +\" with driving compared to actual \" r'$L_p$' +\" in 3D\",fontsize=20)\n",
    "i=0\n",
    "for childLen,group in grouped:\n",
    "    #ax[i].set_title(\"\\n\\n\"+r'$L_p/L$: ' + str(perlen/(50*25)),fontsize=15,y=1.0)\n",
    "    ax[i].errorbar(group['driving (pN/nm)'],group['effective_lp (nm)']/group['persistence_length (nm)'],yerr=group['eff_lp_std_err (nm)']/group['persistence_length (nm)'],color='red',capsize=5)\n",
    "    ax[i].plot(group['driving (pN/nm)'],group['persistence_length (nm)']/group['persistence_length (nm)'],'b--')\n",
    "    ax[i].plot(group['driving (pN/nm)'],group['effective_lp (nm)']/group['persistence_length (nm)'],'ro')\n",
    "    #ax[i].ticklabel_format(sytle='sci',axis='x',scilimits=(0,0))\n",
    "    #ax[i].ticklabel_format(sytle='sci',axis='y',scilimits=(0,0))\n",
    "    #ax[i].set_ylabel(r'Effective $L_p$ / Actual $L_p$',fontsize=14)\n",
    "    #if i>0:\n",
    "    ax[i].set_xlabel(\"Driving (pN/nm)\",fontsize=17)\n",
    "    #ax[i][j].legend(markerscale=0)\n",
    "    #ax[i][j].legend([r'$L_{p}/L = %.0f$'%(perlen/(50*25))],loc=3,fontsize=14)\n",
    "    ax[i].annotate(r'$l_s = %.0f nm$'%(childLen), xy=(100, 30), xycoords='axes points',\n",
    "            size=14, ha='right', va='top',\n",
    "            bbox=dict(boxstyle='round', fc='w'))\n",
    "    ax[i].set_xlim(min(group['driving (pN/nm)'])-0.01,max(group['driving (pN/nm)'])+0.01)\n",
    "    ax[i].grid(True)\n",
    "    ax[i].set_ylim(0,1.15)\n",
    "    textstr = '$l_s=%.0f$'%(childLen)\n",
    "    props = dict(boxstyle='square', facecolor='white', alpha=1)\n",
    "    #ax[i].text(0.2, 0.1, textstr, transform=ax[i].transAxes, fontsize=20,\n",
    "    #        verticalalignment='top', bbox=props)\n",
    "    i+=1\n",
    "\n",
    "\n",
    "ax[2].legend([r'Actual $L_{p}$','Sim w/ driving'],fontsize=18,loc='center')\n",
    "#fig.legend([r'Actual $L_{p}$','Sim w/ driving'],fontsize=20)\n",
    "\n",
    "fig.tight_layout(rect=(0,0,1,0.93))\n",
    "fig.subplots_adjust(wspace=0.0,hspace=0.0)\n",
    "#fig.tight_layout(rect=(0.05,0.1,0.95,0.9),pad=0)\n",
    "plt.savefig('mse2e_segment_effects_3d.png')\n",
    "#plt.show()"
   ]
  },
  {
   "cell_type": "code",
   "execution_count": null,
   "metadata": {
    "collapsed": true
   },
   "outputs": [],
   "source": [
    "#[CreateThetaPlot(thetaDF.iloc[i]) for i in range(5)]\n",
    "thetaDF3d = thetaDF[thetaDF['n_dim']==3]\n",
    "thetaDF3d500 = thetaDF3d[thetaDF3d['persistence_length']==500]\n",
    "thetaDF2d = thetaDF[thetaDF['n_dim']==2]\n",
    "thetaDF2d500 = thetaDF2d[thetaDF2d['persistence_length']==500]"
   ]
  },
  {
   "cell_type": "code",
   "execution_count": null,
   "metadata": {},
   "outputs": [],
   "source": [
    "[CreateThetaPlot(thetaDF3d500.iloc[i]) for i in [4,9,14]]"
   ]
  },
  {
   "cell_type": "code",
   "execution_count": null,
   "metadata": {},
   "outputs": [],
   "source": [
    "thetaDF3d500.iloc[14]"
   ]
  },
  {
   "cell_type": "code",
   "execution_count": null,
   "metadata": {},
   "outputs": [],
   "source": [
    "thetaDF2d500.head()"
   ]
  },
  {
   "cell_type": "code",
   "execution_count": null,
   "metadata": {},
   "outputs": [],
   "source": [
    "thetaDF3d500"
   ]
  },
  {
   "cell_type": "code",
   "execution_count": null,
   "metadata": {
    "collapsed": true
   },
   "outputs": [],
   "source": []
  },
  {
   "cell_type": "code",
   "execution_count": null,
   "metadata": {
    "collapsed": true
   },
   "outputs": [],
   "source": []
  },
  {
   "cell_type": "code",
   "execution_count": null,
   "metadata": {
    "collapsed": true
   },
   "outputs": [],
   "source": []
  }
 ],
 "metadata": {
  "kernelspec": {
   "display_name": "Python 3",
   "language": "python",
   "name": "python3"
  },
  "language_info": {
   "codemirror_mode": {
    "name": "ipython",
    "version": 3
   },
   "file_extension": ".py",
   "mimetype": "text/x-python",
   "name": "python",
   "nbconvert_exporter": "python",
   "pygments_lexer": "ipython3",
   "version": "3.6.2"
  }
 },
 "nbformat": 4,
 "nbformat_minor": 1
}
