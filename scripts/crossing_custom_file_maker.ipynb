{
 "cells": [
  {
   "cell_type": "code",
   "execution_count": 1,
   "metadata": {
    "collapsed": true
   },
   "outputs": [],
   "source": [
    "import numpy as np\n",
    "import matplotlib.pyplot as plt"
   ]
  },
  {
   "cell_type": "code",
   "execution_count": 38,
   "metadata": {},
   "outputs": [
    {
     "data": {
      "image/png": "[encoded data removed]",
      "text/plain": [
       "<Figure size 216x432 with 1 Axes>"
      ]
     },
     "metadata": {},
     "output_type": "display_data"
    }
   ],
   "source": [
    "epsilon = np.pi/64\n",
    "thetas = np.linspace(np.pi/2+epsilon, 3*np.pi/2-epsilon, 101)\n",
    "R=25\n",
    "f=open('filament_crossing_101.yaml','w')\n",
    "f.write('passive_filament:\\n  - [[1.5,0,0],[0,1,0]]\\nfilament:\\n')\n",
    "for theta in thetas:\n",
    "    f.write('  - [[%2.2f,%2.2f,0],[%2.2f,%2.2f,0]]\\n'% (R*np.cos(theta),R*np.sin(theta),-np.cos(theta),-np.sin(theta)))\n",
    "f.close()\n",
    "plt.figure(figsize=(3,6))\n",
    "plt.plot(x,y)\n",
    "plt.show()"
   ]
  },
  {
   "cell_type": "code",
   "execution_count": 20,
   "metadata": {},
   "outputs": [
    {
     "name": "stdout",
     "output_type": "stream",
     "text": [
      "filament:\n",
      "\n",
      "  - [[0.00,30.00,0],[-0.00,-1.00,0]]\n",
      "\n",
      "  - [[-10.26,28.19,0],[0.34,-0.94,0]]\n",
      "\n",
      "  - [[-19.28,22.98,0],[0.64,-0.77,0]]\n",
      "\n",
      "  - [[-25.98,15.00,0],[0.87,-0.50,0]]\n",
      "\n",
      "  - [[-29.54,5.21,0],[0.98,-0.17,0]]\n",
      "\n",
      "  - [[-29.54,-5.21,0],[0.98,0.17,0]]\n",
      "\n",
      "  - [[-25.98,-15.00,0],[0.87,0.50,0]]\n",
      "\n",
      "  - [[-19.28,-22.98,0],[0.64,0.77,0]]\n",
      "\n",
      "  - [[-10.26,-28.19,0],[0.34,0.94,0]]\n",
      "\n",
      "  - [[-0.00,-30.00,0],[0.00,1.00,0]]\n",
      "\n"
     ]
    }
   ],
   "source": [
    "f=open('test_custom.yaml','r')\n",
    "for line in f:\n",
    "    print(line)\n",
    "f.close()"
   ]
  },
  {
   "cell_type": "code",
   "execution_count": null,
   "metadata": {
    "collapsed": true
   },
   "outputs": [],
   "source": []
  }
 ],
 "metadata": {
  "kernelspec": {
   "display_name": "Python 3",
   "language": "python",
   "name": "python3"
  },
  "language_info": {
   "codemirror_mode": {
    "name": "ipython",
    "version": 3
   },
   "file_extension": ".py",
   "mimetype": "text/x-python",
   "name": "python",
   "nbconvert_exporter": "python",
   "pygments_lexer": "ipython3",
   "version": "3.6.5"
  }
 },
 "nbformat": 4,
 "nbformat_minor": 1
}
