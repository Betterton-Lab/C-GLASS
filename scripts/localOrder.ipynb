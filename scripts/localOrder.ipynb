{
 "cells": [
  {
   "cell_type": "code",
   "execution_count": null,
   "metadata": {
    "collapsed": true
   },
   "outputs": [],
   "source": [
    "import pandas as pd\n",
    "import numpy as np\n",
    "import matplotlib.pyplot as plt\n",
    "import matplotlib.cm as cm\n",
    "import seaborn as sns"
   ]
  },
  {
   "cell_type": "code",
   "execution_count": null,
   "metadata": {
    "collapsed": true
   },
   "outputs": [],
   "source": [
    "fname=\"soft_pf0.4_l100_d030_sp050_lp050_reload001_reduced10\"\n",
    "dfpdf=pd.read_csv(fname+\".local_pdf\",sep=\" \",header=None)\n",
    "dfpdf=dfpdf.dropna(axis=1)\n",
    "dfnematic=pd.read_csv(fname+\".local_nematic\",sep=\" \",header=None)\n",
    "dfnematic=dfnematic.dropna(axis=1)\n",
    "dfpolar=pd.read_csv(fname+\".local_polar\",sep=\" \",header=None)\n",
    "dfpolar=dfpolar.dropna(axis=1)"
   ]
  },
  {
   "cell_type": "code",
   "execution_count": null,
   "metadata": {
    "scrolled": true
   },
   "outputs": [],
   "source": [
    "fig,ax = plt.subplots(1,3,figsize=(22,7))\n",
    "sns.heatmap(dfpdf,cmap=cm.binary,ax=ax[0])\n",
    "sns.heatmap(dfnematic,vmin=0.6,vmax=1,cmap=cm.binary,ax=ax[1])\n",
    "sns.heatmap(dfpolar,vmin=0.6,vmax=1,cmap=cm.binary,ax=ax[2])\n",
    "plt.show()"
   ]
  },
  {
   "cell_type": "code",
   "execution_count": null,
   "metadata": {
    "collapsed": true
   },
   "outputs": [],
   "source": [
    "fname=\"soft_pf0.4_l100_d030_sp100_lp050_reload001_reduced10\"\n",
    "dfpdf=pd.read_csv(fname+\".local_pdf\",sep=\" \",header=None)\n",
    "dfpdf=dfpdf.dropna(axis=1)\n",
    "dfnematic=pd.read_csv(fname+\".local_nematic\",sep=\" \",header=None)\n",
    "dfnematic=dfnematic.dropna(axis=1)\n",
    "dfpolar=pd.read_csv(fname+\".local_polar\",sep=\" \",header=None)\n",
    "dfpolar=dfpolar.dropna(axis=1)"
   ]
  },
  {
   "cell_type": "code",
   "execution_count": null,
   "metadata": {},
   "outputs": [],
   "source": [
    "fig,ax = plt.subplots(1,3,figsize=(22,7))\n",
    "sns.heatmap(dfpdf,cmap=cm.binary,ax=ax[0])\n",
    "sns.heatmap(dfnematic,vmin=0.6,vmax=1,cmap=cm.binary,ax=ax[1])\n",
    "sns.heatmap(dfpolar,vmin=0.6,vmax=1,cmap=cm.binary,ax=ax[2])\n",
    "plt.show()"
   ]
  },
  {
   "cell_type": "code",
   "execution_count": null,
   "metadata": {
    "collapsed": true
   },
   "outputs": [],
   "source": [
    "dfpolar=pd.read_csv(\"fjf.local_polar\",sep=\" \",header=None)\n",
    "dfpolar=dfpolar.dropna(axis=1)"
   ]
  },
  {
   "cell_type": "code",
   "execution_count": null,
   "metadata": {},
   "outputs": [],
   "source": [
    "plt.figure()\n",
    "sns.heatmap(dfpolar,cmap=cm.binary)\n",
    "plt.show()"
   ]
  },
  {
   "cell_type": "code",
   "execution_count": null,
   "metadata": {
    "collapsed": true
   },
   "outputs": [],
   "source": []
  },
  {
   "cell_type": "code",
   "execution_count": null,
   "metadata": {
    "collapsed": true
   },
   "outputs": [],
   "source": []
  }
 ],
 "metadata": {
  "kernelspec": {
   "display_name": "Python 3",
   "language": "python",
   "name": "python3"
  },
  "language_info": {
   "codemirror_mode": {
    "name": "ipython",
    "version": 3
   },
   "file_extension": ".py",
   "mimetype": "text/x-python",
   "name": "python",
   "nbconvert_exporter": "python",
   "pygments_lexer": "ipython3",
   "version": "3.5.2"
  }
 },
 "nbformat": 4,
 "nbformat_minor": 1
}
