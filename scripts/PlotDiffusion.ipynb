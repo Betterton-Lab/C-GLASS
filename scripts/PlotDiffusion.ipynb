{
 "cells": [
  {
   "cell_type": "code",
   "execution_count": null,
   "metadata": {
    "collapsed": true
   },
   "outputs": [],
   "source": [
    "import matplotlib\n",
    "import numpy as np\n",
    "from scipy import stats\n",
    "# matplotlib.use(\"macosx\")\n",
    "import matplotlib.pyplot as plt"
   ]
  },
  {
   "cell_type": "code",
   "execution_count": null,
   "metadata": {
    "collapsed": true
   },
   "outputs": [],
   "source": [
    "#f = open(\"/Users/jeff/Research/Simcore/diffusion_len_10_2d.log\",'r')\n",
    "#f = open(\"/Users/jeff/Research/Simcore/diffusion_len_10_2d_2.log\",'r')\n",
    "f=open(\"/Users/jeff/Research/Simcore/rigid_diffusion_len_10_2d_1.log\",'r')\n",
    "#f = open(\"/Users/jeff/simcore/rigid-diffusion-2d-r1-diffusion.log\")\n",
    "line = f.readline()\n",
    "line=line.split()\n",
    "nFilaments=len(line)-1\n",
    "time=[]\n",
    "dat=[]\n",
    "for i in xrange(nFilaments):\n",
    "    dat.append([])\n",
    "for line in f:\n",
    "    line=line.split()\n",
    "    time.append(float(line[0])*.001) # multiply times delta to get simtime\n",
    "    for i in xrange(nFilaments):\n",
    "        dat[i].append(np.cos(float(line[i+1])))\n",
    "f.close()\n"
   ]
  },
  {
   "cell_type": "code",
   "execution_count": null,
   "metadata": {},
   "outputs": [],
   "source": [
    "length=10\n",
    "means=[]\n",
    "sems=[]\n",
    "for n in xrange(nFilaments):\n",
    "    diff=[]\n",
    "    for i in xrange(1,len(dat[n])):\n",
    "        diff.append(np.square(dat[n][i]-dat[n][0]))\n",
    "    meanDiff=np.mean(diff)\n",
    "    stdDiff=np.std(diff, ddof=1)\n",
    "    means.append(meanDiff)\n",
    "    sems.append(stdDiff)\n",
    "print np.mean(means)\n",
    "print stats.sem(means)\n",
    "print stats.mode(means)[0][0]\n",
    "plt.hist(means,bins=10)\n",
    "plt.show()\n",
    "#length=length/2.0\n",
    "#dRot=9.0*np.log(length)/(length)**3\n",
    "#length=length-1\n",
    "#dRot2=np.square(length+1)*(length+1)/(9.0 * np.log(length) - 0.662 + 0.917 * 1.0/(length + 1) - 0.050 * 1.0/(length+1)**2)\n",
    "#dRot2=1.0/dRot2\n",
    "\n",
    "#print \"theory: \" + str(np.exp(-2*dRot*t))"
   ]
  },
  {
   "cell_type": "code",
   "execution_count": null,
   "metadata": {
    "collapsed": true
   },
   "outputs": [],
   "source": [
    "f = open(\"/Users/jeff/Research/Simcore/rigid_diffusion_len_10_2d_1.log\",'r')\n",
    "line = f.readline()\n",
    "line=line.split()\n",
    "nFilaments=len(line)-1\n",
    "time=[]\n",
    "dat=[]\n",
    "for i in xrange(nFilaments):\n",
    "    dat.append([])\n",
    "for line in f:\n",
    "    line=line.split()\n",
    "    time.append(float(line[0])*.001) # multiply times delta to get simtime\n",
    "    for i in xrange(nFilaments):\n",
    "        dat[i].append(np.cos(float(line[i+1])))\n",
    "f.close()"
   ]
  },
  {
   "cell_type": "code",
   "execution_count": null,
   "metadata": {
    "collapsed": true
   },
   "outputs": [],
   "source": [
    "length=10\n",
    "dRot=9.0*np.log(length)/(length)**3\n",
    "meanOrientation=[]\n",
    "sems=[]\n",
    "for i in xrange(len(dat[0])):\n",
    "    meanOrientation.append([])\n",
    "for j in xrange(1,5):\n",
    "    #f = open(\"/Users/jeff/Research/Simcore/diffusion_len_10_2d_\"+str(j)+\".log\",'r')\n",
    "    f = open(\"/Users/jeff/Research/Simcore/rigid_diffusion_len_10_2d_\"+str(j)+\".log\",'r')\n",
    "    line = f.readline()\n",
    "    line=line.split()\n",
    "    nFilaments=len(line)-1\n",
    "    time=[]\n",
    "    dat=[]\n",
    "    for i in xrange(nFilaments):\n",
    "        dat.append([])\n",
    "    for line in f:\n",
    "        line=line.split()\n",
    "        time.append(float(line[0])*.001) # multiply times delta to get simtime\n",
    "        for i in xrange(nFilaments):\n",
    "            dat[i].append(np.cos(float(line[i+1])))\n",
    "    f.close()\n",
    "    for i in xrange(len(dat[0])):\n",
    "        for n in xrange(nFilaments):\n",
    "            meanOrientation[i].append(dat[n][i])\n",
    "for i in xrange(len(dat[0])):\n",
    "    sems.append(stats.sem(meanOrientation[i]))\n",
    "    meanOrientation[i] = np.mean(meanOrientation[i])\n",
    "theory = lambda t: np.exp(-dRot*t)\n",
    "tm = np.linspace(time[0],time[len(time)-1],1000)\n",
    "#length=length/2.0\n",
    "#dRot=9.0*np.log(length)/(length)**3\n",
    "#length=length-1\n",
    "#dRot2=np.square(length+1)*(length+1)/(9.0 * np.log(length) - 0.662 + 0.917 * 1.0/(length + 1) - 0.050 * 1.0/(length+1)**2)\n",
    "#dRot2=1.0/dRot2\n",
    "\n",
    "#print \"theory: \" + str(np.exp(-2*dRot*t))"
   ]
  },
  {
   "cell_type": "code",
   "execution_count": null,
   "metadata": {},
   "outputs": [],
   "source": [
    "tm = np.linspace(time[0],time[len(time)-1],1000)\n",
    "theory = lambda t: np.exp(-dRot*t)\n",
    "#plt.errorbar(time,meanOrientation,yerr=sems)\n",
    "plt.plot(time,meanOrientation)\n",
    "plt.plot(tm, theory(tm))\n",
    "#plt.xlim(0,200)\n",
    "plt.show()"
   ]
  },
  {
   "cell_type": "code",
   "execution_count": null,
   "metadata": {},
   "outputs": [],
   "source": [
    "#plt.errorbar(time,meanOrientation,yerr=sems)\n",
    "plt.plot(time,meanOrientation)\n",
    "plt.plot(tm, theory(tm))\n",
    "plt.xlim(0,200)\n",
    "plt.show()"
   ]
  },
  {
   "cell_type": "code",
   "execution_count": null,
   "metadata": {
    "collapsed": true
   },
   "outputs": [],
   "source": [
    "length=10\n",
    "dRot=9.0*np.log(length)/(length)**3\n",
    "meanOrientation=[]\n",
    "sems=[]\n",
    "for i in xrange(len(dat[0])):\n",
    "    meanOrientation.append([])\n",
    "for j in xrange(1,5):\n",
    "    #f = open(\"/Users/jeff/Research/Simcore/diffusion_len_10_2d_\"+str(j)+\".log\",'r')\n",
    "    f = open(\"/Users/jeff/Research/Simcore/rigid_diffusion_len_10_2d_\"+str(j)+\".log\",'r')\n",
    "    line = f.readline()\n",
    "    line=line.split()\n",
    "    nFilaments=len(line)-1\n",
    "    time=[]\n",
    "    dat=[]\n",
    "    for i in xrange(nFilaments):\n",
    "        dat.append([])\n",
    "    for line in f:\n",
    "        line=line.split()\n",
    "        time.append(float(line[0])*.001) # multiply times delta to get simtime\n",
    "        for i in xrange(nFilaments):\n",
    "            dat[i].append(np.cos(float(line[i+1])))\n",
    "    f.close()\n",
    "    for i in xrange(len(dat[0])):\n",
    "        for n in xrange(nFilaments):\n",
    "            meanOrientation[i].append(dat[n][i])\n",
    "for i in xrange(len(dat[0])):\n",
    "    sems.append(stats.sem(meanOrientation[i]))\n",
    "    meanOrientation[i] = np.mean(meanOrientation[i])\n",
    "theory = lambda t: np.exp(-dRot*t)\n",
    "tm = np.linspace(time[0],time[len(time)-1],1000)\n",
    "#length=length/2.0\n",
    "#dRot=9.0*np.log(length)/(length)**3\n",
    "#length=length-1\n",
    "#dRot2=np.square(length+1)*(length+1)/(9.0 * np.log(length) - 0.662 + 0.917 * 1.0/(length + 1) - 0.050 * 1.0/(length+1)**2)\n",
    "#dRot2=1.0/dRot2\n",
    "\n",
    "#print \"theory: \" + str(np.exp(-2*dRot*t))"
   ]
  },
  {
   "cell_type": "code",
   "execution_count": null,
   "metadata": {},
   "outputs": [],
   "source": [
    "tm = np.linspace(time[0],time[len(time)-1],1000)\n",
    "theory = lambda t: np.exp(-dRot*t)\n",
    "#plt.errorbar(time,meanOrientation,yerr=sems)\n",
    "plt.plot(time,meanOrientation)\n",
    "plt.plot(tm, theory(tm))\n",
    "plt.xlim(0,200)\n",
    "plt.show()"
   ]
  },
  {
   "cell_type": "code",
   "execution_count": null,
   "metadata": {
    "collapsed": true
   },
   "outputs": [],
   "source": [
    "length=10\n",
    "dRot=9.0*np.log(length)/(length)**3\n",
    "delta = 0.001\n",
    "meanOrientation=[]\n",
    "sems=[]\n",
    "orientations=[]\n",
    "for i in xrange(1000):\n",
    "    meanOrientation.append([])\n",
    "for j in xrange(1,5):\n",
    "    #f = open(\"/Users/jeff/Research/Simcore/diffusion_len_10_2d_\"+str(j)+\".log\",'r')\n",
    "    f = open(\"/Users/jeff/Research/Simcore/rigid_diffusion_len_10_2d_\"+str(j)+\".log\",'r')\n",
    "    line = f.readline()\n",
    "    line=line.split()\n",
    "    nFilaments=len(line)-1\n",
    "    time=[]\n",
    "    dat = []\n",
    "    for n in xrange(nFilaments):\n",
    "        dat.append([])\n",
    "    index = 0\n",
    "    initTheta=[]\n",
    "    for line in f:\n",
    "        line=line.split()\n",
    "        if (index%1000 == 0):\n",
    "            initTime=float(line[0])*delta\n",
    "            initTheta=[]\n",
    "            for n in xrange(nFilaments):   \n",
    "                initTheta.append(float(line[n+1]))\n",
    "            if (index>0):\n",
    "                for n in xrange(nFilaments):\n",
    "                    orientations.append(dat[n])\n",
    "            dat = []\n",
    "            for n in xrange(nFilaments):\n",
    "                dat.append([])\n",
    "        time.append(float(line[0])*delta-initTime) # multiply times delta to get simtime\n",
    "        for n in xrange(nFilaments):\n",
    "            dat[n].append(np.cos(abs(float(line[n+1])-initTheta[n])))\n",
    "        index+=1\n",
    "    f.close()\n",
    "    for i in xrange(len(orientations[0])):\n",
    "        for n in xrange(len(orientations)):\n",
    "            meanOrientation[i].append(orientations[n][i])\n",
    "for i in xrange(len(dat[0])):\n",
    "    sems.append(stats.sem(meanOrientation[i]))\n",
    "    meanOrientation[i] = np.mean(meanOrientation[i])\n",
    "theory = lambda t: np.exp(-dRot*t)\n",
    "tm = np.linspace(time[0],time[len(time)-1],1000)\n",
    "#length=length/2.0\n",
    "#dRot=9.0*np.log(length)/(length)**3\n",
    "#length=length-1\n",
    "#dRot2=np.square(length+1)*(length+1)/(9.0 * np.log(length) - 0.662 + 0.917 * 1.0/(length + 1) - 0.050 * 1.0/(length+1)**2)\n",
    "#dRot2=1.0/dRot2\n",
    "\n",
    "#print \"theory: \" + str(np.exp(-2*dRot*t))"
   ]
  },
  {
   "cell_type": "code",
   "execution_count": null,
   "metadata": {},
   "outputs": [],
   "source": [
    "tm = np.linspace(0,time[999],1000)\n",
    "theory = lambda t: np.exp(-dRot*t)\n",
    "plt.errorbar(tm,meanOrientation,yerr=sems)\n",
    "#plt.plot(tm,meanOrientation)\n",
    "plt.plot(tm, theory(tm))\n",
    "#plt.xlim(0,200)\n",
    "plt.show()"
   ]
  },
  {
   "cell_type": "code",
   "execution_count": null,
   "metadata": {
    "collapsed": true
   },
   "outputs": [],
   "source": []
  }
 ],
 "metadata": {
  "kernelspec": {
   "display_name": "Python 3",
   "language": "python",
   "name": "python3"
  },
  "language_info": {
   "codemirror_mode": {
    "name": "ipython",
    "version": 3
   },
   "file_extension": ".py",
   "mimetype": "text/x-python",
   "name": "python",
   "nbconvert_exporter": "python",
   "pygments_lexer": "ipython3",
   "version": "3.6.5"
  }
 },
 "nbformat": 4,
 "nbformat_minor": 1
}
