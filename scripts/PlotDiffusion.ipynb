{
 "cells": [
  {
   "cell_type": "code",
   "execution_count": 212,
   "metadata": {
    "collapsed": true
   },
   "outputs": [],
   "source": [
    "import matplotlib\n",
    "import numpy as np\n",
    "from scipy import stats\n",
    "# matplotlib.use(\"macosx\")\n",
    "import matplotlib.pyplot as plt"
   ]
  },
  {
   "cell_type": "code",
   "execution_count": 251,
   "metadata": {
    "collapsed": false
   },
   "outputs": [],
   "source": [
    "#f = open(\"/Users/jeff/Research/Simcore/diffusion_len_10_2d.log\",'r')\n",
    "#f = open(\"/Users/jeff/Research/Simcore/diffusion_len_10_2d_2.log\",'r')\n",
    "f = open(\"/Users/jeff/simcore/diffusion2d-r5-diffusion.log\")\n",
    "line = f.readline()\n",
    "line=line.split()\n",
    "nFilaments=len(line)-1\n",
    "time=[]\n",
    "dat=[]\n",
    "for i in xrange(nFilaments):\n",
    "    dat.append([])\n",
    "for line in f:\n",
    "    line=line.split()\n",
    "    time.append(float(line[0])*.001) # multiply times delta to get simtime\n",
    "    for i in xrange(nFilaments):\n",
    "        dat[i].append(float(line[i+1]))\n",
    "f.close()\n"
   ]
  },
  {
   "cell_type": "code",
   "execution_count": 256,
   "metadata": {
    "collapsed": false
   },
   "outputs": [
    {
     "name": "stdout",
     "output_type": "stream",
     "text": [
      "0.855665220292\n",
      "0.115790916998\n",
      "0.0512750658566\n"
     ]
    },
    {
     "data": {
      "image/png": "[encoded data removed]",
      "text/plain": [
       "<matplotlib.figure.Figure at 0x10d370e50>"
      ]
     },
     "metadata": {},
     "output_type": "display_data"
    },
    {
     "name": "stdout",
     "output_type": "stream",
     "text": [
      "theory: 0.0103616329185\n"
     ]
    }
   ],
   "source": [
    "avgDiff=0\n",
    "length=10\n",
    "means=[]\n",
    "sems=[]\n",
    "for n in xrange(nFilaments):\n",
    "    diff=[]\n",
    "    for i in xrange(1,len(dat[n])):\n",
    "        diff.append(np.square(dat[n][i]-dat[n][0]))\n",
    "    meanDiff=np.mean(diff)\n",
    "    stdDiff=np.std(diff, ddof=1)\n",
    "    means.append(meanDiff)\n",
    "    sems.append(stdDiff)\n",
    "print np.mean(means)\n",
    "print stats.sem(means)\n",
    "print stats.mode(means)[0][0]\n",
    "plt.hist(means,bins=50)\n",
    "plt.show()\n",
    "dRot=9.0*np.log(length)/(length)**3\n",
    "t=0.25\n",
    "print \"theory: \" + str(2*t*dRot)"
   ]
  },
  {
   "cell_type": "code",
   "execution_count": null,
   "metadata": {
    "collapsed": true
   },
   "outputs": [],
   "source": []
  },
  {
   "cell_type": "code",
   "execution_count": null,
   "metadata": {
    "collapsed": true
   },
   "outputs": [],
   "source": []
  },
  {
   "cell_type": "code",
   "execution_count": null,
   "metadata": {
    "collapsed": true
   },
   "outputs": [],
   "source": []
  }
 ],
 "metadata": {
  "kernelspec": {
   "display_name": "Python 2",
   "language": "python",
   "name": "python2"
  },
  "language_info": {
   "codemirror_mode": {
    "name": "ipython",
    "version": 2
   },
   "file_extension": ".py",
   "mimetype": "text/x-python",
   "name": "python",
   "nbconvert_exporter": "python",
   "pygments_lexer": "ipython2",
   "version": "2.7.12"
  }
 },
 "nbformat": 4,
 "nbformat_minor": 1
}
