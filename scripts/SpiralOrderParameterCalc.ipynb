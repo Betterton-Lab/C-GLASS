{
 "cells": [
  {
   "cell_type": "code",
   "execution_count": null,
   "metadata": {
    "collapsed": true
   },
   "outputs": [],
   "source": [
    "from os import listdir\n",
    "import numpy as np\n",
    "import pandas as pd\n",
    "#pd.options.mode.chained_assignment = None\n",
    "from matplotlib import pyplot as plt, cm, ticker\n",
    "from matplotlib.mlab import griddata\n",
    "from mpl_toolkits.mplot3d import Axes3D\n",
    "%matplotlib inline\n",
    "import seaborn as sns\n",
    "from sklearn.neighbors import KNeighborsClassifier\n",
    "from sklearn.linear_model import LogisticRegression\n",
    "from sklearn.model_selection import cross_val_score\n",
    "from sklearn.model_selection import GridSearchCV, RandomizedSearchCV\n",
    "from sklearn.preprocessing import PolynomialFeatures\n"
   ]
  },
  {
   "cell_type": "code",
   "execution_count": null,
   "metadata": {
    "collapsed": true
   },
   "outputs": [],
   "source": [
    "def CreateMasterSpiralDF(dirName=\".\"):\n",
    "    \"\"\"CreateMasterSpiralDF(dirName) where dirName is the directory name of the .spiral files,\n",
    "       output pandas dataframe of all spiral files header data and filenames\"\"\"\n",
    "    assert isinstance(dirName, str), \"The 'dirName' argument must be a string!\"\n",
    "    fileNames = [dirName+'/'+i for i in listdir(dirName) if i[-7:] == '.spiral']\n",
    "    \n",
    "    if len(fileNames)==0:\n",
    "        print(\"No '.spiral' files found in directory '\"+dirName+\"'.\")\n",
    "        return\n",
    "    \n",
    "    D = {\"file_name\" : []}\n",
    "    for index,name in enumerate(fileNames):\n",
    "        f = open(name,'r')\n",
    "        for i in range(2): colNames = f.readline().split()\n",
    "        if index == 0:\n",
    "            for colName in colNames:\n",
    "                D[colName] = []\n",
    "        D[\"file_name\"].append(name)\n",
    "        simParams = f.readline().split()\n",
    "        for colIndex,colName in enumerate(colNames):\n",
    "            D[colName].append(float(simParams[colIndex]))\n",
    "        f.close()\n",
    "    df = pd.DataFrame(D)\n",
    "    return df\n",
    "\n",
    "def CreateSpiralDF(fileName):\n",
    "    \"\"\"CreateSpiralDF(fileName) where fileName is the name of a '.spiral' analysis file,\n",
    "       outputs pandas dataframe of time series data\"\"\"\n",
    "    assert isinstance(fileName,str), \"The 'fileName' argument must be a string!\"\n",
    "    try:\n",
    "        f = open(fileName,'r')\n",
    "    except:\n",
    "        print(\"Could not open file '\" + fileName + \"'.\")\n",
    "        return\n",
    "    for i in range(4): colNames = f.readline().split()\n",
    "    D = {}\n",
    "    for colName in colNames:\n",
    "        D[colName] = []\n",
    "    for line in f:\n",
    "        line = line.split()\n",
    "        if (len(line) != len(colNames)):\n",
    "            break # early exit due to early simulation termination\n",
    "        for colIndex, colName in enumerate(colNames):\n",
    "            D[colName].append(float(line[colIndex]))\n",
    "    f.close()\n",
    "    df = pd.DataFrame(D)\n",
    "    return df\n",
    "\n",
    "def GetSpiralFrequencies(masterDF):\n",
    "    maxTime = int(masterDF[\"nsteps\"][0]/masterDF[\"nspec\"][0])-1\n",
    "    freqs = pd.Series(np.zeros(len(masterDF.index)))\n",
    "    for i in masterDF.index:\n",
    "        df=CreateSpiralDF(masterDF.iloc[i][\"file_name\"])\n",
    "        if not (df[\"time\"].iloc[-1] < maxTime):\n",
    "            freqs[i] = GetSpiralFrequency(df,maxTime)\n",
    "    masterDF[\"spiral_frequency\"] = freqs\n",
    "    \n",
    "def GetBendingEnergies(masterDF):\n",
    "    maxTime = int(masterDF[\"nsteps\"][0]/masterDF[\"nspec\"][0])-1\n",
    "    ebend = pd.Series(np.zeros(len(masterDF.index)))\n",
    "    for i in masterDF.index:\n",
    "        df=CreateSpiralDF(masterDF.iloc[i][\"file_name\"])\n",
    "        if not (df[\"time\"].iloc[-1] < maxTime) and masterDF.iloc[i][\"spiral_frequency\"]:\n",
    "            ebend[i] = df[\"E_bend\"].iloc[-1]\n",
    "        else:\n",
    "            ebend[i] = None\n",
    "    masterDF[\"E_bend\"] = ebend\n",
    "\n",
    "def GetSpiralFrequency(df,maxTime):\n",
    "    assert isinstance(df,pd.DataFrame),\"df needs to be pandas DataFrame type\"\n",
    "    N=int(len(df[\"time\"])/2) #num of gridpoints\n",
    "    delta=1\n",
    "    time = np.array(df[\"time\"][:N])\n",
    "    z = np.array(df[\"tip_z_proj\"][N:])\n",
    "    # If we have odd time, make z and time same size\n",
    "    if len(time)!=len(z):\n",
    "        z = np.array(df[\"tip_z_proj\"][N+1:])\n",
    "    # Zero pad data, assuming spiral continues indefinitely\n",
    "    padding=int(2**17)\n",
    "    yf=np.fft.fft(z,n=padding)\n",
    "    xf=np.fft.fftfreq(padding,d=delta)\n",
    "    freq = xf[int(np.argmax(2.0/padding * np.abs(yf[0:int(padding/2)])))]\n",
    "    # If our period lasts longer than a simulation, then return freq=0 (assume no spiral) \n",
    "    if freq > 3.0/maxTime:\n",
    "        return freq\n",
    "    else:\n",
    "        return 0\n",
    "\n",
    "def GetSpiralNumbers(masterDF):\n",
    "    snums = pd.Series(np.zeros(len(masterDF.index)))\n",
    "    for i in masterDF.index:\n",
    "        maxTime = masterDF.iloc[i].nsteps/masterDF.iloc[i].nspec - 1\n",
    "        df=CreateSpiralDF(masterDF.iloc[i][\"file_name\"])\n",
    "        if not (df[\"time\"].iloc[-1] < maxTime):\n",
    "            snums[i] = GetSpiralNumber(df,maxTime)\n",
    "    masterDF[\"spiral_numbers\"] = snums\n",
    "    \n",
    "def GetSpiralNumber(df,maxTime):\n",
    "    if len(df.time) < maxTime:\n",
    "        return 0\n",
    "    N = int(len(df.time)/2)\n",
    "    snum = np.median(df.spiral_number[N:])\n",
    "    return snum\n",
    "    \n",
    "def PlotSpiralFrequencies(masterDF):\n",
    "    maxTime = int(masterDF[\"nsteps\"][0]/masterDF[\"nspec\"][0])-1\n",
    "    for i in masterDF.index:\n",
    "        df=CreateSpiralDF(masterDF.iloc[i][\"file_name\"])\n",
    "        # If we exited early, spiral did not form\n",
    "        if not (df[\"time\"].iloc[-1] < maxTime):\n",
    "            PlotSpiralFrequency(df,maxTime)\n",
    "\n",
    "def PlotSpiralFrequency(df,maxTime):\n",
    "    assert isinstance(df,pd.DataFrame),\"df needs to be pandas DataFrame type\"\n",
    "    assert isinstance(maxTime, (float,int)), \"maxTime needs to be a float or int\"\n",
    "    N=len(df[\"time\"])/2 #num of gridpoints\n",
    "    delta=1\n",
    "    time = np.array(df[\"time\"][:N])\n",
    "    z = np.array(df[\"tip_z_proj\"][N:])\n",
    "    # If we have odd time, make z and time same size\n",
    "    if len(time)!=len(z):\n",
    "        z = np.array(df[\"tip_z_proj\"][N+1:])\n",
    "    # Zero pad data, assuming spiral continues indefinitely\n",
    "    padding=int(2**17)\n",
    "    yf=np.fft.fft(z,n=padding)\n",
    "    xf=np.fft.fftfreq(padding,d=delta)\n",
    "    freq = xf[int(np.argmax(2.0/padding * np.abs(yf[0:padding/2])))]\n",
    "    if freq < 1.0/maxTime:\n",
    "        return\n",
    "    guess_phase=0\n",
    "    optimize_func = lambda phase: np.sin(2*np.pi*freq*(time+phase))-z\n",
    "    est_phase = leastsq(optimize_func, guess_phase)[0]\n",
    "    est_data = np.sin(2*np.pi*freq*(time+est_phase))\n",
    "    f, ax = plt.subplots(2)\n",
    "    ax[0].set_title(r\"$f_{max} = $\" + str(freq))\n",
    "    ax[0].plot(xf,yf.real,xf,yf.imag)\n",
    "    ax[0].set_xlim(0,2*freq)\n",
    "    ax[0].set_xlabel(\"frequency\")\n",
    "    ax[0].set_ylabel(\"fft signal\")\n",
    "    ax[0].legend([\"real\",\"imag\"],loc=1)\n",
    "    ax[1].plot(time,z,'k-',time,est_data,'r--')\n",
    "    ax[1].set_xlabel(\"sim time\")\n",
    "    ax[1].set_title(\"Filament tip orientation \"+r'$U_Z$')\n",
    "    ax[1].set_ylabel(r'$U_Z$')\n",
    "    ax[1].set_xlim(0,min(8.0/freq,time[-1]))\n",
    "    ax[1].legend(['Data','LS Fit'],loc=1)\n",
    "    f.subplots_adjust(hspace=0.7)\n",
    "    plt.show()\n",
    "    plt.close()\n",
    "    \n",
    "def PlotFrequencyContour(masterDF):\n",
    "    df=masterDF\n",
    "    x1 = np.linspace(df['driving'].min(), df['driving'].max(), len(df['driving'].unique()))\n",
    "    y1 = np.linspace(df['persistence_length'].min(), df['persistence_length'].max(), len(df['persistence_length'].unique()))\n",
    "    x2, y2 = np.meshgrid(x1, y1)\n",
    "    # Interpolate unstructured D-dimensional data.\n",
    "    z2 = griddata((df['driving'], df['persistence_length']), df['spiral_frequency'], (x2, y2),method='linear')\n",
    "    fig = plt.figure()\n",
    "    ax = fig.gca()\n",
    "    surf = ax.contourf(x2, y2, z2, rstride=1, cstride=1, cmap=cm.coolwarm,\n",
    "                           linewidth=0, antialiased=False)\n",
    "    fig.colorbar(surf, shrink=0.5, aspect=5)\n",
    "    plt.title('Spiral frequency, L=50')\n",
    "    plt.xlabel(\"Driving\")\n",
    "    plt.ylabel(\"Persistence Length\")\n",
    "    plt.ylim(0,8000)\n",
    "    plt.show()\n",
    "    plt.close()\n",
    "    \n",
    "def PlotEnergyContour(masterDF):\n",
    "    df=masterDF\n",
    "    x1 = np.linspace(df['driving'].min(), df['driving'].max(), len(df['driving'].unique()))\n",
    "    y1 = np.linspace(df['persistence_length'].min(), df['persistence_length'].max(), len(df['persistence_length'].unique()))\n",
    "    x2, y2 = np.meshgrid(x1, y1)\n",
    "    # Interpolate unstructured D-dimensional data.\n",
    "    z2 = griddata((df['driving'], df['persistence_length']), df['E_bend'], (x2, y2),method='linear')\n",
    "    fig = plt.figure()\n",
    "    ax = fig.gca()\n",
    "    surf = ax.contourf(x2, y2, z2, rstride=1, cstride=1, cmap=cm.coolwarm,\n",
    "                           linewidth=0, antialiased=False)\n",
    "    fig.colorbar(surf, shrink=0.5, aspect=5)\n",
    "    plt.title('Bending Energy, L=50')\n",
    "    plt.xlabel(\"Driving\")\n",
    "    plt.ylabel(\"Persistence Length\")\n",
    "    plt.ylim(0,8000)\n",
    "    plt.show()\n",
    "    plt.close()\n",
    "\n",
    "def GetSpiralBool(masterDF):\n",
    "    spirals = pd.Series(np.zeros(len(masterDF.index)))\n",
    "    for i in masterDF.index:\n",
    "        if masterDF.iloc[i][\"spiral_frequency\"] > 0:\n",
    "            spirals[i] = 1\n",
    "    masterDF[\"spiral\"] = spirals"
   ]
  },
  {
   "cell_type": "code",
   "execution_count": null,
   "metadata": {
    "collapsed": true
   },
   "outputs": [],
   "source": [
    "spiral_params=pd.read_csv('spiral_data_l050_v289_filament.spiral',skiprows=1,nrows=1,delim_whitespace=True)\n",
    "spiral_data=pd.read_csv('spiral_data_l050_v289_filament.spiral',skiprows=3,delim_whitespace=True)"
   ]
  },
  {
   "cell_type": "code",
   "execution_count": null,
   "metadata": {
    "collapsed": true
   },
   "outputs": [],
   "source": [
    "df=CreateMasterSpiralDF('spiral_data_l050')"
   ]
  },
  {
   "cell_type": "code",
   "execution_count": null,
   "metadata": {
    "collapsed": true
   },
   "outputs": [],
   "source": [
    "GetSpiralNumbers(df)"
   ]
  },
  {
   "cell_type": "code",
   "execution_count": null,
   "metadata": {
    "collapsed": true
   },
   "outputs": [],
   "source": [
    "df['spiral_number']=df.spiral_frequency"
   ]
  },
  {
   "cell_type": "code",
   "execution_count": null,
   "metadata": {
    "collapsed": true
   },
   "outputs": [],
   "source": [
    "df=df.drop('spiral_frequency',axis=1)"
   ]
  },
  {
   "cell_type": "code",
   "execution_count": null,
   "metadata": {},
   "outputs": [],
   "source": [
    "X=df.driving\n",
    "Y=df.persistence_length/df.length\n",
    "Z=df.spiral_number\n",
    "#Xi,Yi = np.meshgrid(X, Y)\n",
    "#Zi = griddata(X,Y,Z,Xi,Yi)\n",
    "fig,ax=plt.subplots(figsize=(10,8))\n",
    "cax = ax.tricontourf(X, Y, Z, levels=[0,0.8,1,1.2,1.6,2.0,2.4,3.0], alpha=1 )#cmap = cm.viridis)\n",
    "fig.colorbar(cax)\n",
    "#plt.clabel(cax,inline=1,fmt='%1.1f')\n",
    "plt.show()"
   ]
  },
  {
   "cell_type": "code",
   "execution_count": null,
   "metadata": {
    "collapsed": true
   },
   "outputs": [],
   "source": [
    "df_low = df[df.spiral_number < 0.8]"
   ]
  },
  {
   "cell_type": "code",
   "execution_count": null,
   "metadata": {},
   "outputs": [],
   "source": [
    "df_low.spiral_number.unique()"
   ]
  },
  {
   "cell_type": "code",
   "execution_count": null,
   "metadata": {},
   "outputs": [],
   "source": [
    "fig,ax = plt.subplots(figsize=(8,8))\n",
    "groups = df.groupby('persistence_length')\n",
    "for key,group in groups:\n",
    "    if (key/50)%20==0:\n",
    "        ax.plot(group.driving,group.spiral_number,label=key,linestyle='-',marker='o')\n",
    "#plt.colorbar()\n",
    "ax.grid(True)\n",
    "fig.canvas.draw()"
   ]
  },
  {
   "cell_type": "code",
   "execution_count": null,
   "metadata": {
    "collapsed": true
   },
   "outputs": [],
   "source": []
  }
 ],
 "metadata": {
  "kernelspec": {
   "display_name": "Python 3",
   "language": "python",
   "name": "python3"
  },
  "language_info": {
   "codemirror_mode": {
    "name": "ipython",
    "version": 3
   },
   "file_extension": ".py",
   "mimetype": "text/x-python",
   "name": "python",
   "nbconvert_exporter": "python",
   "pygments_lexer": "ipython3",
   "version": "3.5.2"
  }
 },
 "nbformat": 4,
 "nbformat_minor": 2
}
