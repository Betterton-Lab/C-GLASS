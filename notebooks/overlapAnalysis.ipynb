{
 "cells": [
  {
   "cell_type": "code",
   "execution_count": null,
   "metadata": {
    "collapsed": true
   },
   "outputs": [],
   "source": [
    "import matplotlib.pyplot as plt\n",
    "import numpy as np\n",
    "import pandas as pd\n",
    "import seaborn as sns\n",
    "import statsmodels.api as sm"
   ]
  },
  {
   "cell_type": "code",
   "execution_count": null,
   "metadata": {
    "collapsed": true
   },
   "outputs": [],
   "source": [
    "df=pd.read_csv(\"soft_pf0.2_sp015_lp020_reduced10.overlaps\",delim_whitespace=True)\n",
    "df = df[df.time < 4.2]\n",
    "df['n_tangled'] = df['n_total_crossings_init']-df['n_total_crossings_complete']\n",
    "df['net']=df['n_tangled']-df['n_instant_bond_overlaps']\n",
    "\n",
    "df2=pd.read_csv(\"soft_pf0.2_sp025_lp020_reduced10.overlaps\",delim_whitespace=True)\n",
    "df2 = df2[df2.time < 4.2]\n",
    "df2['n_tangled'] = df2['n_total_crossings_init']-df2['n_total_crossings_complete']\n",
    "df2['net']=df2['n_tangled']-df2['n_instant_bond_overlaps']\n",
    "\n",
    "df3=pd.read_csv(\"soft_pf0.2_sp050_lp020_reduced10.overlaps\",delim_whitespace=True)\n",
    "df3 = df3[df3.time < 4.2]\n",
    "df3['n_tangled'] = df3['n_total_crossings_init']-df3['n_total_crossings_complete']\n",
    "df3['net']=df3['n_tangled']-df3['n_instant_bond_overlaps']"
   ]
  },
  {
   "cell_type": "code",
   "execution_count": null,
   "metadata": {},
   "outputs": [],
   "source": [
    "fig,ax = plt.subplots(1,3,figsize=(12,3),sharey=True)\n",
    "df.plot(x=\"time\",y=\"n_instant_bond_overlaps\",ax=ax[0])\n",
    "df.plot(x=\"time\",y=\"n_tangled\",ax=ax[0])\n",
    "ax[0].set_title(r'$U_{max}=15$')\n",
    "ax[1].set_title(r'$U_{max}=25$')\n",
    "ax[2].set_title(r'$U_{max}=50$')\n",
    "df2.plot(x=\"time\",y=\"n_instant_bond_overlaps\",ax=ax[1])\n",
    "df2.plot(x=\"time\",y=\"n_tangled\",ax=ax[1])\n",
    "df3.plot(x=\"time\",y=\"n_instant_bond_overlaps\",ax=ax[2])\n",
    "df3.plot(x=\"time\",y=\"n_tangled\",ax=ax[2])\n",
    "for a in ax:\n",
    "    a.set_ylabel(\"Number of overlaps\",fontsize=16)\n",
    "    a.set_xlabel(r\"Sim time ($\\tau$)\",fontsize=16)\n",
    "    #a.legend([])\n",
    "    a.legend(['Bond overlaps','Filament crossings'],loc=4)\n",
    "    a.grid(True,linestyle='--')\n",
    "fig.tight_layout(w_pad=0)"
   ]
  },
  {
   "cell_type": "code",
   "execution_count": null,
   "metadata": {},
   "outputs": [],
   "source": [
    "fig,ax = plt.subplots(1,1,figsize=(7,5))\n",
    "df.plot(x=\"time\",y=\"n_total_crossings_init\",ax=ax,linewidth=4,style='red')\n",
    "dftemp = df[df.time > 1]\n",
    "model=sm.OLS(dftemp.n_total_crossings_init,sm.add_constant(dftemp.time))\n",
    "model=model.fit()\n",
    "fit=lambda y: model.params[0] + model.params[1]*y\n",
    "xx=np.linspace(0,4.2,10)\n",
    "ax.plot(xx,fit(xx),'k--')\n",
    "df2.plot(x=\"time\",y=\"n_total_crossings_init\",ax=ax,linewidth=4)\n",
    "df2temp = df2[df2.time > 1]\n",
    "model2=sm.OLS(df2temp.n_total_crossings_init,sm.add_constant(df2temp.time))\n",
    "model2=model2.fit()\n",
    "fit2=lambda y: model2.params[0] + model2.params[1]*y\n",
    "ax.plot(xx,fit2(xx),'k-.')\n",
    "df3.plot(x=\"time\",y=\"n_total_crossings_init\",ax=ax,linewidth=4)\n",
    "df3temp = df3[df3.time > 1]\n",
    "model3=sm.OLS(df3temp.n_total_crossings_init,sm.add_constant(df3temp.time))\n",
    "model3=model3.fit()\n",
    "fit3=lambda y: model3.params[0] + model3.params[1]*y\n",
    "ax.plot(xx,fit3(xx),'k.')\n",
    "ax.set_ylabel(\"Number of overlaps initiated\",fontsize=16)\n",
    "ax.set_xlabel(r\"Sim time ($\\tau$)\",fontsize=16)\n",
    "ax.legend([r'$U_{max}=15$','fit slope = %5.0f'%model.params[1],r'$U_{max}=25$','fit slope = %5.0f'%model2.params[1],r'$U_{max}=50$','fit slope = %5.0f'%model3.params[1]])\n",
    "ax.grid(True,linestyle='--')"
   ]
  },
  {
   "cell_type": "code",
   "execution_count": null,
   "metadata": {},
   "outputs": [],
   "source": [
    "fig,ax = plt.subplots(1,1,figsize=(7,5))\n",
    "df.plot(x=\"time\",y=\"n_tangled\",ax=ax)\n",
    "df.plot(x=\"time\",y=\"net\",ax=ax)\n",
    "ax.set_ylabel(\"Number of tangled filaments\",fontsize=16)\n",
    "ax.set_xlabel(r\"Sim time ($\\tau$)\",fontsize=16)\n",
    "ax.legend([])\n",
    "ax.grid(True,linestyle='--')"
   ]
  },
  {
   "cell_type": "code",
   "execution_count": null,
   "metadata": {
    "collapsed": true
   },
   "outputs": [],
   "source": []
  }
 ],
 "metadata": {
  "kernelspec": {
   "display_name": "Python 3",
   "language": "python",
   "name": "python3"
  },
  "language_info": {
   "codemirror_mode": {
    "name": "ipython",
    "version": 3
   },
   "file_extension": ".py",
   "mimetype": "text/x-python",
   "name": "python",
   "nbconvert_exporter": "python",
   "pygments_lexer": "ipython3",
   "version": "3.5.2"
  }
 },
 "nbformat": 4,
 "nbformat_minor": 1
}
