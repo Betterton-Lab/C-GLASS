{
 "cells": [
  {
   "cell_type": "code",
   "execution_count": 68,
   "metadata": {},
   "outputs": [],
   "source": [
    "#from notebook.services.config import ConfigManager\n",
    "#c = ConfigManager()\n",
    "#c.update('notebook', {\"CodeCell\": {\"cm_config\": {\"autoCloseBrackets\": False}}})\n",
    "import random\n",
    "import sys\n",
    "import numpy as np"
   ]
  },
  {
   "cell_type": "code",
   "execution_count": 71,
   "metadata": {},
   "outputs": [],
   "source": [
    "def writeSummitJob(run_name,run_num,time=4):\n",
    "    \"\"\" Function inputs: run_name (str), run_num (int), time in hours (int)\n",
    "        Function behavior: writes slurm batch file for simcore job on summit with title derived \n",
    "        from run_name + run_num\n",
    "    \"\"\"\n",
    "    assert isinstance(run_name,str), \"writeSummitJob did not receive a run_name as string type\"\n",
    "    assert isinstance(time,int), \"writeSummitJob did not receive a time as int type\"\n",
    "    assert isinstance(run_num,int), \"writeSummitJob did not receive a run_num as int type\"\n",
    "    job_name = run_name + \"_v\" + str(run_num).zfill(3)\n",
    "    f = open(\"sjob_\"+job_name+\".sh\",'w')\n",
    "    f.write(\"#!/bin/bash\\n\")\n",
    "    f.write(\"#SBATCH --job-name=\"+job_name+\"\\n\")\n",
    "    f.write(\"#SBATCH --time \"+str(time).zfill(2)+\":00:00\\n\")\n",
    "    f.write(\"#SBATCH --nodes 1\\n\")\n",
    "    f.write(\"#SBATCH --ntasks 1\\n\")\n",
    "    f.write(\"#SBATCH --ntasks-per-node 1\\n\")\n",
    "    f.write(\"#SBATCH --cpus-per-task 1\\n\")\n",
    "    f.write(\"#SBATCH --output \"+job_name+\".out\\n\")\n",
    "    f.write(\"#SBATCH --error \"+job_name+\".err\\n\")\n",
    "    f.write(\"#SBATCH --account ucb-summit-smr\\n\")\n",
    "    f.write(\"#SBATCH --qos=condo\\n\")\n",
    "    f.write(\"#SBATCH --partition=shas\\n\")\n",
    "    f.write('echo \"starting simcore job '+job_name+'\"\\n\\n')\n",
    "    f.write(\"time ./simcore \"+job_name+\"_params.yaml\\n\\n\")\n",
    "    f.close()\n",
    "    \n",
    "def writeMultiJob(run_name, num_list, core_num=0, time=4):\n",
    "    \"\"\" Function inputs: run_name (str), num_list (list of ints), core_num (int), time in hours (int)\n",
    "        Function behavior: writes slurm batch file for many simcore jobs on summit based \n",
    "        on numbers in num_list on summit with jobs derived from run_name + number\n",
    "    \"\"\"\n",
    "    assert isinstance(run_name,str), \"writeMultiJob did not receive a run_name as string type\"\n",
    "    assert isinstance(time,int), \"writeMultiJob did not receive a time as int type\"\n",
    "    assert isinstance(core_num,int), \"writeMultiJob did not receive a core_num as int type\"\n",
    "    assert isinstance(num_list,list), \"writeMultiJob did not receive a num_list as list type\"\n",
    "    for num in num_list:\n",
    "        assert isinstance(num,int), \"writeMultiJob did not receive a list of nits for num_list\"\n",
    "    job_name_core = run_name + \"_j\" + str(core_num).zfill(2)\n",
    "    f = open(\"sjob_\"+job_name_core+\".sh\",'w')\n",
    "    f.write(\"#!/bin/bash\\n\")\n",
    "    f.write(\"#SBATCH --job-name=\"+job_name_core+\"\\n\")\n",
    "    f.write(\"#SBATCH --time \"+str(time).zfill(2)+\":00:00\\n\")\n",
    "    f.write(\"#SBATCH --nodes 1\\n\")\n",
    "    f.write(\"#SBATCH --ntasks 1\\n\")\n",
    "    f.write(\"#SBATCH --ntasks-per-node 1\\n\")\n",
    "    f.write(\"#SBATCH --cpus-per-task 1\\n\")\n",
    "    f.write(\"#SBATCH --output \"+job_name_core+\".out\\n\")\n",
    "    f.write(\"#SBATCH --error \"+job_name_core+\".err\\n\")\n",
    "    f.write(\"#SBATCH --account ucb-summit-smr\\n\")\n",
    "    f.write(\"#SBATCH --qos=condo\\n\")\n",
    "    f.write(\"#SBATCH --partition=shas\\n\")\n",
    "    for num in num_list:\n",
    "        job_name = run_name + \"_v\" + str(num).zfill(3)        \n",
    "        f.write('echo \"starting simcore job '+job_name+'\"\\n')\n",
    "        f.write(\"time ./simcore \"+job_name+\"_params.yaml\\n\")\n",
    "    f.write(\"\\n\")\n",
    "    f.close()\n",
    "    \n",
    "def randomizeSummitJobs(run_name,num_jobs,num_cores,time=4):\n",
    "    \"\"\" Function inputs: run_name (str), num_jobs (int), num_cores (int), time in hours (int)\n",
    "        Function behavior: writes num_cores summit batch files with approx num_jobs/num_cores jobs to\n",
    "            run on each core. Assumes parameter files exist with format  <run_name>_v<run_number>.yaml.\n",
    "    \"\"\"\n",
    "    num_list = list(range(num_jobs))\n",
    "    random.shuffle(num_list)\n",
    "    jobs_per_core = int(np.ceil(num_jobs/num_cores))\n",
    "    for core in range(num_cores):\n",
    "        job_nums = num_list[jobs_per_core*core : jobs_per_core*(core+1)]\n",
    "        writeMultiJob(run_name,job_nums,core,time)\n",
    "\n",
    "def printHelp():\n",
    "    \"\"\" Prints expected arguments for summit_job_randomizer.py \"\"\"\n",
    "    print(\"Expected format:\\n\")\n",
    "    print(\"  summit_job_randomizer.py run_name num_jobs num_cores (time)\\n\")\n",
    "    print(\"  with arguments: run_name (str), num_jobs (int), num_cores (int), time in hours (int, optional)\\n\")"
   ]
  },
  {
   "cell_type": "code",
   "execution_count": 75,
   "metadata": {},
   "outputs": [
    {
     "name": "stdout",
     "output_type": "stream",
     "text": [
      "Did not receive correct number of arguments.\n",
      "\n",
      "Expected format:\n",
      "\n",
      "  summit_job_randomizer.py run_name num_jobs num_cores (time)\n",
      "\n",
      "  with arguments: run_name (str), num_jobs (int), num_cores (int), time in hours (int, optional)\n",
      "\n"
     ]
    },
    {
     "ename": "SystemExit",
     "evalue": "1",
     "output_type": "error",
     "traceback": [
      "An exception has occurred, use %tb to see the full traceback.\n",
      "\u001b[0;31mSystemExit\u001b[0m\u001b[0;31m:\u001b[0m 1\n"
     ]
    },
    {
     "name": "stderr",
     "output_type": "stream",
     "text": [
      "/usr/local/lib/python3.6/site-packages/IPython/core/interactiveshell.py:2870: UserWarning: To exit: use 'exit', 'quit', or Ctrl-D.\n",
      "  warn(\"To exit: use 'exit', 'quit', or Ctrl-D.\", stacklevel=1)\n"
     ]
    }
   ],
   "source": [
    "if __name__==\"__main__\":\n",
    "    num_args = len(sys.argv)\n",
    "    if (num_args < 4):\n",
    "        print(\"Did not receive correct number of arguments.\\n\")\n",
    "        printHelp()\n",
    "        sys.exit(1)\n",
    "    if (num_args == 5):\n",
    "        randomizeSummitJobs(sys.argv[0],sys.argv[1],sys.argv[2],sys.argv[3])\n",
    "    elif (num_args == 4):\n",
    "        randomizeSummitJobs(sys.argv[0],sys.argv[1],sys.argv[2])\n",
    "    else:\n",
    "        print(\"Too many arguments received.\\n\")\n",
    "        printHelp()\n",
    "        sys.exit(1)\n",
    "    sys.exit(0)"
   ]
  },
  {
   "cell_type": "code",
   "execution_count": null,
   "metadata": {
    "collapsed": true
   },
   "outputs": [],
   "source": []
  },
  {
   "cell_type": "code",
   "execution_count": null,
   "metadata": {
    "collapsed": true
   },
   "outputs": [],
   "source": []
  }
 ],
 "metadata": {
  "kernelspec": {
   "display_name": "Python 3",
   "language": "python",
   "name": "python3"
  },
  "language_info": {
   "codemirror_mode": {
    "name": "ipython",
    "version": 3
   },
   "file_extension": ".py",
   "mimetype": "text/x-python",
   "name": "python",
   "nbconvert_exporter": "python",
   "pygments_lexer": "ipython3",
   "version": "3.6.5"
  }
 },
 "nbformat": 4,
 "nbformat_minor": 1
}
