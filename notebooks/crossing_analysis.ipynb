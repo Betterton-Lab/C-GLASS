{
 "cells": [
  {
   "cell_type": "code",
   "execution_count": 2,
   "metadata": {},
   "outputs": [],
   "source": [
    "from simcore_tools import spec_reader, posit_reader\n",
    "from matplotlib import pyplot as plt\n",
    "from matplotlib.ticker import FuncFormatter\n",
    "import numpy as np\n",
    "from pathlib import Path\n",
    "from importlib import reload\n",
    "import yaml\n",
    "import pandas as pd"
   ]
  },
  {
   "cell_type": "code",
   "execution_count": 3,
   "metadata": {},
   "outputs": [],
   "source": [
    "spec_path = '.'\n",
    "\n",
    "# zero temperature files\n",
    "t0_files = sorted(list(Path(spec_path).glob(\"*t0*dr30*filament_generic*.spec\")))\n",
    "\n",
    "# finite temperature files -- batched in groups of 3\n",
    "tf_files = sorted(list(Path(spec_path).glob(\"*dr30*r00*filament_generic*.spec\")))\n",
    "tf_files = np.array(tf_files).reshape(len(tf_files)//3, 3)"
   ]
  },
  {
   "cell_type": "code",
   "execution_count": 5,
   "metadata": {},
   "outputs": [],
   "source": [
    "def check_if_crossed(file):\n",
    "    \"\"\"Check whether filaments in spec file crossed barrier at x=100\n",
    "    \n",
    "    Returns:\n",
    "        (float): Filament length\n",
    "        (float): Persistence length\n",
    "        (float): Bond length\n",
    "        (float): Driving factor\n",
    "        (ndarray, float): Incoming angles of filaments\n",
    "        (ndarray, bool): Boolean array, True if the filament crossed the barrier\n",
    "        \n",
    "    \"\"\"\n",
    "    sreader = spec_reader(file)\n",
    "    sreader.make_human_readable()\n",
    "    params, specs = sreader.get_params_specs()\n",
    "    persistence_length = params.persistence_length.iloc[0]\n",
    "    length = params.length.iloc[0]\n",
    "    bond_length = params.bond_length.iloc[0]\n",
    "    n_sites = params.n_sites.iloc[0]\n",
    "    heads_x = specs.iloc[:, 3*(n_sites-1)::3*n_sites]\n",
    "    heads_y = specs.iloc[:, 3*n_sites-2::3*n_sites]\n",
    "    tails_x = specs.iloc[:, 0::3*n_sites]\n",
    "    tails_y = specs.iloc[:, 1::3*n_sites]\n",
    "    angles = np.round(np.arctan((heads_y.iloc[0].values - tails_y.iloc[0].values) / \n",
    "                                (heads_x.iloc[0].values - tails_x.iloc[0].values)), decimals=2)\n",
    "    crossed = (tails_x.iloc[-1] > 100).values\n",
    "    param_file = Path(file.parent, file.name.rpartition(\"filament_generic\")[0] + \"params.yaml\")\n",
    "    try:\n",
    "        with open(param_file, 'r') as pfile:\n",
    "            yaml_params = yaml.safe_load(pfile)\n",
    "            epsilon = yaml_params['soft_potential_mag']\n",
    "            driving = yaml_params['filament'][0]['driving_factor']\n",
    "    except Exception as e:\n",
    "        print(\"Failed to read file \", param_file)\n",
    "        raise e\n",
    "    #sreader.rm_human_readable()\n",
    "    return length, persistence_length, bond_length, epsilon, driving, angles, crossed"
   ]
  },
  {
   "cell_type": "code",
   "execution_count": 6,
   "metadata": {},
   "outputs": [],
   "source": [
    "def calculate_p_cross_finite_temp(tf_files):\n",
    "    \"\"\"Calculate crossing probabilities for finite temperature sims with multiple runs\"\"\"\n",
    "    lps = []\n",
    "    eps = []\n",
    "    tots = []\n",
    "    errs = []\n",
    "    assert tf_files.size > tf_files.shape[0]\n",
    "    for variation in tf_files:\n",
    "        crossings = []\n",
    "        for run in variation:\n",
    "            l, pl, bl, ep, dr, angles, crossed = check_if_crossed(run)\n",
    "            crossings.append(crossed)\n",
    "        crossings=np.array(crossings).astype(int)\n",
    "        ncols = crossings.shape[1]\n",
    "        fold = np.r_[crossings[:, :ncols//2], crossings[::-1][:, :ncols//2]]\n",
    "        if ncols%2 != 0:\n",
    "            fold = np.c_[fold, np.r_[crossings[:, ncols//2], crossings[:, ncols//2]]]\n",
    "        total = fold.mean()\n",
    "        total_err = fold.std()/np.sqrt(fold.size)\n",
    "        fold_mean = fold.mean(axis=0)\n",
    "        fold_err = fold.std(axis=0)/np.sqrt(fold.shape[1])\n",
    "        fold = np.c_[angles[:fold_mean.shape[0]], fold_mean, fold_err]\n",
    "        np.save(\n",
    "            Path(run.parent, 'cross_prob_dr{:02d}_lp{:03d}_eps{:03d}'.format(int(dr), int(pl/l), ep)),\n",
    "            fold\n",
    "        )\n",
    "        lps.append(pl)\n",
    "        eps.append(ep)\n",
    "        tots.append(total)\n",
    "        errs.append(total_err)\n",
    "    result = np.array([lps, eps, tots, errs])\n",
    "    np.save(Path(run.parent, 'cross_prob_totals_dr{:02d}'.format(int(dr))), result)\n",
    "    \n",
    "    \n",
    "def calculate_p_cross_zero_temp(t0_files):\n",
    "    \"\"\"Calculate crossing probabilities for zero temperature sims with one run each\"\"\"\n",
    "    lps = []\n",
    "    eps = []\n",
    "    tots = []\n",
    "    errs = []\n",
    "    for run in t0_files:\n",
    "        l, pl, bl, ep, dr, angles, crossings = check_if_crossed(run)\n",
    "        crossings = crossings.astype(int)\n",
    "        ncols = crossings.shape[0]\n",
    "        assert (crossings[:ncols//2] == crossings[::-1][:ncols//2]).all()\n",
    "        if ncols%2 == 0:\n",
    "            fold = crossings[:ncols//2]\n",
    "        else:\n",
    "            fold = crossings[:ncols//2 + 1]\n",
    "        total = fold.mean()\n",
    "        total_err = fold.std()/np.sqrt(fold.size)\n",
    "        fold = np.c_[angles[:fold_mean.shape[0]], fold]\n",
    "        np.save(Path(run.parent, 'cross_prob_t0_dr{:02d}_lp{:03d}_eps{:03d}'.format(int(dr), int(pl/l), ep)), fold)\n",
    "        lps.append(pl)\n",
    "        eps.append(ep)\n",
    "        tots.append(total)\n",
    "        errs.append(total_err)\n",
    "    result = np.array([lps, eps, tots, errs])\n",
    "    np.save(Path(run.parent, 'cross_prob_totals_t0_dr{:02d}'.format(int(dr))), result)"
   ]
  },
  {
   "cell_type": "code",
   "execution_count": 15,
   "metadata": {},
   "outputs": [],
   "source": [
    "def plot_p_cross_totals(fname):\n",
    "    \"\"\"Expects fname to be a .npy file (str or Path) with 4 rows\"\"\"\n",
    "    fname = Path(fname)\n",
    "    result = np.load(fname)\n",
    "    df = pd.DataFrame(result.transpose(), columns=['lp', 'eps', 'Px', 'Pxerr'])\n",
    "    table = df.pivot('eps', 'lp', values='Px')\n",
    "\n",
    "    fig = plt.figure(figsize=(10, 10))\n",
    "    ax = plt.axes()\n",
    "    img = ax.imshow(table.values, origin='lower', vmin=0, vmax=1)\n",
    "    def yfunc(a, b):\n",
    "        if a >= 0 and a <= 4:\n",
    "            return table.index[a]\n",
    "        else:\n",
    "            return a\n",
    "    def xfunc(a, b):\n",
    "        if a >= 0 and a <= 12:\n",
    "            return table.columns[a]/60\n",
    "        else:\n",
    "            return a\n",
    "    ax.yaxis.set_major_formatter(FuncFormatter(yfunc))\n",
    "    ax.xaxis.set_major_formatter(FuncFormatter(xfunc))\n",
    "    ax.set_xlabel(\"$L_p/L$\", fontsize=20)\n",
    "    ax.set_ylabel(\"$\\epsilon$\", fontsize=24)\n",
    "    title = \"Probability of two randomly-oriented filaments crossing upon collision\"\n",
    "    if \"_t0_\" in fname.name:\n",
    "        title = title + \", $T=0$\"\n",
    "    ax.set_title(title, fontsize=14)\n",
    "    cbar = plt.colorbar(img, orientation='horizontal')\n",
    "    cbar.ax.set_xlabel(\"$P_{cross}$\", fontsize=20)\n",
    "    plt.savefig(fname.stem + \".png\")\n",
    "    plt.show()"
   ]
  },
  {
   "cell_type": "code",
   "execution_count": 16,
   "metadata": {},
   "outputs": [
    {
     "data": {
      "image/png": "[encoded data removed]",
      "text/plain": [
       "<Figure size 720x720 with 2 Axes>"
      ]
     },
     "metadata": {
      "needs_background": "light"
     },
     "output_type": "display_data"
    }
   ],
   "source": [
    "fname = Path(spec_path, 'cross_prob_totals_dr30.npy')\n",
    "plot_p_cross_totals(fname)"
   ]
  },
  {
   "cell_type": "code",
   "execution_count": 17,
   "metadata": {},
   "outputs": [
    {
     "data": {
      "image/png": "[encoded data removed]",
      "text/plain": [
       "<Figure size 720x720 with 2 Axes>"
      ]
     },
     "metadata": {
      "needs_background": "light"
     },
     "output_type": "display_data"
    }
   ],
   "source": [
    "fname = Path(spec_path, 'cross_prob_totals_t0_dr30.npy')\n",
    "plot_p_cross_totals(fname)"
   ]
  },
  {
   "cell_type": "code",
   "execution_count": 113,
   "metadata": {},
   "outputs": [],
   "source": [
    "eps = 100\n",
    "eps_files = sorted(list(Path(spec_path).glob(\"cross_prob_dr30_lp*_eps{:03d}*npy\".format(eps))))"
   ]
  },
  {
   "cell_type": "code",
   "execution_count": 114,
   "metadata": {},
   "outputs": [
    {
     "data": {
      "text/plain": [
       "[PosixPath('cross_prob_dr30_lp005_eps100.npy'),\n",
       " PosixPath('cross_prob_dr30_lp010_eps100.npy'),\n",
       " PosixPath('cross_prob_dr30_lp020_eps100.npy'),\n",
       " PosixPath('cross_prob_dr30_lp030_eps100.npy'),\n",
       " PosixPath('cross_prob_dr30_lp040_eps100.npy'),\n",
       " PosixPath('cross_prob_dr30_lp050_eps100.npy'),\n",
       " PosixPath('cross_prob_dr30_lp060_eps100.npy'),\n",
       " PosixPath('cross_prob_dr30_lp070_eps100.npy'),\n",
       " PosixPath('cross_prob_dr30_lp080_eps100.npy'),\n",
       " PosixPath('cross_prob_dr30_lp090_eps100.npy'),\n",
       " PosixPath('cross_prob_dr30_lp100_eps100.npy'),\n",
       " PosixPath('cross_prob_dr30_lp150_eps100.npy'),\n",
       " PosixPath('cross_prob_dr30_lp200_eps100.npy')]"
      ]
     },
     "execution_count": 114,
     "metadata": {},
     "output_type": "execute_result"
    }
   ],
   "source": [
    "eps_files"
   ]
  },
  {
   "cell_type": "code",
   "execution_count": 115,
   "metadata": {},
   "outputs": [],
   "source": [
    "pcross = []\n",
    "lps = []\n",
    "for file in eps_files:\n",
    "    array = np.load(file)\n",
    "    angles = array[:, 0]\n",
    "    probs = array[:, 1]\n",
    "    pcross.append(probs)\n",
    "    lp = int(file.name.partition('lp')[-1][:3])\n",
    "    lps.append(lp)\n",
    "pcross = np.array(pcross)"
   ]
  },
  {
   "cell_type": "code",
   "execution_count": 116,
   "metadata": {},
   "outputs": [],
   "source": [
    "df = pd.DataFrame(pcross, index=lps, columns=angles)"
   ]
  },
  {
   "cell_type": "code",
   "execution_count": 117,
   "metadata": {},
   "outputs": [
    {
     "data": {
      "image/png": "[encoded data removed]",
      "text/plain": [
       "<Figure size 720x720 with 2 Axes>"
      ]
     },
     "metadata": {
      "needs_background": "light"
     },
     "output_type": "display_data"
    }
   ],
   "source": [
    "fig = plt.figure(figsize=(10, 10))\n",
    "ax = plt.axes()\n",
    "img = ax.imshow(df.values, origin='lower', vmin=0, vmax=1)\n",
    "def yfunc(a, b):\n",
    "    try:\n",
    "        return df.index[a]\n",
    "    except Exception:\n",
    "        return a\n",
    "def xfunc(a, b):\n",
    "    vals = ['0', '$\\pi/8$', '$\\pi/4$', '$3\\pi/8$', '$\\pi/2$']\n",
    "    try:\n",
    "        return vals[b]\n",
    "    except Exception:\n",
    "        return a\n",
    "ax.yaxis.set_major_formatter(FuncFormatter(yfunc))\n",
    "ax.xaxis.set_ticks(np.linspace(0, df.shape[1]-1, 5))\n",
    "ax.xaxis.set_major_formatter(FuncFormatter(xfunc))\n",
    "ax.set_ylabel(\"$L_p/L$\", fontsize=20)\n",
    "ax.set_xlabel(\"Incoming angle\", fontsize=20)\n",
    "title = \"Probability of two filaments crossing upon collision by incoming angle, $\\epsilon={}k_BT$\".format(eps)\n",
    "#if \"_t0_\" in fname.name:\n",
    "#    title = title + \", $T=0$\"\n",
    "ax.set_title(title, fontsize=14)\n",
    "cbar = plt.colorbar(img, orientation='horizontal')\n",
    "cbar.ax.set_xlabel(\"$P_{cross}$\", fontsize=20)\n",
    "plt.savefig(\"cross_prob_by_angle_dr30_eps{:03d}.png\".format(eps))\n",
    "plt.show()"
   ]
  },
  {
   "cell_type": "code",
   "execution_count": 80,
   "metadata": {},
   "outputs": [
    {
     "data": {
      "text/plain": [
       "(8,)"
      ]
     },
     "execution_count": 80,
     "metadata": {},
     "output_type": "execute_result"
    }
   ],
   "source": [
    "np.linspace(0, df.shape[1]-1, 8)\n"
   ]
  },
  {
   "cell_type": "code",
   "execution_count": 10,
   "metadata": {},
   "outputs": [],
   "source": [
    "# t0_files = sorted(list(Path(spec_path).glob(\"crossing_analysis*t0*params.yaml\")))\n",
    "# t0_files = [file for file in t0_files if 'dr30' not in file.name]\n",
    "\n",
    "# def check_driving(file):\n",
    "#     with open(file, 'r') as f:\n",
    "#         params = yaml.safe_load(f)\n",
    "#         dr = params['filament'][0]['driving_factor']\n",
    "#         if int(dr) == 30:\n",
    "#             return False\n",
    "#         elif int(dr) == 3:\n",
    "#             return True\n",
    "#     raise RuntimeError(\"Did not find expected values of driving in parameter file: {}\".format(file))\n",
    "    \n",
    "# t0_files = [file for file in t0_files if check_driving(file)]"
   ]
  },
  {
   "cell_type": "code",
   "execution_count": 11,
   "metadata": {},
   "outputs": [],
   "source": [
    "# calculate_p_cross_zero_temp(t0_files)"
   ]
  },
  {
   "cell_type": "code",
   "execution_count": 12,
   "metadata": {},
   "outputs": [],
   "source": [
    "# fname = Path(spec_path, 'cross_prob_totals_dr03.npy')\n",
    "# plot_p_cross_totals(fname)"
   ]
  }
 ],
 "metadata": {
  "kernelspec": {
   "display_name": "Python 3",
   "language": "python",
   "name": "python3"
  },
  "language_info": {
   "codemirror_mode": {
    "name": "ipython",
    "version": 3
   },
   "file_extension": ".py",
   "mimetype": "text/x-python",
   "name": "python",
   "nbconvert_exporter": "python",
   "pygments_lexer": "ipython3",
   "version": "3.8.1"
  }
 },
 "nbformat": 4,
 "nbformat_minor": 4
}
