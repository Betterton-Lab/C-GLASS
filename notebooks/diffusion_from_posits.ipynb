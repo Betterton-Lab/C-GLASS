{
 "cells": [
  {
   "cell_type": "code",
   "execution_count": 1,
   "metadata": {},
   "outputs": [],
   "source": [
    "import pandas as pd\n",
    "import matplotlib.pyplot as plt\n",
    "import numpy as np\n",
    "import struct"
   ]
  },
  {
   "cell_type": "code",
   "execution_count": 2,
   "metadata": {},
   "outputs": [],
   "source": [
    "def write_to_output(data_array, file):\n",
    "    \"\"\"TODO.\"\"\"\n",
    "    file.write(str(data_array[0]))\n",
    "    if len(data_array) > 1:\n",
    "        for datum in data_array[1:]:\n",
    "            file.write(\" \" + str(datum))\n",
    "    file.write(\"\\n\")\n",
    "        \n",
    "\n",
    "def read_from_binary(type_string, file):\n",
    "    \"\"\"TODO.\"\"\"\n",
    "    return struct.unpack(type_string, file.read(struct.calcsize(type_string)))\n",
    "\n",
    "class PositReader:\n",
    "    \"\"\"TODO.\"\"\"\n",
    "    def __init__(self, posit_file):\n",
    "        \"\"\"TODO.\"\"\"\n",
    "        self.input_file = posit_file\n",
    "        self.output_file = posit_file + \".hr\"\n",
    "    \n",
    "    def make_human_readable(self):\n",
    "        \"\"\"TODO.\"\"\"\n",
    "        with open(self.input_file, 'rb') as fin, open(self.output_file, 'w+') as fout:\n",
    "            # Read header: n_steps, n_posit, timestep (int int double)\n",
    "            header = read_from_binary(\"iid\", fin)\n",
    "\n",
    "            # Write header\n",
    "            write_to_output([\"n_steps\", \"n_posit\", \"delta\"], fout)\n",
    "            write_to_output(header, fout)\n",
    "            \n",
    "            # Read body\n",
    "            write_to_output([\"n_particles\", \"pos_x\", \"pos_y\", \"pos_z\", \"spos_x\", \"spos_y\",\n",
    "                             \"spos_z\", \"u_x\", \"u_y\", \"u_z\", \"diameter\", \"length\"], fout)\n",
    "            n_samples = header[0]//header[1]\n",
    "            for sample in range(n_samples):\n",
    "                # read number of particles (int), 4 bytes\n",
    "                num = read_from_binary(\"i\", fin)[0]\n",
    "                # Read num_particles * posits, each of which are 11 doubles (88 bytes)\n",
    "                # These correspond to avg_pos (x,y,z), scaled_avg_pos (x,y,z), \n",
    "                # orientation (x,y,z), diameter, and length\n",
    "                posits = read_from_binary(\"ddddddddddd\"*num, fin)\n",
    "                write_to_output([num] + list(posits), fout)"
   ]
  },
  {
   "cell_type": "code",
   "execution_count": 5,
   "metadata": {},
   "outputs": [],
   "source": [
    "_ = PositReader('../filament_test_filament.posit').make_human_readable()"
   ]
  },
  {
   "cell_type": "code",
   "execution_count": 7,
   "metadata": {},
   "outputs": [],
   "source": [
    "params = pd.read_csv(\"../filament_test_filament.posit.hr\", delim_whitespace=True, nrows=1)\n",
    "posits = pd.read_csv(\"../filament_test_filament.posit.hr\", skiprows=3, delim_whitespace=True, header=None)"
   ]
  },
  {
   "cell_type": "code",
   "execution_count": 8,
   "metadata": {},
   "outputs": [],
   "source": [
    "n_samples = posits.shape[0]\n",
    "n_particles = posits.iloc[0, 0]\n",
    "n_folds = 1\n",
    "n_it = n_samples//n_folds\n",
    "msd = np.zeros(n_it)\n",
    "msd_err = np.zeros(n_it)\n",
    "vcf = np.zeros(n_it)\n",
    "vcf_err = np.zeros(n_it)\n",
    "for it in range(n_it):\n",
    "    dr = np.array([])\n",
    "    du = np.array([])\n",
    "    for fold in range(n_folds):\n",
    "        # Mean square displacement\n",
    "        dr = np.append(dr, np.array([np.sum((posits.iloc[fold*n_it+it, i:i+3] - posits.iloc[fold*n_it, i:i+3])**2) for i in range(1, 11*n_particles+1, 11)]))\n",
    "        # Vector correlation function\n",
    "        du = np.append(du, np.array([np.sum((posits.iloc[fold*n_it+it, i:i+3] - posits.iloc[fold*n_it, i:i+3])**2) for i in range(7, 11*n_particles+1, 11)]))\n",
    "\n",
    "    msd[it] = np.mean(dr)\n",
    "    msd_err[it] = np.std(dr)\n",
    "    vcf[it] = np.mean(du)\n",
    "    vcf_err[it] = np.std(du)\n",
    "\n",
    "msd_err = msd_err/np.sqrt(n_particles*n_folds)\n",
    "vcf_err = vcf_err/np.sqrt(n_particles*n_folds)"
   ]
  },
  {
   "cell_type": "code",
   "execution_count": 9,
   "metadata": {},
   "outputs": [],
   "source": [
    "delta = params.delta[0]\n",
    "n_steps = params.n_steps[0]\n",
    "length = posits.iloc[0, 11]\n",
    "diameter = posits.iloc[0, 10]\n",
    "t = np.linspace(0, 0.5*params.delta[0]*(params.n_steps[0]-2)/n_folds, n_it)"
   ]
  },
  {
   "cell_type": "code",
   "execution_count": 10,
   "metadata": {},
   "outputs": [],
   "source": [
    "Dcom = np.log(length/diameter)/length\n",
    "Drot = 9 * np.log(length/diameter) / length**3\n",
    "msd_theory = lambda t: 6*Dcom*t\n",
    "vcf_theory = lambda t: 2*(1 - np.exp(-2*Drot*t))"
   ]
  },
  {
   "cell_type": "code",
   "execution_count": 42,
   "metadata": {},
   "outputs": [
    {
     "ename": "NameError",
     "evalue": "name 'fig' is not defined",
     "output_type": "error",
     "traceback": [
      "\u001b[0;31m---------------------------------------------------------------------------\u001b[0m",
      "\u001b[0;31mNameError\u001b[0m                                 Traceback (most recent call last)",
      "\u001b[0;32m<ipython-input-42-81a1d33786d7>\u001b[0m in \u001b[0;36m<module>\u001b[0;34m()\u001b[0m\n\u001b[1;32m      5\u001b[0m \u001b[0mplt\u001b[0m\u001b[0;34m.\u001b[0m\u001b[0mxlabel\u001b[0m\u001b[0;34m(\u001b[0m\u001b[0;34m\"Time (sim units)\"\u001b[0m\u001b[0;34m)\u001b[0m\u001b[0;34m\u001b[0m\u001b[0;34m\u001b[0m\u001b[0m\n\u001b[1;32m      6\u001b[0m \u001b[0mplt\u001b[0m\u001b[0;34m.\u001b[0m\u001b[0mylabel\u001b[0m\u001b[0;34m(\u001b[0m\u001b[0;34mr\"$\\langle (R(t) - R(0))^2 \\rangle$\"\u001b[0m\u001b[0;34m)\u001b[0m\u001b[0;34m\u001b[0m\u001b[0;34m\u001b[0m\u001b[0m\n\u001b[0;32m----> 7\u001b[0;31m \u001b[0mfig\u001b[0m\u001b[0;34m.\u001b[0m\u001b[0mtight_layout\u001b[0m\u001b[0;34m(\u001b[0m\u001b[0;34m)\u001b[0m\u001b[0;34m\u001b[0m\u001b[0;34m\u001b[0m\u001b[0m\n\u001b[0m\u001b[1;32m      8\u001b[0m \u001b[0mplt\u001b[0m\u001b[0;34m.\u001b[0m\u001b[0msavefig\u001b[0m\u001b[0;34m(\u001b[0m\u001b[0;34m\"msd_l050_lp50k_n100.png\"\u001b[0m\u001b[0;34m,\u001b[0m \u001b[0mdpi\u001b[0m\u001b[0;34m=\u001b[0m\u001b[0;36m300\u001b[0m\u001b[0;34m)\u001b[0m\u001b[0;34m\u001b[0m\u001b[0;34m\u001b[0m\u001b[0m\n\u001b[1;32m      9\u001b[0m \u001b[0mplt\u001b[0m\u001b[0;34m.\u001b[0m\u001b[0mshow\u001b[0m\u001b[0;34m(\u001b[0m\u001b[0;34m)\u001b[0m\u001b[0;34m\u001b[0m\u001b[0;34m\u001b[0m\u001b[0m\n",
      "\u001b[0;31mNameError\u001b[0m: name 'fig' is not defined"
     ]
    },
    {
     "data": {
      "image/png": "[encoded data removed]",
      "text/plain": [
       "<Figure size 432x288 with 1 Axes>"
      ]
     },
     "metadata": {},
     "output_type": "display_data"
    }
   ],
   "source": [
    "plt.figure()\n",
    "plt.errorbar(t, msd, yerr=msd_err, label=\"Simulation\")\n",
    "plt.plot(t, msd_theory(t), 'r--', label=\"Theory\")\n",
    "plt.legend()\n",
    "plt.xlabel(\"Time (sim units)\")\n",
    "plt.ylabel(r\"$\\langle (R(t) - R(0))^2 \\rangle$\")\n",
    "fig.tight_layout()\n",
    "plt.savefig(\"msd_l050_lp50k_n100.png\", dpi=300)\n",
    "plt.show()"
   ]
  },
  {
   "cell_type": "code",
   "execution_count": 41,
   "metadata": {},
   "outputs": [
    {
     "data": {
      "image/png": "[encoded data removed]",
      "text/plain": [
       "<Figure size 432x288 with 1 Axes>"
      ]
     },
     "metadata": {},
     "output_type": "display_data"
    }
   ],
   "source": [
    "plt.figure()\n",
    "plt.errorbar(t, vcf, yerr=vcf_err, label=\"Simulation\")\n",
    "plt.plot(t, vcf_theory(t), 'r--', label=\"Theory\")\n",
    "plt.legend()\n",
    "plt.xlabel(\"Time (sim units)\")\n",
    "plt.ylabel(r\"$\\langle (u(t) - u(0))^2 \\rangle$\")\n",
    "locs, labels = plt.yticks()\n",
    "new_labels = [\n",
    "    plt.Text(0,-0.0002,'−0.0002'),\n",
    "    plt.Text(0,0,'0'),\n",
    "    plt.Text(0,0.0002,r'$2\\times10^{-4}$'),\n",
    "    plt.Text(0,0.0004,r'$4\\times10^{-4}$'),\n",
    "    plt.Text(0,0.0006,r'$6\\times10^{-4}$'),\n",
    "    plt.Text(0,0.0008,r'$8\\times10^{-4}$'),\n",
    "    plt.Text(0,0.001,r'$10^{-3}$'),\n",
    "    plt.Text(0,0.0012,r'$1.2\\times10^{-3}$'),\n",
    "    plt.Text(0,0.0014,r'$1.4\\times10^{-3}$')\n",
    "]\n",
    "plt.yticks(locs[1:-1], new_labels[1:-1])\n",
    "plt.tight_layout()\n",
    "#plt.ticklabel_format(style='sci', axis='y', scilimits=(0,0))\n",
    "plt.savefig(\"vcf_l050_lp50k_n100.png\", dpi=300)\n",
    "plt.show()"
   ]
  },
  {
   "cell_type": "code",
   "execution_count": 352,
   "metadata": {},
   "outputs": [
    {
     "data": {
      "text/plain": [
       "12.781110931766573"
      ]
     },
     "execution_count": 352,
     "metadata": {},
     "output_type": "execute_result"
    }
   ],
   "source": [
    "1/(np.log(50)/50)"
   ]
  },
  {
   "cell_type": "code",
   "execution_count": 354,
   "metadata": {
    "scrolled": true
   },
   "outputs": [
    {
     "data": {
      "text/plain": [
       "3.129890453834116e-05"
      ]
     },
     "execution_count": 354,
     "metadata": {},
     "output_type": "execute_result"
    }
   ],
   "source": [
    "1/(50**2 * 12.78)"
   ]
  },
  {
   "cell_type": "code",
   "execution_count": 22,
   "metadata": {},
   "outputs": [
    {
     "data": {
      "text/plain": [
       "array([-0.0002,  0.    ,  0.0002,  0.0004,  0.0006,  0.0008,  0.001 ,\n",
       "        0.0012,  0.0014])"
      ]
     },
     "execution_count": 22,
     "metadata": {},
     "output_type": "execute_result"
    }
   ],
   "source": [
    "locs"
   ]
  },
  {
   "cell_type": "code",
   "execution_count": 24,
   "metadata": {},
   "outputs": [
    {
     "name": "stdout",
     "output_type": "stream",
     "text": [
      "Text(0,-0.0002,'−0.0002')\n",
      "Text(0,0,'0.0000')\n",
      "Text(0,0.0002,'0.0002')\n",
      "Text(0,0.0004,'0.0004')\n",
      "Text(0,0.0006,'0.0006')\n",
      "Text(0,0.0008,'0.0008')\n",
      "Text(0,0.001,'0.0010')\n",
      "Text(0,0.0012,'0.0012')\n",
      "Text(0,0.0014,'0.0014')\n"
     ]
    }
   ],
   "source": [
    "for i in labels:\n",
    "    print(i)"
   ]
  },
  {
   "cell_type": "code",
   "execution_count": 35,
   "metadata": {},
   "outputs": [],
   "source": []
  },
  {
   "cell_type": "code",
   "execution_count": null,
   "metadata": {},
   "outputs": [],
   "source": []
  }
 ],
 "metadata": {
  "kernelspec": {
   "display_name": "Python 3",
   "language": "python",
   "name": "python3"
  },
  "language_info": {
   "codemirror_mode": {
    "name": "ipython",
    "version": 3
   },
   "file_extension": ".py",
   "mimetype": "text/x-python",
   "name": "python",
   "nbconvert_exporter": "python",
   "pygments_lexer": "ipython3",
   "version": "3.7.4"
  }
 },
 "nbformat": 4,
 "nbformat_minor": 2
}
