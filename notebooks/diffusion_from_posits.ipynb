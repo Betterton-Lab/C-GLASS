{
 "cells": [
  {
   "cell_type": "code",
   "execution_count": 3,
   "metadata": {},
   "outputs": [],
   "source": [
    "import pandas as pd\n",
    "import matplotlib.pyplot as plt\n",
    "import numpy as np\n",
    "import struct"
   ]
  },
  {
   "cell_type": "code",
   "execution_count": 11,
   "metadata": {},
   "outputs": [],
   "source": [
    "def write_to_output(data_array, file):\n",
    "    \"\"\"TODO.\"\"\"\n",
    "    file.write(str(data_array[0]))\n",
    "    if len(data_array) > 1:\n",
    "        for datum in data_array[1:]:\n",
    "            file.write(\" \" + str(datum))\n",
    "    file.write(\"\\n\")\n",
    "        \n",
    "\n",
    "def read_from_binary(type_string, file):\n",
    "    \"\"\"TODO.\"\"\"\n",
    "    return struct.unpack(type_string, file.read(struct.calcsize(type_string)))\n",
    "\n",
    "class PositReader:\n",
    "    \"\"\"TODO.\"\"\"\n",
    "    def __init__(self, posit_file):\n",
    "        \"\"\"TODO.\"\"\"\n",
    "        self.input_file = posit_file\n",
    "        self.output_file = posit_file + \".hr\"\n",
    "    \n",
    "    def make_human_readable(self):\n",
    "        \"\"\"TODO.\"\"\"\n",
    "        with open(self.input_file, 'rb') as fin, open(self.output_file, 'w+') as fout:\n",
    "            # Read header: n_steps, n_posit, timestep (int int double)\n",
    "            header = read_from_binary(\"iid\", fin)\n",
    "\n",
    "            # Write header\n",
    "            write_to_output([\"n_steps\", \"n_posit\", \"delta\"], fout)\n",
    "            write_to_output(header, fout)\n",
    "            \n",
    "            # Read body\n",
    "            write_to_output([\"n_particles\", \"pos_x\", \"pos_y\", \"pos_z\", \"spos_x\", \"spos_y\",\n",
    "                             \"spos_z\", \"u_x\", \"u_y\", \"u_z\", \"diameter\", \"length\"], fout)\n",
    "            n_samples = header[0]//header[1]\n",
    "            for sample in range(n_samples):\n",
    "                # read number of particles (int), 4 bytes\n",
    "                num = read_from_binary(\"i\", fin)[0]\n",
    "                # Read num_particles * posits, each of which are 11 doubles (88 bytes)\n",
    "                # These correspond to avg_pos (x,y,z), scaled_avg_pos (x,y,z), \n",
    "                # orientation (x,y,z), diameter, and length\n",
    "                posits = read_from_binary(\"ddddddddddd\"*num, fin)\n",
    "                write_to_output([num] + list(posits), fout)"
   ]
  },
  {
   "cell_type": "code",
   "execution_count": null,
   "metadata": {},
   "outputs": [],
   "source": []
  },
  {
   "cell_type": "code",
   "execution_count": 141,
   "metadata": {},
   "outputs": [
    {
     "ename": "error",
     "evalue": "unpack requires a buffer of 8800 bytes",
     "output_type": "error",
     "traceback": [
      "\u001b[0;31m---------------------------------------------------------------------------\u001b[0m",
      "\u001b[0;31merror\u001b[0m                                     Traceback (most recent call last)",
      "\u001b[0;32m<ipython-input-141-1f44860289bc>\u001b[0m in \u001b[0;36m<module>\u001b[0;34m\u001b[0m\n\u001b[0;32m----> 1\u001b[0;31m \u001b[0m_\u001b[0m \u001b[0;34m=\u001b[0m \u001b[0mPositReader\u001b[0m\u001b[0;34m(\u001b[0m\u001b[0;34m'filament_diffusion_check_filament_generic.posit'\u001b[0m\u001b[0;34m)\u001b[0m\u001b[0;34m.\u001b[0m\u001b[0mmake_human_readable\u001b[0m\u001b[0;34m(\u001b[0m\u001b[0;34m)\u001b[0m\u001b[0;34m\u001b[0m\u001b[0;34m\u001b[0m\u001b[0m\n\u001b[0m",
      "\u001b[0;32m<ipython-input-11-c430a531e48b>\u001b[0m in \u001b[0;36mmake_human_readable\u001b[0;34m(self)\u001b[0m\n\u001b[1;32m     39\u001b[0m                 \u001b[0;31m# These correspond to avg_pos (x,y,z), scaled_avg_pos (x,y,z),\u001b[0m\u001b[0;34m\u001b[0m\u001b[0;34m\u001b[0m\u001b[0;34m\u001b[0m\u001b[0m\n\u001b[1;32m     40\u001b[0m                 \u001b[0;31m# orientation (x,y,z), diameter, and length\u001b[0m\u001b[0;34m\u001b[0m\u001b[0;34m\u001b[0m\u001b[0;34m\u001b[0m\u001b[0m\n\u001b[0;32m---> 41\u001b[0;31m                 \u001b[0mposits\u001b[0m \u001b[0;34m=\u001b[0m \u001b[0mread_from_binary\u001b[0m\u001b[0;34m(\u001b[0m\u001b[0;34m\"ddddddddddd\"\u001b[0m\u001b[0;34m*\u001b[0m\u001b[0mnum\u001b[0m\u001b[0;34m,\u001b[0m \u001b[0mfin\u001b[0m\u001b[0;34m)\u001b[0m\u001b[0;34m\u001b[0m\u001b[0;34m\u001b[0m\u001b[0m\n\u001b[0m\u001b[1;32m     42\u001b[0m                 \u001b[0mwrite_to_output\u001b[0m\u001b[0;34m(\u001b[0m\u001b[0;34m[\u001b[0m\u001b[0mnum\u001b[0m\u001b[0;34m]\u001b[0m \u001b[0;34m+\u001b[0m \u001b[0mlist\u001b[0m\u001b[0;34m(\u001b[0m\u001b[0mposits\u001b[0m\u001b[0;34m)\u001b[0m\u001b[0;34m,\u001b[0m \u001b[0mfout\u001b[0m\u001b[0;34m)\u001b[0m\u001b[0;34m\u001b[0m\u001b[0;34m\u001b[0m\u001b[0m\n",
      "\u001b[0;32m<ipython-input-11-c430a531e48b>\u001b[0m in \u001b[0;36mread_from_binary\u001b[0;34m(type_string, file)\u001b[0m\n\u001b[1;32m     10\u001b[0m \u001b[0;32mdef\u001b[0m \u001b[0mread_from_binary\u001b[0m\u001b[0;34m(\u001b[0m\u001b[0mtype_string\u001b[0m\u001b[0;34m,\u001b[0m \u001b[0mfile\u001b[0m\u001b[0;34m)\u001b[0m\u001b[0;34m:\u001b[0m\u001b[0;34m\u001b[0m\u001b[0;34m\u001b[0m\u001b[0m\n\u001b[1;32m     11\u001b[0m     \u001b[0;34m\"\"\"TODO.\"\"\"\u001b[0m\u001b[0;34m\u001b[0m\u001b[0;34m\u001b[0m\u001b[0m\n\u001b[0;32m---> 12\u001b[0;31m     \u001b[0;32mreturn\u001b[0m \u001b[0mstruct\u001b[0m\u001b[0;34m.\u001b[0m\u001b[0munpack\u001b[0m\u001b[0;34m(\u001b[0m\u001b[0mtype_string\u001b[0m\u001b[0;34m,\u001b[0m \u001b[0mfile\u001b[0m\u001b[0;34m.\u001b[0m\u001b[0mread\u001b[0m\u001b[0;34m(\u001b[0m\u001b[0mstruct\u001b[0m\u001b[0;34m.\u001b[0m\u001b[0mcalcsize\u001b[0m\u001b[0;34m(\u001b[0m\u001b[0mtype_string\u001b[0m\u001b[0;34m)\u001b[0m\u001b[0;34m)\u001b[0m\u001b[0;34m)\u001b[0m\u001b[0;34m\u001b[0m\u001b[0;34m\u001b[0m\u001b[0m\n\u001b[0m\u001b[1;32m     13\u001b[0m \u001b[0;34m\u001b[0m\u001b[0m\n\u001b[1;32m     14\u001b[0m \u001b[0;32mclass\u001b[0m \u001b[0mPositReader\u001b[0m\u001b[0;34m:\u001b[0m\u001b[0;34m\u001b[0m\u001b[0;34m\u001b[0m\u001b[0m\n",
      "\u001b[0;31merror\u001b[0m: unpack requires a buffer of 8800 bytes"
     ]
    }
   ],
   "source": [
    "_ = PositReader('filament_diffusion_check_filament_generic.posit').make_human_readable()"
   ]
  },
  {
   "cell_type": "code",
   "execution_count": 144,
   "metadata": {},
   "outputs": [],
   "source": [
    "params = pd.read_csv(\"filament_diffusion_check_filament_generic.posit.hr\", delim_whitespace=True, nrows=1)\n",
    "posits = pd.read_csv(\"filament_diffusion_check_filament_generic.posit.hr\", skiprows=3, delim_whitespace=True, header=None)"
   ]
  },
  {
   "cell_type": "code",
   "execution_count": 145,
   "metadata": {},
   "outputs": [],
   "source": [
    "n_samples = posits.shape[0]\n",
    "n_particles = posits.iloc[0, 0]\n",
    "n_folds = 1\n",
    "n_it = n_samples//n_folds\n",
    "msds = np.zeros((n_it, n_particles*n_folds))\n",
    "vcfs = np.zeros((n_it, n_particles*n_folds))\n",
    "posits = posits.iloc[:, 1:]\n"
   ]
  },
  {
   "cell_type": "code",
   "execution_count": 151,
   "metadata": {},
   "outputs": [],
   "source": [
    "def calcMSD(x):\n",
    "    result = x.iloc[:, 0:3] - x.iloc[0, 0:3]\n",
    "    result = result.apply(lambda y: y**2)\n",
    "    return result.apply(np.sum, axis=1).values\n",
    "\n",
    "def calcVCF(x):\n",
    "    result = x.iloc[:, 6:9] - x.iloc[0, 6:9]\n",
    "    result = result.apply(lambda y: y**2)\n",
    "    return result.apply(np.sum, axis=1).values\n",
    "\n",
    "for fold in range(n_folds):\n",
    "    msds[:, fold*n_particles:(fold+1)*n_particles] = np.array([calcMSD(\n",
    "        posits.iloc[fold*n_it:(fold+1)*n_it, j*11:(j+1)*11]) for j in range(n_particles)]).transpose()\n",
    "    vcfs[:, fold*n_particles:(fold+1)*n_particles] = np.array([calcVCF(\n",
    "        posits.iloc[fold*n_it:(fold+1)*n_it, j*11:(j+1)*11]) for j in range(n_particles)]).transpose()\n",
    "msd = msds.mean(axis=1)\n",
    "vcf = vcfs.mean(axis=1)\n",
    "msd_err = msds.std(axis=1)/np.sqrt(n_particles*n_folds)\n",
    "vcf_err = vcfs.std(axis=1)/np.sqrt(n_particles*n_folds)"
   ]
  },
  {
   "cell_type": "code",
   "execution_count": 146,
   "metadata": {},
   "outputs": [
    {
     "data": {
      "text/plain": [
       "(1540,)"
      ]
     },
     "execution_count": 146,
     "metadata": {},
     "output_type": "execute_result"
    }
   ],
   "source": [
    "msd.shape"
   ]
  },
  {
   "cell_type": "code",
   "execution_count": 111,
   "metadata": {},
   "outputs": [
    {
     "data": {
      "text/plain": [
       "array([0.        , 0.14821232, 0.22302084, ..., 6.22228683, 6.21994216,\n",
       "       6.2399785 ])"
      ]
     },
     "execution_count": 111,
     "metadata": {},
     "output_type": "execute_result"
    }
   ],
   "source": [
    "a.mean(axis=1)"
   ]
  },
  {
   "cell_type": "code",
   "execution_count": 107,
   "metadata": {},
   "outputs": [
    {
     "data": {
      "text/html": [
       "<div>\n",
       "<style scoped>\n",
       "    .dataframe tbody tr th:only-of-type {\n",
       "        vertical-align: middle;\n",
       "    }\n",
       "\n",
       "    .dataframe tbody tr th {\n",
       "        vertical-align: top;\n",
       "    }\n",
       "\n",
       "    .dataframe thead th {\n",
       "        text-align: right;\n",
       "    }\n",
       "</style>\n",
       "<table border=\"1\" class=\"dataframe\">\n",
       "  <thead>\n",
       "    <tr style=\"text-align: right;\">\n",
       "      <th></th>\n",
       "      <th>0</th>\n",
       "      <th>1</th>\n",
       "      <th>2</th>\n",
       "      <th>3</th>\n",
       "      <th>4</th>\n",
       "      <th>5</th>\n",
       "      <th>6</th>\n",
       "      <th>7</th>\n",
       "      <th>8</th>\n",
       "      <th>9</th>\n",
       "      <th>...</th>\n",
       "      <th>90</th>\n",
       "      <th>91</th>\n",
       "      <th>92</th>\n",
       "      <th>93</th>\n",
       "      <th>94</th>\n",
       "      <th>95</th>\n",
       "      <th>96</th>\n",
       "      <th>97</th>\n",
       "      <th>98</th>\n",
       "      <th>99</th>\n",
       "    </tr>\n",
       "  </thead>\n",
       "  <tbody>\n",
       "    <tr>\n",
       "      <th>0</th>\n",
       "      <td>0.000000</td>\n",
       "      <td>0.000000</td>\n",
       "      <td>0.000000</td>\n",
       "      <td>0.000000</td>\n",
       "      <td>0.000000</td>\n",
       "      <td>0.000000</td>\n",
       "      <td>0.000000</td>\n",
       "      <td>0.000000</td>\n",
       "      <td>0.000000</td>\n",
       "      <td>0.000000</td>\n",
       "      <td>...</td>\n",
       "      <td>0.000000</td>\n",
       "      <td>0.000000</td>\n",
       "      <td>0.000000</td>\n",
       "      <td>0.000000</td>\n",
       "      <td>0.000000</td>\n",
       "      <td>0.000000</td>\n",
       "      <td>0.000000</td>\n",
       "      <td>0.000000</td>\n",
       "      <td>0.000000</td>\n",
       "      <td>0.000000</td>\n",
       "    </tr>\n",
       "    <tr>\n",
       "      <th>1</th>\n",
       "      <td>0.078696</td>\n",
       "      <td>0.078762</td>\n",
       "      <td>0.167920</td>\n",
       "      <td>0.176974</td>\n",
       "      <td>0.125462</td>\n",
       "      <td>0.131028</td>\n",
       "      <td>0.050048</td>\n",
       "      <td>0.074667</td>\n",
       "      <td>0.035514</td>\n",
       "      <td>0.180016</td>\n",
       "      <td>...</td>\n",
       "      <td>0.111053</td>\n",
       "      <td>0.054592</td>\n",
       "      <td>0.144664</td>\n",
       "      <td>0.049352</td>\n",
       "      <td>0.057276</td>\n",
       "      <td>0.251204</td>\n",
       "      <td>0.109137</td>\n",
       "      <td>0.194426</td>\n",
       "      <td>0.112206</td>\n",
       "      <td>0.063845</td>\n",
       "    </tr>\n",
       "    <tr>\n",
       "      <th>2</th>\n",
       "      <td>0.030398</td>\n",
       "      <td>0.266959</td>\n",
       "      <td>0.119833</td>\n",
       "      <td>0.132552</td>\n",
       "      <td>0.159766</td>\n",
       "      <td>0.166042</td>\n",
       "      <td>0.271386</td>\n",
       "      <td>0.245984</td>\n",
       "      <td>0.169227</td>\n",
       "      <td>0.219158</td>\n",
       "      <td>...</td>\n",
       "      <td>0.169556</td>\n",
       "      <td>0.120411</td>\n",
       "      <td>0.074135</td>\n",
       "      <td>0.221555</td>\n",
       "      <td>0.103176</td>\n",
       "      <td>0.262317</td>\n",
       "      <td>0.127888</td>\n",
       "      <td>0.125792</td>\n",
       "      <td>0.180108</td>\n",
       "      <td>0.146985</td>\n",
       "    </tr>\n",
       "    <tr>\n",
       "      <th>3</th>\n",
       "      <td>0.331251</td>\n",
       "      <td>0.352455</td>\n",
       "      <td>0.412835</td>\n",
       "      <td>0.141293</td>\n",
       "      <td>0.143197</td>\n",
       "      <td>0.204030</td>\n",
       "      <td>0.544490</td>\n",
       "      <td>0.233134</td>\n",
       "      <td>0.098038</td>\n",
       "      <td>0.150063</td>\n",
       "      <td>...</td>\n",
       "      <td>0.211259</td>\n",
       "      <td>0.198856</td>\n",
       "      <td>0.096620</td>\n",
       "      <td>0.378463</td>\n",
       "      <td>0.260893</td>\n",
       "      <td>0.149849</td>\n",
       "      <td>0.274173</td>\n",
       "      <td>0.257424</td>\n",
       "      <td>0.250794</td>\n",
       "      <td>0.247452</td>\n",
       "    </tr>\n",
       "    <tr>\n",
       "      <th>4</th>\n",
       "      <td>0.103289</td>\n",
       "      <td>0.364281</td>\n",
       "      <td>0.451527</td>\n",
       "      <td>0.154220</td>\n",
       "      <td>0.282852</td>\n",
       "      <td>0.353181</td>\n",
       "      <td>0.453380</td>\n",
       "      <td>0.310860</td>\n",
       "      <td>0.113213</td>\n",
       "      <td>0.359430</td>\n",
       "      <td>...</td>\n",
       "      <td>0.306583</td>\n",
       "      <td>0.290010</td>\n",
       "      <td>0.162525</td>\n",
       "      <td>0.283877</td>\n",
       "      <td>0.244837</td>\n",
       "      <td>0.287778</td>\n",
       "      <td>0.306009</td>\n",
       "      <td>0.482397</td>\n",
       "      <td>0.245522</td>\n",
       "      <td>0.228227</td>\n",
       "    </tr>\n",
       "    <tr>\n",
       "      <th>...</th>\n",
       "      <td>...</td>\n",
       "      <td>...</td>\n",
       "      <td>...</td>\n",
       "      <td>...</td>\n",
       "      <td>...</td>\n",
       "      <td>...</td>\n",
       "      <td>...</td>\n",
       "      <td>...</td>\n",
       "      <td>...</td>\n",
       "      <td>...</td>\n",
       "      <td>...</td>\n",
       "      <td>...</td>\n",
       "      <td>...</td>\n",
       "      <td>...</td>\n",
       "      <td>...</td>\n",
       "      <td>...</td>\n",
       "      <td>...</td>\n",
       "      <td>...</td>\n",
       "      <td>...</td>\n",
       "      <td>...</td>\n",
       "      <td>...</td>\n",
       "    </tr>\n",
       "    <tr>\n",
       "      <th>1535</th>\n",
       "      <td>9.471642</td>\n",
       "      <td>3.649075</td>\n",
       "      <td>9.872846</td>\n",
       "      <td>8.952988</td>\n",
       "      <td>7.835635</td>\n",
       "      <td>3.267198</td>\n",
       "      <td>10.390903</td>\n",
       "      <td>4.677493</td>\n",
       "      <td>3.313082</td>\n",
       "      <td>3.860869</td>\n",
       "      <td>...</td>\n",
       "      <td>1.455307</td>\n",
       "      <td>3.910014</td>\n",
       "      <td>7.854715</td>\n",
       "      <td>6.671053</td>\n",
       "      <td>3.693618</td>\n",
       "      <td>4.355024</td>\n",
       "      <td>9.133124</td>\n",
       "      <td>10.922462</td>\n",
       "      <td>12.827585</td>\n",
       "      <td>10.599811</td>\n",
       "    </tr>\n",
       "    <tr>\n",
       "      <th>1536</th>\n",
       "      <td>9.353459</td>\n",
       "      <td>3.697631</td>\n",
       "      <td>9.908367</td>\n",
       "      <td>9.108751</td>\n",
       "      <td>7.877000</td>\n",
       "      <td>3.345097</td>\n",
       "      <td>10.335269</td>\n",
       "      <td>4.784990</td>\n",
       "      <td>3.343722</td>\n",
       "      <td>3.806799</td>\n",
       "      <td>...</td>\n",
       "      <td>1.602543</td>\n",
       "      <td>3.946490</td>\n",
       "      <td>7.742287</td>\n",
       "      <td>6.822706</td>\n",
       "      <td>3.518815</td>\n",
       "      <td>4.472771</td>\n",
       "      <td>9.180375</td>\n",
       "      <td>11.137186</td>\n",
       "      <td>12.938146</td>\n",
       "      <td>10.692374</td>\n",
       "    </tr>\n",
       "    <tr>\n",
       "      <th>1537</th>\n",
       "      <td>9.453848</td>\n",
       "      <td>3.722610</td>\n",
       "      <td>9.862624</td>\n",
       "      <td>9.193214</td>\n",
       "      <td>8.204106</td>\n",
       "      <td>3.374027</td>\n",
       "      <td>10.365614</td>\n",
       "      <td>4.665016</td>\n",
       "      <td>3.392046</td>\n",
       "      <td>3.917568</td>\n",
       "      <td>...</td>\n",
       "      <td>1.597554</td>\n",
       "      <td>3.968213</td>\n",
       "      <td>8.036778</td>\n",
       "      <td>6.981134</td>\n",
       "      <td>3.360081</td>\n",
       "      <td>4.470725</td>\n",
       "      <td>9.179533</td>\n",
       "      <td>11.124228</td>\n",
       "      <td>12.674774</td>\n",
       "      <td>10.627760</td>\n",
       "    </tr>\n",
       "    <tr>\n",
       "      <th>1538</th>\n",
       "      <td>9.398092</td>\n",
       "      <td>3.825207</td>\n",
       "      <td>9.598982</td>\n",
       "      <td>9.281057</td>\n",
       "      <td>8.274549</td>\n",
       "      <td>3.512135</td>\n",
       "      <td>10.391317</td>\n",
       "      <td>4.565644</td>\n",
       "      <td>3.382250</td>\n",
       "      <td>3.885303</td>\n",
       "      <td>...</td>\n",
       "      <td>1.448160</td>\n",
       "      <td>4.008941</td>\n",
       "      <td>7.621736</td>\n",
       "      <td>7.256326</td>\n",
       "      <td>3.262500</td>\n",
       "      <td>4.436112</td>\n",
       "      <td>9.252532</td>\n",
       "      <td>11.351492</td>\n",
       "      <td>12.859638</td>\n",
       "      <td>10.241758</td>\n",
       "    </tr>\n",
       "    <tr>\n",
       "      <th>1539</th>\n",
       "      <td>9.305090</td>\n",
       "      <td>3.809111</td>\n",
       "      <td>9.618298</td>\n",
       "      <td>9.252151</td>\n",
       "      <td>8.500690</td>\n",
       "      <td>3.536677</td>\n",
       "      <td>10.375966</td>\n",
       "      <td>4.573801</td>\n",
       "      <td>3.338361</td>\n",
       "      <td>4.070655</td>\n",
       "      <td>...</td>\n",
       "      <td>1.363211</td>\n",
       "      <td>4.073837</td>\n",
       "      <td>7.697294</td>\n",
       "      <td>7.339051</td>\n",
       "      <td>3.227254</td>\n",
       "      <td>4.510678</td>\n",
       "      <td>9.230449</td>\n",
       "      <td>11.549457</td>\n",
       "      <td>12.885568</td>\n",
       "      <td>10.236045</td>\n",
       "    </tr>\n",
       "  </tbody>\n",
       "</table>\n",
       "<p>1540 rows × 100 columns</p>\n",
       "</div>"
      ],
      "text/plain": [
       "            0         1         2         3         4         5          6   \\\n",
       "0     0.000000  0.000000  0.000000  0.000000  0.000000  0.000000   0.000000   \n",
       "1     0.078696  0.078762  0.167920  0.176974  0.125462  0.131028   0.050048   \n",
       "2     0.030398  0.266959  0.119833  0.132552  0.159766  0.166042   0.271386   \n",
       "3     0.331251  0.352455  0.412835  0.141293  0.143197  0.204030   0.544490   \n",
       "4     0.103289  0.364281  0.451527  0.154220  0.282852  0.353181   0.453380   \n",
       "...        ...       ...       ...       ...       ...       ...        ...   \n",
       "1535  9.471642  3.649075  9.872846  8.952988  7.835635  3.267198  10.390903   \n",
       "1536  9.353459  3.697631  9.908367  9.108751  7.877000  3.345097  10.335269   \n",
       "1537  9.453848  3.722610  9.862624  9.193214  8.204106  3.374027  10.365614   \n",
       "1538  9.398092  3.825207  9.598982  9.281057  8.274549  3.512135  10.391317   \n",
       "1539  9.305090  3.809111  9.618298  9.252151  8.500690  3.536677  10.375966   \n",
       "\n",
       "            7         8         9   ...        90        91        92  \\\n",
       "0     0.000000  0.000000  0.000000  ...  0.000000  0.000000  0.000000   \n",
       "1     0.074667  0.035514  0.180016  ...  0.111053  0.054592  0.144664   \n",
       "2     0.245984  0.169227  0.219158  ...  0.169556  0.120411  0.074135   \n",
       "3     0.233134  0.098038  0.150063  ...  0.211259  0.198856  0.096620   \n",
       "4     0.310860  0.113213  0.359430  ...  0.306583  0.290010  0.162525   \n",
       "...        ...       ...       ...  ...       ...       ...       ...   \n",
       "1535  4.677493  3.313082  3.860869  ...  1.455307  3.910014  7.854715   \n",
       "1536  4.784990  3.343722  3.806799  ...  1.602543  3.946490  7.742287   \n",
       "1537  4.665016  3.392046  3.917568  ...  1.597554  3.968213  8.036778   \n",
       "1538  4.565644  3.382250  3.885303  ...  1.448160  4.008941  7.621736   \n",
       "1539  4.573801  3.338361  4.070655  ...  1.363211  4.073837  7.697294   \n",
       "\n",
       "            93        94        95        96         97         98         99  \n",
       "0     0.000000  0.000000  0.000000  0.000000   0.000000   0.000000   0.000000  \n",
       "1     0.049352  0.057276  0.251204  0.109137   0.194426   0.112206   0.063845  \n",
       "2     0.221555  0.103176  0.262317  0.127888   0.125792   0.180108   0.146985  \n",
       "3     0.378463  0.260893  0.149849  0.274173   0.257424   0.250794   0.247452  \n",
       "4     0.283877  0.244837  0.287778  0.306009   0.482397   0.245522   0.228227  \n",
       "...        ...       ...       ...       ...        ...        ...        ...  \n",
       "1535  6.671053  3.693618  4.355024  9.133124  10.922462  12.827585  10.599811  \n",
       "1536  6.822706  3.518815  4.472771  9.180375  11.137186  12.938146  10.692374  \n",
       "1537  6.981134  3.360081  4.470725  9.179533  11.124228  12.674774  10.627760  \n",
       "1538  7.256326  3.262500  4.436112  9.252532  11.351492  12.859638  10.241758  \n",
       "1539  7.339051  3.227254  4.510678  9.230449  11.549457  12.885568  10.236045  \n",
       "\n",
       "[1540 rows x 100 columns]"
      ]
     },
     "execution_count": 107,
     "metadata": {},
     "output_type": "execute_result"
    }
   ],
   "source": [
    "pd.DataFrame(a)"
   ]
  },
  {
   "cell_type": "code",
   "execution_count": 25,
   "metadata": {},
   "outputs": [],
   "source": [
    "n_samples = posits.shape[0]\n",
    "n_particles = posits.iloc[0, 0]\n",
    "n_folds = 1\n",
    "n_it = n_samples//n_folds\n",
    "msd = np.zeros(n_it)\n",
    "msd_err = np.zeros(n_it)\n",
    "vcf = np.zeros(n_it)\n",
    "vcf_err = np.zeros(n_it)\n",
    "for it in range(n_it):\n",
    "    dr = np.array([])\n",
    "    du = np.array([])\n",
    "    for fold in range(n_folds):\n",
    "        # Mean square displacement\n",
    "        dr = np.append(dr, np.array([np.sum((posits.iloc[fold*n_it+it, i:i+3] - posits.iloc[fold*n_it, i:i+3])**2) for i in range(1, 11*n_particles+1, 11)]))\n",
    "        # Vector correlation function\n",
    "        du = np.append(du, np.array([np.sum((posits.iloc[fold*n_it+it, i:i+3] - posits.iloc[fold*n_it, i:i+3])**2) for i in range(7, 11*n_particles+1, 11)]))\n",
    "\n",
    "    msd[it] = np.mean(dr)\n",
    "    msd_err[it] = np.std(dr)\n",
    "    vcf[it] = np.mean(du)\n",
    "    vcf_err[it] = np.std(du)\n",
    "\n",
    "msd_err = msd_err/np.sqrt(n_particles*n_folds)\n",
    "vcf_err = vcf_err/np.sqrt(n_particles*n_folds)"
   ]
  },
  {
   "cell_type": "code",
   "execution_count": 152,
   "metadata": {},
   "outputs": [],
   "source": [
    "delta = params.delta[0]\n",
    "n_steps = params.n_steps[0]\n",
    "length = posits.iloc[0, 11]\n",
    "diameter = posits.iloc[0, 10]\n",
    "t = np.linspace(0, 0.5*params.delta[0]*(params.n_steps[0]-2)/n_folds, n_it)"
   ]
  },
  {
   "cell_type": "code",
   "execution_count": 159,
   "metadata": {},
   "outputs": [],
   "source": [
    "Dcom = np.log(length/diameter)/length\n",
    "Drot = 9 * np.log(length/diameter) / length**3\n",
    "msd_theory = lambda t: 6*Dcom*t\n",
    "vcf_theory = lambda t: 2*(1 - np.exp(-2*Drot*t))"
   ]
  },
  {
   "cell_type": "code",
   "execution_count": 154,
   "metadata": {},
   "outputs": [
    {
     "data": {
      "text/plain": [
       "1540"
      ]
     },
     "execution_count": 154,
     "metadata": {},
     "output_type": "execute_result"
    }
   ],
   "source": [
    "len(msd)"
   ]
  },
  {
   "cell_type": "code",
   "execution_count": 160,
   "metadata": {},
   "outputs": [
    {
     "data": {
      "image/png": "[encoded data removed]",
      "text/plain": [
       "<Figure size 432x288 with 1 Axes>"
      ]
     },
     "metadata": {
      "needs_background": "light"
     },
     "output_type": "display_data"
    }
   ],
   "source": [
    "plt.figure()\n",
    "plt.errorbar(t, msd, yerr=msd_err, label=\"Simulation\")\n",
    "plt.plot(t, msd_theory(t), 'r--', label=\"Theory\")\n",
    "plt.legend()\n",
    "plt.xlabel(\"Time (sim units)\")\n",
    "plt.ylabel(r\"$\\langle (R(t) - R(0))^2 \\rangle$\")\n",
    "plt.tight_layout()\n",
    "plt.savefig(\"msd_l050_lp50k_n100.png\", dpi=300)\n",
    "plt.show()"
   ]
  },
  {
   "cell_type": "code",
   "execution_count": 156,
   "metadata": {},
   "outputs": [
    {
     "data": {
      "image/png": "[encoded data removed]",
      "text/plain": [
       "<Figure size 432x288 with 1 Axes>"
      ]
     },
     "metadata": {
      "needs_background": "light"
     },
     "output_type": "display_data"
    }
   ],
   "source": [
    "plt.figure()\n",
    "plt.errorbar(t, vcf, yerr=vcf_err, label=\"Simulation\")\n",
    "plt.plot(t, vcf_theory(t), 'r--', label=\"Theory\")\n",
    "plt.legend()\n",
    "plt.xlabel(\"Time (sim units)\")\n",
    "plt.ylabel(r\"$\\langle (u(t) - u(0))^2 \\rangle$\")\n",
    "locs, labels = plt.yticks()\n",
    "new_labels = [\n",
    "    plt.Text(0,-0.0002,'−0.0002'),\n",
    "    plt.Text(0,0,'0'),\n",
    "    plt.Text(0,0.0002,r'$2\\times10^{-4}$'),\n",
    "    plt.Text(0,0.0004,r'$4\\times10^{-4}$'),\n",
    "    plt.Text(0,0.0006,r'$6\\times10^{-4}$'),\n",
    "    plt.Text(0,0.0008,r'$8\\times10^{-4}$'),\n",
    "    plt.Text(0,0.001,r'$10^{-3}$'),\n",
    "    plt.Text(0,0.0012,r'$1.2\\times10^{-3}$'),\n",
    "    plt.Text(0,0.0014,r'$1.4\\times10^{-3}$')\n",
    "]\n",
    "plt.yticks(locs[1:-1], new_labels[1:-1])\n",
    "plt.tight_layout()\n",
    "#plt.ticklabel_format(style='sci', axis='y', scilimits=(0,0))\n",
    "plt.savefig(\"vcf_l050_lp50k_n100.png\", dpi=300)\n",
    "plt.show()"
   ]
  },
  {
   "cell_type": "code",
   "execution_count": 130,
   "metadata": {},
   "outputs": [
    {
     "data": {
      "text/plain": [
       "12.781110931766573"
      ]
     },
     "execution_count": 130,
     "metadata": {},
     "output_type": "execute_result"
    }
   ],
   "source": [
    "1/(np.log(50)/50)"
   ]
  },
  {
   "cell_type": "code",
   "execution_count": 354,
   "metadata": {
    "scrolled": true
   },
   "outputs": [
    {
     "data": {
      "text/plain": [
       "3.129890453834116e-05"
      ]
     },
     "execution_count": 354,
     "metadata": {},
     "output_type": "execute_result"
    }
   ],
   "source": [
    "1/(50**2 * 12.78)"
   ]
  },
  {
   "cell_type": "code",
   "execution_count": 22,
   "metadata": {},
   "outputs": [
    {
     "data": {
      "text/plain": [
       "array([-0.0002,  0.    ,  0.0002,  0.0004,  0.0006,  0.0008,  0.001 ,\n",
       "        0.0012,  0.0014])"
      ]
     },
     "execution_count": 22,
     "metadata": {},
     "output_type": "execute_result"
    }
   ],
   "source": [
    "locs"
   ]
  },
  {
   "cell_type": "code",
   "execution_count": 24,
   "metadata": {},
   "outputs": [
    {
     "name": "stdout",
     "output_type": "stream",
     "text": [
      "Text(0,-0.0002,'−0.0002')\n",
      "Text(0,0,'0.0000')\n",
      "Text(0,0.0002,'0.0002')\n",
      "Text(0,0.0004,'0.0004')\n",
      "Text(0,0.0006,'0.0006')\n",
      "Text(0,0.0008,'0.0008')\n",
      "Text(0,0.001,'0.0010')\n",
      "Text(0,0.0012,'0.0012')\n",
      "Text(0,0.0014,'0.0014')\n"
     ]
    }
   ],
   "source": [
    "for i in labels:\n",
    "    print(i)"
   ]
  },
  {
   "cell_type": "code",
   "execution_count": 35,
   "metadata": {},
   "outputs": [],
   "source": []
  },
  {
   "cell_type": "code",
   "execution_count": null,
   "metadata": {},
   "outputs": [],
   "source": []
  }
 ],
 "metadata": {
  "kernelspec": {
   "display_name": "Python 3",
   "language": "python",
   "name": "python3"
  },
  "language_info": {
   "codemirror_mode": {
    "name": "ipython",
    "version": 3
   },
   "file_extension": ".py",
   "mimetype": "text/x-python",
   "name": "python",
   "nbconvert_exporter": "python",
   "pygments_lexer": "ipython3",
   "version": "3.8.1"
  }
 },
 "nbformat": 4,
 "nbformat_minor": 2
}
