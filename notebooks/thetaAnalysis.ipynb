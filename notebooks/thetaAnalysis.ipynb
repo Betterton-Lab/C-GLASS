{
 "cells": [
  {
   "cell_type": "code",
   "execution_count": 9,
   "metadata": {},
   "outputs": [],
   "source": [
    "import matplotlib.pyplot as plt\n",
    "import numpy as np\n",
    "import pandas as pd\n",
    "from os import listdir"
   ]
  },
  {
   "cell_type": "code",
   "execution_count": 10,
   "metadata": {},
   "outputs": [],
   "source": [
    "def CreateMasterThetaDF(dirName=\".\"):\n",
    "    \"\"\"CreateMasterThetaDF(dirName) where dirName is the directory name of the .theta files,\n",
    "       output pandas dataframe of all theta files header data and filenames\"\"\"\n",
    "    assert isinstance(dirName, str), \"The 'dirName' argument must be a string!\"\n",
    "    fileNames = [dirName+'/'+i for i in listdir(dirName) if i[-6:] == '.theta']\n",
    "    \n",
    "    if len(fileNames)==0:\n",
    "        print(\"No '.theta' files found in directory '\"+dirName+\"'.\")\n",
    "        return\n",
    "    \n",
    "    D = {\"file_name\" : []}\n",
    "    for index,name in enumerate(fileNames):\n",
    "        f = open(name,'r')\n",
    "        for i in range(2): colNames = f.readline().split()\n",
    "        if index == 0:\n",
    "            for colName in colNames:\n",
    "                D[colName] = []\n",
    "        D[\"file_name\"].append(name)\n",
    "        simParams = f.readline().split()\n",
    "        for colIndex,colName in enumerate(colNames):\n",
    "            D[colName].append(float(simParams[colIndex]))\n",
    "        f.close()\n",
    "    df = pd.DataFrame(D)\n",
    "    return df\n",
    "\n",
    "def CreateThetaDF(fileName):\n",
    "    \"\"\"CreateThetaDF(fileName) where fileName is the name of the .theta file,\n",
    "       output pandas dataframe of .theta histogram data\"\"\"\n",
    "    assert isinstance(fileName, str), \"The 'fileName' argument must be a string!\"\n",
    "    try:\n",
    "        f = open(fileName,'r')\n",
    "    except:\n",
    "        print(\"Failed to open file '\" + fileName + \"'.\")\n",
    "        return\n",
    "    \n",
    "    for i in range(4): colNames = f.readline().split()\n",
    "    D = {}\n",
    "    for colName in colNames:\n",
    "        D[colName] = []\n",
    "    for line in f:\n",
    "        line = line.split()\n",
    "        for colIndex, colName in enumerate(colNames):\n",
    "            D[colName].append(float(line[colIndex]))\n",
    "    f.close()\n",
    "    df = pd.DataFrame(D)\n",
    "    return df"
   ]
  },
  {
   "cell_type": "code",
   "execution_count": 25,
   "metadata": {},
   "outputs": [],
   "source": [
    "def CreatePlotsMaster(master_df):\n",
    "    \"\"\"TODO\"\"\"\n",
    "    assert isinstance(master_df,pd.DataFrame), \"master_df must be pandas DataFrame type\"\n",
    "    \n",
    "    for i in master_df.index:\n",
    "        CreateThetaPlot(master_df.iloc[i])\n",
    "    \n",
    "def CreateThetaPlot(theta_series):\n",
    "    \"\"\"CreateThetaPlot(dataframe) where dataframe is a pandas Series that\n",
    "    contains the header data for a .theta file (a slice of a theta master dataframe)\"\"\"\n",
    "    \n",
    "    assert isinstance(theta_series,pd.Series),\"theta_series must be pandas Series type\"\n",
    "    if theta_series[\"n_dim\"]!=3:\n",
    "        print(\"Dimensionality must be 3D.\")\n",
    "        return\n",
    "    df=CreateThetaDF(theta_series[\"file_name\"])\n",
    "    factor = 0.5*len(df.index)*theta_series[\"n_spec\"]/theta_series[\"n_filaments\"]/theta_series[\"n_steps\"]\n",
    "    for k in range(1,len(df.columns)):\n",
    "        s = df.iloc[:,k]\n",
    "        err = pd.Series(np.zeros(len(df.index)))\n",
    "        for i,j in enumerate(s):\n",
    "            err[i] = np.sqrt(j)*factor\n",
    "        s *= factor\n",
    "        df[df.columns[k]+'_err']=err\n",
    "\n",
    "    plotEvery=100\n",
    "    plt.figure()\n",
    "    plt.errorbar(df.iloc[:,0][::plotEvery],df.iloc[:,1][::plotEvery],yerr=df['theta_12_err'][::plotEvery])\n",
    "    la = theta_series[\"persistence_length\"]/theta_series[\"bond_length\"]\n",
    "    if la == 0:\n",
    "        const = 2.0\n",
    "    else:\n",
    "        const = 2.0*np.sinh(la)/la\n",
    "    y = lambda x : np.exp(la*x)/const\n",
    "    x=np.linspace(-1.0,1.0,1000)\n",
    "    plt.plot(x,y(x),'r-')\n",
    "    if theta_series[\"persistence_length\"] == 0:\n",
    "        plt.ylim(0,1)\n",
    "    plt.title('Lp = '+str(theta_series[\"persistence_length\"])+\", L = \"+str(theta_series[\"length\"])+\", cL = \"+str(theta_series[\"bond_length\"]))\n",
    "    plt.xlabel(r'cos($\\theta$)')\n",
    "    plt.ylabel(r'P(cos($\\theta$))')\n",
    "    plt.legend([\"Simulation\",\"Theory\"],loc=2)\n",
    "    #plt.yscale(\"Log\")\n",
    "    plt.show()\n",
    "    plt.close()"
   ]
  },
  {
   "cell_type": "code",
   "execution_count": 26,
   "metadata": {},
   "outputs": [
    {
     "data": {
      "image/png": "[encoded data removed]",
      "text/plain": [
       "<Figure size 432x288 with 1 Axes>"
      ]
     },
     "metadata": {
      "needs_background": "light"
     },
     "output_type": "display_data"
    }
   ],
   "source": [
    "thetaMasterDF = CreateMasterThetaDF('../20190710_211712') # Replace '.' with directory name of .theta files\n",
    "CreatePlotsMaster(thetaMasterDF)"
   ]
  },
  {
   "cell_type": "code",
   "execution_count": 27,
   "metadata": {},
   "outputs": [
    {
     "data": {
      "image/png": "[encoded data removed]",
      "text/plain": [
       "<Figure size 432x288 with 1 Axes>"
      ]
     },
     "metadata": {
      "needs_background": "light"
     },
     "output_type": "display_data"
    }
   ],
   "source": [
    "CreateThetaPlot(thetaMasterDF.iloc[0])"
   ]
  },
  {
   "cell_type": "code",
   "execution_count": 28,
   "metadata": {},
   "outputs": [
    {
     "data": {
      "text/html": [
       "<div>\n",
       "<style scoped>\n",
       "    .dataframe tbody tr th:only-of-type {\n",
       "        vertical-align: middle;\n",
       "    }\n",
       "\n",
       "    .dataframe tbody tr th {\n",
       "        vertical-align: top;\n",
       "    }\n",
       "\n",
       "    .dataframe thead th {\n",
       "        text-align: right;\n",
       "    }\n",
       "</style>\n",
       "<table border=\"1\" class=\"dataframe\">\n",
       "  <thead>\n",
       "    <tr style=\"text-align: right;\">\n",
       "      <th></th>\n",
       "      <th>file_name</th>\n",
       "      <th>length</th>\n",
       "      <th>diameter</th>\n",
       "      <th>bond_length</th>\n",
       "      <th>persistence_length</th>\n",
       "      <th>driving</th>\n",
       "      <th>n_filaments</th>\n",
       "      <th>n_bonds</th>\n",
       "      <th>n_steps</th>\n",
       "      <th>n_spec</th>\n",
       "      <th>delta</th>\n",
       "      <th>n_dim</th>\n",
       "      <th>metric_forces</th>\n",
       "    </tr>\n",
       "  </thead>\n",
       "  <tbody>\n",
       "    <tr>\n",
       "      <th>0</th>\n",
       "      <td>../20190710_211712/diffusion_test_filament.theta</td>\n",
       "      <td>20.0</td>\n",
       "      <td>1.0</td>\n",
       "      <td>2.0</td>\n",
       "      <td>100.0</td>\n",
       "      <td>0.0</td>\n",
       "      <td>20.0</td>\n",
       "      <td>10.0</td>\n",
       "      <td>100000.0</td>\n",
       "      <td>100.0</td>\n",
       "      <td>0.0001</td>\n",
       "      <td>3.0</td>\n",
       "      <td>1.0</td>\n",
       "    </tr>\n",
       "  </tbody>\n",
       "</table>\n",
       "</div>"
      ],
      "text/plain": [
       "                                          file_name  length  diameter  \\\n",
       "0  ../20190710_211712/diffusion_test_filament.theta    20.0       1.0   \n",
       "\n",
       "   bond_length  persistence_length  driving  n_filaments  n_bonds   n_steps  \\\n",
       "0          2.0               100.0      0.0         20.0     10.0  100000.0   \n",
       "\n",
       "   n_spec   delta  n_dim  metric_forces  \n",
       "0   100.0  0.0001    3.0            1.0  "
      ]
     },
     "execution_count": 28,
     "metadata": {},
     "output_type": "execute_result"
    }
   ],
   "source": [
    "thetaMasterDF"
   ]
  },
  {
   "cell_type": "code",
   "execution_count": null,
   "metadata": {
    "collapsed": true
   },
   "outputs": [],
   "source": []
  }
 ],
 "metadata": {
  "kernelspec": {
   "display_name": "Python 3",
   "language": "python",
   "name": "python3"
  },
  "language_info": {
   "codemirror_mode": {
    "name": "ipython",
    "version": 3
   },
   "file_extension": ".py",
   "mimetype": "text/x-python",
   "name": "python",
   "nbconvert_exporter": "python",
   "pygments_lexer": "ipython3",
   "version": "3.7.3"
  }
 },
 "nbformat": 4,
 "nbformat_minor": 1
}
